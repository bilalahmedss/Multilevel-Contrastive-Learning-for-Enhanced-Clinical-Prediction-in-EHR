{
  "cells": [
    {
      "cell_type": "code",
      "execution_count": 48,
      "metadata": {},
      "outputs": [
        {
          "name": "stdout",
          "output_type": "stream",
          "text": [
            "GPU is available!\n",
            "GPU Name: NVIDIA GeForce RTX 4070 Laptop GPU\n"
          ]
        }
      ],
      "source": [
        "import torch\n",
        "# Check if GPU is available\n",
        "gpu_available = torch.cuda.is_available()\n",
        "\n",
        "if gpu_available:\n",
        "    print(\"GPU is available!\")\n",
        "    print(\"GPU Name:\", torch.cuda.get_device_name(0))  # Get GPU name if available\n",
        "else:\n",
        "    print(\"GPU is not available.\")\n"
      ]
    },
    {
      "cell_type": "code",
      "execution_count": null,
      "metadata": {},
      "outputs": [
        {
          "name": "stdout",
          "output_type": "stream",
          "text": [
            "Extracted and renamed folder to: d:\\sem5\\CV\\CV Project\\Implementation\\mimiciii\n"
          ]
        }
      ],
      "source": [
        "import zipfile\n",
        "import os\n",
        "import shutil\n",
        "\n",
        "# Get the current working directory\n",
        "current_directory = os.getcwd()\n",
        "zip_path = os.path.join(current_directory, \"mimiciii.zip\")\n",
        "extract_folder = current_directory\n",
        "\n",
        "# Extract the zip file\n",
        "if os.path.exists(zip_path): \n",
        "    with zipfile.ZipFile(zip_path, 'r') as zip_ref:\n",
        "        zip_ref.extractall(extract_folder)\n",
        "\n",
        "        # Rename the extracted folder to mimiciii\n",
        "        extracted_folder_name = os.path.commonprefix(zip_ref.namelist()).strip(\"/\").strip(\"\\\\\")  \n",
        "        extracted_path = os.path.join(extract_folder, extracted_folder_name)  \n",
        "        final_folder = os.path.join(extract_folder, \"mimiciii\")  \n",
        "        # Check if the target folder already exists and delete it\n",
        "        if os.path.exists(final_folder):\n",
        "            shutil.rmtree(final_folder)  \n",
        "            \n",
        "        # Rename the extracted folder\n",
        "        if os.path.exists(extracted_path):\n",
        "            os.rename(extracted_path, final_folder)\n",
        "            print(f\"Extracted and renamed folder to: {final_folder}\")\n",
        "        else:\n",
        "            print(\"Error: Extracted folder not found.\")\n",
        "else:\n",
        "    print(f\"Error: '{zip_path}' not found in the current directory.\")   "
      ]
    },
    {
      "cell_type": "markdown",
      "metadata": {},
      "source": [
        "### Load and Preview MIMIC-III Tables"
      ]
    },
    {
      "cell_type": "code",
      "execution_count": null,
      "metadata": {
        "colab": {
          "base_uri": "https://localhost:8080/"
        },
        "id": "EcypL6sP3WKn",
        "outputId": "dd8eba7a-5e43-4e6b-ce55-f2c76dfb100e"
      },
      "outputs": [
        {
          "name": "stdout",
          "output_type": "stream",
          "text": [
            "Loading ADMISSIONS.csv (0.03 MB)...\n",
            "Loading PATIENTS.csv (0.01 MB)...\n",
            "Loading ICUSTAYS.csv (0.01 MB)...\n",
            "Loading LABEVENTS.csv (4.54 MB)...\n",
            "Loading CHARTEVENTS.csv (74.13 MB)...\n",
            "\n",
            "ADMISSIONS Table Preview:\n",
            "   row_id  subject_id  hadm_id            admittime            dischtime  \\\n",
            "0   12258       10006   142345  2164-10-23 21:09:00  2164-11-01 17:15:00   \n",
            "1   12263       10011   105331  2126-08-14 22:32:00  2126-08-28 18:59:00   \n",
            "2   12265       10013   165520  2125-10-04 23:36:00  2125-10-07 15:13:00   \n",
            "3   12269       10017   199207  2149-05-26 17:19:00  2149-06-03 18:42:00   \n",
            "4   12270       10019   177759  2163-05-14 20:43:00  2163-05-15 12:00:00   \n",
            "\n",
            "             deathtime admission_type         admission_location  \\\n",
            "0                  NaN      EMERGENCY       EMERGENCY ROOM ADMIT   \n",
            "1  2126-08-28 18:59:00      EMERGENCY  TRANSFER FROM HOSP/EXTRAM   \n",
            "2  2125-10-07 15:13:00      EMERGENCY  TRANSFER FROM HOSP/EXTRAM   \n",
            "3                  NaN      EMERGENCY       EMERGENCY ROOM ADMIT   \n",
            "4  2163-05-15 12:00:00      EMERGENCY  TRANSFER FROM HOSP/EXTRAM   \n",
            "\n",
            "  discharge_location insurance language  religion marital_status  \\\n",
            "0   HOME HEALTH CARE  Medicare      NaN  CATHOLIC      SEPARATED   \n",
            "1       DEAD/EXPIRED   Private      NaN  CATHOLIC         SINGLE   \n",
            "2       DEAD/EXPIRED  Medicare      NaN  CATHOLIC            NaN   \n",
            "3                SNF  Medicare      NaN  CATHOLIC       DIVORCED   \n",
            "4       DEAD/EXPIRED  Medicare      NaN  CATHOLIC       DIVORCED   \n",
            "\n",
            "                ethnicity            edregtime            edouttime  \\\n",
            "0  BLACK/AFRICAN AMERICAN  2164-10-23 16:43:00  2164-10-23 23:00:00   \n",
            "1   UNKNOWN/NOT SPECIFIED                  NaN                  NaN   \n",
            "2   UNKNOWN/NOT SPECIFIED                  NaN                  NaN   \n",
            "3                   WHITE  2149-05-26 12:08:00  2149-05-26 19:45:00   \n",
            "4                   WHITE                  NaN                  NaN   \n",
            "\n",
            "             diagnosis  hospital_expire_flag  has_chartevents_data  \n",
            "0               SEPSIS                     0                     1  \n",
            "1          HEPATITIS B                     1                     1  \n",
            "2               SEPSIS                     1                     1  \n",
            "3     HUMERAL FRACTURE                     0                     1  \n",
            "4  ALCOHOLIC HEPATITIS                     1                     1  \n",
            "\n",
            "ADMISSIONS Table Info:\n",
            "<class 'pandas.core.frame.DataFrame'>\n",
            "RangeIndex: 129 entries, 0 to 128\n",
            "Data columns (total 19 columns):\n",
            " #   Column                Non-Null Count  Dtype \n",
            "---  ------                --------------  ----- \n",
            " 0   row_id                129 non-null    int64 \n",
            " 1   subject_id            129 non-null    int64 \n",
            " 2   hadm_id               129 non-null    int64 \n",
            " 3   admittime             129 non-null    object\n",
            " 4   dischtime             129 non-null    object\n",
            " 5   deathtime             40 non-null     object\n",
            " 6   admission_type        129 non-null    object\n",
            " 7   admission_location    129 non-null    object\n",
            " 8   discharge_location    129 non-null    object\n",
            " 9   insurance             129 non-null    object\n",
            " 10  language              81 non-null     object\n",
            " 11  religion              128 non-null    object\n",
            " 12  marital_status        113 non-null    object\n",
            " 13  ethnicity             129 non-null    object\n",
            " 14  edregtime             92 non-null     object\n",
            " 15  edouttime             92 non-null     object\n",
            " 16  diagnosis             129 non-null    object\n",
            " 17  hospital_expire_flag  129 non-null    int64 \n",
            " 18  has_chartevents_data  129 non-null    int64 \n",
            "dtypes: int64(5), object(14)\n",
            "memory usage: 19.3+ KB\n",
            "None\n",
            "\n",
            "ADMISSIONS Table Description (Numeric Columns):\n",
            "              row_id    subject_id        hadm_id            admittime  \\\n",
            "count     129.000000    129.000000     129.000000                  129   \n",
            "unique           NaN           NaN            NaN                  129   \n",
            "top              NaN           NaN            NaN  2164-10-23 21:09:00   \n",
            "freq             NaN           NaN            NaN                    1   \n",
            "mean    28036.441860  28010.410853  152343.441860                  NaN   \n",
            "std     14036.548988  16048.502883   27858.788248                  NaN   \n",
            "min     12258.000000  10006.000000  100375.000000                  NaN   \n",
            "25%     12339.000000  10088.000000  128293.000000                  NaN   \n",
            "50%     39869.000000  40310.000000  157235.000000                  NaN   \n",
            "75%     40463.000000  42135.000000  174739.000000                  NaN   \n",
            "max     41092.000000  44228.000000  199395.000000                  NaN   \n",
            "\n",
            "                  dischtime            deathtime admission_type  \\\n",
            "count                   129                   40            129   \n",
            "unique                  129                   40              3   \n",
            "top     2164-11-01 17:15:00  2126-08-28 18:59:00      EMERGENCY   \n",
            "freq                      1                    1            119   \n",
            "mean                    NaN                  NaN            NaN   \n",
            "std                     NaN                  NaN            NaN   \n",
            "min                     NaN                  NaN            NaN   \n",
            "25%                     NaN                  NaN            NaN   \n",
            "50%                     NaN                  NaN            NaN   \n",
            "75%                     NaN                  NaN            NaN   \n",
            "max                     NaN                  NaN            NaN   \n",
            "\n",
            "          admission_location discharge_location insurance language  religion  \\\n",
            "count                    129                129       129       81       128   \n",
            "unique                     5                 10         4        5        10   \n",
            "top     EMERGENCY ROOM ADMIT       DEAD/EXPIRED  Medicare     ENGL  CATHOLIC   \n",
            "freq                      81                 40        98       58        59   \n",
            "mean                     NaN                NaN       NaN      NaN       NaN   \n",
            "std                      NaN                NaN       NaN      NaN       NaN   \n",
            "min                      NaN                NaN       NaN      NaN       NaN   \n",
            "25%                      NaN                NaN       NaN      NaN       NaN   \n",
            "50%                      NaN                NaN       NaN      NaN       NaN   \n",
            "75%                      NaN                NaN       NaN      NaN       NaN   \n",
            "max                      NaN                NaN       NaN      NaN       NaN   \n",
            "\n",
            "       marital_status ethnicity            edregtime            edouttime  \\\n",
            "count             113       129                   92                   92   \n",
            "unique              6         9                   92                   92   \n",
            "top           MARRIED     WHITE  2164-10-23 16:43:00  2164-10-23 23:00:00   \n",
            "freq               60        86                    1                    1   \n",
            "mean              NaN       NaN                  NaN                  NaN   \n",
            "std               NaN       NaN                  NaN                  NaN   \n",
            "min               NaN       NaN                  NaN                  NaN   \n",
            "25%               NaN       NaN                  NaN                  NaN   \n",
            "50%               NaN       NaN                  NaN                  NaN   \n",
            "75%               NaN       NaN                  NaN                  NaN   \n",
            "max               NaN       NaN                  NaN                  NaN   \n",
            "\n",
            "       diagnosis  hospital_expire_flag  has_chartevents_data  \n",
            "count        129            129.000000            129.000000  \n",
            "unique        95                   NaN                   NaN  \n",
            "top       SEPSIS                   NaN                   NaN  \n",
            "freq          10                   NaN                   NaN  \n",
            "mean         NaN              0.310078              0.992248  \n",
            "std          NaN              0.464328              0.088045  \n",
            "min          NaN              0.000000              0.000000  \n",
            "25%          NaN              0.000000              1.000000  \n",
            "50%          NaN              0.000000              1.000000  \n",
            "75%          NaN              1.000000              1.000000  \n",
            "max          NaN              1.000000              1.000000  \n",
            "\n",
            "PATIENTS Table Preview:\n",
            "   row_id  subject_id gender                  dob                  dod  \\\n",
            "0    9467       10006      F  2094-03-05 00:00:00  2165-08-12 00:00:00   \n",
            "1    9472       10011      F  2090-06-05 00:00:00  2126-08-28 00:00:00   \n",
            "2    9474       10013      F  2038-09-03 00:00:00  2125-10-07 00:00:00   \n",
            "3    9478       10017      F  2075-09-21 00:00:00  2152-09-12 00:00:00   \n",
            "4    9479       10019      M  2114-06-20 00:00:00  2163-05-15 00:00:00   \n",
            "\n",
            "              dod_hosp              dod_ssn  expire_flag  \n",
            "0  2165-08-12 00:00:00  2165-08-12 00:00:00            1  \n",
            "1  2126-08-28 00:00:00                  NaN            1  \n",
            "2  2125-10-07 00:00:00  2125-10-07 00:00:00            1  \n",
            "3                  NaN  2152-09-12 00:00:00            1  \n",
            "4  2163-05-15 00:00:00  2163-05-15 00:00:00            1  \n",
            "\n",
            "PATIENTS Table Info:\n",
            "<class 'pandas.core.frame.DataFrame'>\n",
            "RangeIndex: 100 entries, 0 to 99\n",
            "Data columns (total 8 columns):\n",
            " #   Column       Non-Null Count  Dtype \n",
            "---  ------       --------------  ----- \n",
            " 0   row_id       100 non-null    int64 \n",
            " 1   subject_id   100 non-null    int64 \n",
            " 2   gender       100 non-null    object\n",
            " 3   dob          100 non-null    object\n",
            " 4   dod          100 non-null    object\n",
            " 5   dod_hosp     70 non-null     object\n",
            " 6   dod_ssn      77 non-null     object\n",
            " 7   expire_flag  100 non-null    int64 \n",
            "dtypes: int64(3), object(5)\n",
            "memory usage: 6.4+ KB\n",
            "None\n",
            "\n",
            "PATIENTS Table Description (Numeric Columns):\n",
            "              row_id    subject_id gender                  dob  \\\n",
            "count     100.000000    100.000000    100                  100   \n",
            "unique           NaN           NaN      2                   99   \n",
            "top              NaN           NaN      F  2058-04-23 00:00:00   \n",
            "freq             NaN           NaN     55                    2   \n",
            "mean    20452.580000  26162.330000    NaN                  NaN   \n",
            "std     10982.043163  16201.834705    NaN                  NaN   \n",
            "min      9467.000000  10006.000000    NaN                  NaN   \n",
            "25%      9526.500000  10068.500000    NaN                  NaN   \n",
            "50%     20209.000000  25128.000000    NaN                  NaN   \n",
            "75%     31391.250000  42276.500000    NaN                  NaN   \n",
            "max     31872.000000  44228.000000    NaN                  NaN   \n",
            "\n",
            "                        dod             dod_hosp              dod_ssn  \\\n",
            "count                   100                   70                   77   \n",
            "unique                  100                   70                   77   \n",
            "top     2165-08-12 00:00:00  2165-08-12 00:00:00  2165-08-12 00:00:00   \n",
            "freq                      1                    1                    1   \n",
            "mean                    NaN                  NaN                  NaN   \n",
            "std                     NaN                  NaN                  NaN   \n",
            "min                     NaN                  NaN                  NaN   \n",
            "25%                     NaN                  NaN                  NaN   \n",
            "50%                     NaN                  NaN                  NaN   \n",
            "75%                     NaN                  NaN                  NaN   \n",
            "max                     NaN                  NaN                  NaN   \n",
            "\n",
            "        expire_flag  \n",
            "count         100.0  \n",
            "unique          NaN  \n",
            "top             NaN  \n",
            "freq            NaN  \n",
            "mean            1.0  \n",
            "std             0.0  \n",
            "min             1.0  \n",
            "25%             1.0  \n",
            "50%             1.0  \n",
            "75%             1.0  \n",
            "max             1.0  \n",
            "\n",
            "ICUSTAYS Table Preview:\n",
            "   row_id  subject_id  hadm_id  icustay_id dbsource first_careunit  \\\n",
            "0   12742       10006   142345      206504  carevue           MICU   \n",
            "1   12747       10011   105331      232110  carevue           MICU   \n",
            "2   12749       10013   165520      264446  carevue           MICU   \n",
            "3   12754       10017   199207      204881  carevue            CCU   \n",
            "4   12755       10019   177759      228977  carevue           MICU   \n",
            "\n",
            "  last_careunit  first_wardid  last_wardid               intime  \\\n",
            "0          MICU            52           52  2164-10-23 21:10:15   \n",
            "1          MICU            15           15  2126-08-14 22:34:00   \n",
            "2          MICU            15           15  2125-10-04 23:38:00   \n",
            "3           CCU             7            7  2149-05-29 18:52:29   \n",
            "4          MICU            15           15  2163-05-14 20:43:56   \n",
            "\n",
            "               outtime      los  \n",
            "0  2164-10-25 12:21:07   1.6325  \n",
            "1  2126-08-28 18:59:00  13.8507  \n",
            "2  2125-10-07 15:13:52   2.6499  \n",
            "3  2149-05-31 22:19:17   2.1436  \n",
            "4  2163-05-16 03:47:04   1.2938  \n",
            "\n",
            "ICUSTAYS Table Info:\n",
            "<class 'pandas.core.frame.DataFrame'>\n",
            "RangeIndex: 136 entries, 0 to 135\n",
            "Data columns (total 12 columns):\n",
            " #   Column          Non-Null Count  Dtype  \n",
            "---  ------          --------------  -----  \n",
            " 0   row_id          136 non-null    int64  \n",
            " 1   subject_id      136 non-null    int64  \n",
            " 2   hadm_id         136 non-null    int64  \n",
            " 3   icustay_id      136 non-null    int64  \n",
            " 4   dbsource        136 non-null    object \n",
            " 5   first_careunit  136 non-null    object \n",
            " 6   last_careunit   136 non-null    object \n",
            " 7   first_wardid    136 non-null    int64  \n",
            " 8   last_wardid     136 non-null    int64  \n",
            " 9   intime          136 non-null    object \n",
            " 10  outtime         136 non-null    object \n",
            " 11  los             136 non-null    float64\n",
            "dtypes: float64(1), int64(6), object(5)\n",
            "memory usage: 12.9+ KB\n",
            "None\n",
            "\n",
            "ICUSTAYS Table Description (Numeric Columns):\n",
            "              row_id    subject_id        hadm_id     icustay_id    dbsource  \\\n",
            "count     136.000000    136.000000     136.000000     136.000000         136   \n",
            "unique           NaN           NaN            NaN            NaN           2   \n",
            "top              NaN           NaN            NaN            NaN  metavision   \n",
            "freq             NaN           NaN            NaN            NaN          77   \n",
            "mean    29370.316176  28263.485294  153259.566176  250980.470588         NaN   \n",
            "std     14550.435239  16008.281510   28054.220280   28455.125832         NaN   \n",
            "min     12742.000000  10006.000000  100375.000000  201006.000000         NaN   \n",
            "25%     12826.750000  10089.750000  129028.000000  224359.250000         NaN   \n",
            "50%     41427.000000  40307.000000  157724.000000  250055.000000         NaN   \n",
            "75%     42073.750000  42207.000000  174896.500000  277279.250000         NaN   \n",
            "max     42714.000000  44228.000000  199395.000000  298685.000000         NaN   \n",
            "\n",
            "       first_careunit last_careunit  first_wardid  last_wardid  \\\n",
            "count             136           136    136.000000   136.000000   \n",
            "unique              5             5           NaN          NaN   \n",
            "top              MICU          MICU           NaN          NaN   \n",
            "freq               77            74           NaN          NaN   \n",
            "mean              NaN           NaN     34.470588    34.022059   \n",
            "std               NaN           NaN     18.876182    19.280951   \n",
            "min               NaN           NaN      7.000000     7.000000   \n",
            "25%               NaN           NaN     14.750000    14.000000   \n",
            "50%               NaN           NaN     33.000000    33.000000   \n",
            "75%               NaN           NaN     52.000000    52.000000   \n",
            "max               NaN           NaN     57.000000    57.000000   \n",
            "\n",
            "                     intime              outtime         los  \n",
            "count                   136                  136  136.000000  \n",
            "unique                  136                  136         NaN  \n",
            "top     2164-10-23 21:10:15  2164-10-25 12:21:07         NaN  \n",
            "freq                      1                    1         NaN  \n",
            "mean                    NaN                  NaN    4.452457  \n",
            "std                     NaN                  NaN    6.196828  \n",
            "min                     NaN                  NaN    0.105900  \n",
            "25%                     NaN                  NaN    1.233525  \n",
            "50%                     NaN                  NaN    2.111450  \n",
            "75%                     NaN                  NaN    4.329050  \n",
            "max                     NaN                  NaN   35.406500  \n",
            "\n",
            "LABEVENTS Table Preview:\n",
            "    row_id  subject_id  hadm_id  itemid            charttime value  valuenum  \\\n",
            "0  6244563       10006      NaN   50868  2164-09-24 20:21:00    19      19.0   \n",
            "1  6244564       10006      NaN   50882  2164-09-24 20:21:00    27      27.0   \n",
            "2  6244565       10006      NaN   50893  2164-09-24 20:21:00  10.0      10.0   \n",
            "3  6244566       10006      NaN   50902  2164-09-24 20:21:00    97      97.0   \n",
            "4  6244567       10006      NaN   50912  2164-09-24 20:21:00   7.0       7.0   \n",
            "\n",
            "  valueuom      flag  \n",
            "0    mEq/L       NaN  \n",
            "1    mEq/L       NaN  \n",
            "2    mg/dL       NaN  \n",
            "3    mEq/L       NaN  \n",
            "4    mg/dL  abnormal  \n",
            "\n",
            "LABEVENTS Table Info:\n",
            "<class 'pandas.core.frame.DataFrame'>\n",
            "RangeIndex: 10000 entries, 0 to 9999\n",
            "Data columns (total 9 columns):\n",
            " #   Column      Non-Null Count  Dtype  \n",
            "---  ------      --------------  -----  \n",
            " 0   row_id      10000 non-null  int64  \n",
            " 1   subject_id  10000 non-null  int64  \n",
            " 2   hadm_id     6999 non-null   float64\n",
            " 3   itemid      10000 non-null  int64  \n",
            " 4   charttime   10000 non-null  object \n",
            " 5   value       10000 non-null  object \n",
            " 6   valuenum    8730 non-null   float64\n",
            " 7   valueuom    8770 non-null   object \n",
            " 8   flag        3903 non-null   object \n",
            "dtypes: float64(2), int64(3), object(4)\n",
            "memory usage: 703.3+ KB\n",
            "None\n",
            "\n",
            "LABEVENTS Table Description (Numeric Columns):\n",
            "              row_id    subject_id        hadm_id        itemid  \\\n",
            "count   1.000000e+04  10000.000000    6999.000000  10000.000000   \n",
            "unique           NaN           NaN            NaN           NaN   \n",
            "top              NaN           NaN            NaN           NaN   \n",
            "freq             NaN           NaN            NaN           NaN   \n",
            "mean    6.252515e+06  10027.375300  144796.926990  51084.621800   \n",
            "std     4.924061e+03     14.523834   31219.558581    211.246584   \n",
            "min     6.244563e+06  10006.000000  103770.000000  50800.000000   \n",
            "25%     6.247953e+06  10011.000000  124073.000000  50893.000000   \n",
            "50%     6.252378e+06  10029.000000  140372.000000  51006.000000   \n",
            "75%     6.257711e+06  10042.000000  168674.000000  51256.000000   \n",
            "max     6.260220e+06  10045.000000  199395.000000  51523.000000   \n",
            "\n",
            "                  charttime  value      valuenum valueuom      flag  \n",
            "count                 10000  10000   8730.000000     8770      3903  \n",
            "unique                  742   1328           NaN       37         2  \n",
            "top     2185-03-24 13:00:00    NEG           NaN    mg/dL  abnormal  \n",
            "freq                     78    287           NaN     1894      3869  \n",
            "mean                    NaN    NaN     53.861332      NaN       NaN  \n",
            "std                     NaN    NaN    235.096734      NaN       NaN  \n",
            "min                     NaN    NaN    -18.000000      NaN       NaN  \n",
            "25%                     NaN    NaN      4.300000      NaN       NaN  \n",
            "50%                     NaN    NaN     18.050000      NaN       NaN  \n",
            "75%                     NaN    NaN     58.000000      NaN       NaN  \n",
            "max                     NaN    NaN  14791.000000      NaN       NaN  \n",
            "\n",
            "CHARTEVENTS Table Preview:\n",
            "    row_id  subject_id  hadm_id  icustay_id  itemid            charttime  \\\n",
            "0  5279021       40124   126179    279554.0  223761  2130-02-04 04:00:00   \n",
            "1  5279022       40124   126179    279554.0  224695  2130-02-04 04:25:00   \n",
            "2  5279023       40124   126179    279554.0  220210  2130-02-04 04:30:00   \n",
            "3  5279024       40124   126179    279554.0  220045  2130-02-04 04:32:00   \n",
            "4  5279025       40124   126179    279554.0  220179  2130-02-04 04:32:00   \n",
            "\n",
            "             storetime   cgid      value   valuenum  valueuom  warning  error  \\\n",
            "0  2130-02-04 04:35:00  19085       95.9       95.9        ?F        0      0   \n",
            "1  2130-02-04 05:55:00  18999  2222221.7  2222221.7     cmH2O        0      0   \n",
            "2  2130-02-04 04:43:00  21452       15.0       15.0  insp/min        0      0   \n",
            "3  2130-02-04 04:43:00  21452       94.0       94.0       bpm        0      0   \n",
            "4  2130-02-04 04:43:00  21452      163.0      163.0      mmHg        0      0   \n",
            "\n",
            "   resultstatus  stopped  \n",
            "0           NaN      NaN  \n",
            "1           NaN      NaN  \n",
            "2           NaN      NaN  \n",
            "3           NaN      NaN  \n",
            "4           NaN      NaN  \n",
            "\n",
            "CHARTEVENTS Table Info:\n",
            "<class 'pandas.core.frame.DataFrame'>\n",
            "RangeIndex: 10000 entries, 0 to 9999\n",
            "Data columns (total 15 columns):\n",
            " #   Column        Non-Null Count  Dtype  \n",
            "---  ------        --------------  -----  \n",
            " 0   row_id        10000 non-null  int64  \n",
            " 1   subject_id    10000 non-null  int64  \n",
            " 2   hadm_id       10000 non-null  int64  \n",
            " 3   icustay_id    9993 non-null   float64\n",
            " 4   itemid        10000 non-null  int64  \n",
            " 5   charttime     10000 non-null  object \n",
            " 6   storetime     10000 non-null  object \n",
            " 7   cgid          10000 non-null  int64  \n",
            " 8   value         10000 non-null  float64\n",
            " 9   valuenum      10000 non-null  float64\n",
            " 10  valueuom      9418 non-null   object \n",
            " 11  warning       10000 non-null  int64  \n",
            " 12  error         10000 non-null  int64  \n",
            " 13  resultstatus  0 non-null      float64\n",
            " 14  stopped       0 non-null      float64\n",
            "dtypes: float64(5), int64(7), object(3)\n",
            "memory usage: 1.1+ MB\n",
            "None\n",
            "\n",
            "CHARTEVENTS Table Description (Numeric Columns):\n",
            "              row_id    subject_id        hadm_id     icustay_id  \\\n",
            "count   1.000000e+04  10000.000000   10000.000000    9993.000000   \n",
            "unique           NaN           NaN            NaN            NaN   \n",
            "top              NaN           NaN            NaN            NaN   \n",
            "freq             NaN           NaN            NaN            NaN   \n",
            "mean    5.358489e+06  40263.706400  173135.312100  229884.441909   \n",
            "std     4.312717e+04     74.102782   24532.607586   27166.202308   \n",
            "min     5.279021e+06  40124.000000  109698.000000  210989.000000   \n",
            "25%     5.353144e+06  40204.000000  146893.000000  210989.000000   \n",
            "50%     5.384286e+06  40310.000000  186361.000000  210989.000000   \n",
            "75%     5.386785e+06  40310.000000  186361.000000  261743.000000   \n",
            "max     5.389285e+06  40310.000000  198480.000000  285750.000000   \n",
            "\n",
            "               itemid            charttime            storetime          cgid  \\\n",
            "count    10000.000000                10000                10000  10000.000000   \n",
            "unique            NaN                 1260                 1703           NaN   \n",
            "top               NaN  2144-07-13 04:00:00  2193-10-16 00:32:00           NaN   \n",
            "freq              NaN                   54                   49           NaN   \n",
            "mean    222207.246500                  NaN                  NaN  18777.275400   \n",
            "std       2481.017172                  NaN                  NaN   2131.584506   \n",
            "min     220045.000000                  NaN                  NaN  14419.000000   \n",
            "25%     220179.000000                  NaN                  NaN  17219.000000   \n",
            "50%     220292.000000                  NaN                  NaN  18999.000000   \n",
            "75%     224639.000000                  NaN                  NaN  20889.000000   \n",
            "max     227586.000000                  NaN                  NaN  21484.000000   \n",
            "\n",
            "               value      valuenum valueuom       warning         error  \\\n",
            "count   1.000000e+04  1.000000e+04     9418  10000.000000  10000.000000   \n",
            "unique           NaN           NaN       27           NaN           NaN   \n",
            "top              NaN           NaN     mmHg           NaN           NaN   \n",
            "freq             NaN           NaN     2707           NaN           NaN   \n",
            "mean    3.303236e+02  3.303236e+02      NaN      0.094900      0.002600   \n",
            "std     2.222398e+04  2.222398e+04      NaN      0.293091      0.050926   \n",
            "min    -1.600000e+01 -1.600000e+01      NaN      0.000000      0.000000   \n",
            "25%     1.400000e+01  1.400000e+01      NaN      0.000000      0.000000   \n",
            "50%     5.500000e+01  5.500000e+01      NaN      0.000000      0.000000   \n",
            "75%     9.800000e+01  9.800000e+01      NaN      0.000000      0.000000   \n",
            "max     2.222222e+06  2.222222e+06      NaN      1.000000      1.000000   \n",
            "\n",
            "        resultstatus  stopped  \n",
            "count            0.0      0.0  \n",
            "unique           NaN      NaN  \n",
            "top              NaN      NaN  \n",
            "freq             NaN      NaN  \n",
            "mean             NaN      NaN  \n",
            "std              NaN      NaN  \n",
            "min              NaN      NaN  \n",
            "25%              NaN      NaN  \n",
            "50%              NaN      NaN  \n",
            "75%              NaN      NaN  \n",
            "max              NaN      NaN  \n"
          ]
        }
      ],
      "source": [
        "import os\n",
        "import pandas as pd\n",
        "from tqdm import tqdm\n",
        "\n",
        "# Path to dataset folder\n",
        "data_path = final_folder\n",
        "if not os.path.exists(data_path):\n",
        "    raise ValueError(f\"Data path {data_path} does not exist!\")\n",
        "\n",
        "# Function to load table with optional row limit\n",
        "def load_table(file_name, data_path, nrows=None):\n",
        "    file_path = os.path.join(data_path, file_name)\n",
        "    file_size = os.path.getsize(file_path) / (1024 ** 2) \n",
        "    print(f\"Loading {file_name} ({file_size:.2f} MB)...\")\n",
        "    return pd.read_csv(file_path, nrows=nrows)\n",
        "\n",
        "# Load key tables with limited rows for exploration where necessary\n",
        "admissions_data = load_table(\"ADMISSIONS.csv\", data_path)\n",
        "patients_data = load_table(\"PATIENTS.csv\", data_path)\n",
        "icustays_data = load_table(\"ICUSTAYS.csv\", data_path)\n",
        "labs_data = load_table(\"LABEVENTS.csv\", data_path, nrows=10000)\n",
        "chart_data = load_table(\"CHARTEVENTS.csv\", data_path, nrows=10000)\n",
        "\n",
        "# Display previews with info\n",
        "def preview_table(table, name):\n",
        "    print(f\"\\n{name} Table Preview:\")\n",
        "    print(table.head())\n",
        "    print(f\"\\n{name} Table Info:\")\n",
        "    print(table.info())\n",
        "    print(f\"\\n{name} Table Description (Numeric Columns):\")\n",
        "    print(table.describe(include='all'))\n",
        "\n",
        "# Preview each table\n",
        "preview_table(admissions_data, \"ADMISSIONS\")\n",
        "preview_table(patients_data, \"PATIENTS\")\n",
        "preview_table(icustays_data, \"ICUSTAYS\")\n",
        "preview_table(labs_data, \"LABEVENTS\")\n",
        "preview_table(chart_data, \"CHARTEVENTS\")\n"
      ]
    },
    {
      "cell_type": "markdown",
      "metadata": {
        "id": "aNIkntUg3Df_"
      },
      "source": [
        "### Handle Missing Values Across MIMIC-III Tables"
      ]
    },
    {
      "cell_type": "code",
      "execution_count": 51,
      "metadata": {
        "colab": {
          "base_uri": "https://localhost:8080/"
        },
        "id": "pyZwAATC3Df_",
        "outputId": "c89dcfa7-cd56-4753-e4ed-b76926632048"
      },
      "outputs": [
        {
          "name": "stdout",
          "output_type": "stream",
          "text": [
            "\n",
            "Missing Values in ADMISSIONS (Before):\n",
            "row_id                   0\n",
            "subject_id               0\n",
            "hadm_id                  0\n",
            "admittime                0\n",
            "dischtime                0\n",
            "deathtime               89\n",
            "admission_type           0\n",
            "admission_location       0\n",
            "discharge_location       0\n",
            "insurance                0\n",
            "language                48\n",
            "religion                 1\n",
            "marital_status          16\n",
            "ethnicity                0\n",
            "edregtime               37\n",
            "edouttime               37\n",
            "diagnosis                0\n",
            "hospital_expire_flag     0\n",
            "has_chartevents_data     0\n",
            "dtype: int64\n",
            "\n",
            "Missing Values in ADMISSIONS (After):\n",
            "row_id                   0\n",
            "subject_id               0\n",
            "hadm_id                  0\n",
            "admittime                0\n",
            "dischtime                0\n",
            "deathtime               89\n",
            "admission_type           0\n",
            "admission_location       0\n",
            "discharge_location       0\n",
            "insurance                0\n",
            "language                 0\n",
            "religion                 0\n",
            "marital_status           0\n",
            "ethnicity                0\n",
            "edregtime                0\n",
            "edouttime                0\n",
            "diagnosis                0\n",
            "hospital_expire_flag     0\n",
            "has_chartevents_data     0\n",
            "dtype: int64\n",
            "\n",
            "Missing Values in PATIENTS (Before):\n",
            "row_id          0\n",
            "subject_id      0\n",
            "gender          0\n",
            "dob             0\n",
            "dod             0\n",
            "dod_hosp       30\n",
            "dod_ssn        23\n",
            "expire_flag     0\n",
            "dtype: int64\n",
            "\n",
            "Missing Values in PATIENTS (After):\n",
            "row_id         0\n",
            "subject_id     0\n",
            "gender         0\n",
            "dob            0\n",
            "dod            0\n",
            "dod_hosp       0\n",
            "dod_ssn        0\n",
            "expire_flag    0\n",
            "dtype: int64\n",
            "\n",
            "Missing Values in ICUSTAYS (Before):\n",
            "row_id            0\n",
            "subject_id        0\n",
            "hadm_id           0\n",
            "icustay_id        0\n",
            "dbsource          0\n",
            "first_careunit    0\n",
            "last_careunit     0\n",
            "first_wardid      0\n",
            "last_wardid       0\n",
            "intime            0\n",
            "outtime           0\n",
            "los               0\n",
            "dtype: int64\n",
            "\n",
            "Missing Values in ICUSTAYS (After):\n",
            "row_id            0\n",
            "subject_id        0\n",
            "hadm_id           0\n",
            "icustay_id        0\n",
            "dbsource          0\n",
            "first_careunit    0\n",
            "last_careunit     0\n",
            "first_wardid      0\n",
            "last_wardid       0\n",
            "intime            0\n",
            "outtime           0\n",
            "los               0\n",
            "dtype: int64\n",
            "\n",
            "Missing Values in LABEVENTS (Before):\n",
            "row_id           0\n",
            "subject_id       0\n",
            "hadm_id       3001\n",
            "itemid           0\n",
            "charttime        0\n",
            "value            0\n",
            "valuenum      1270\n",
            "valueuom      1230\n",
            "flag          6097\n",
            "dtype: int64\n",
            "\n",
            "Missing Values in LABEVENTS (After):\n",
            "row_id           0\n",
            "subject_id       0\n",
            "hadm_id       3001\n",
            "itemid           0\n",
            "charttime        0\n",
            "value            0\n",
            "valuenum         0\n",
            "valueuom      1230\n",
            "flag          6097\n",
            "dtype: int64\n",
            "\n",
            "Missing Values in CHARTEVENTS (Before):\n",
            "row_id              0\n",
            "subject_id          0\n",
            "hadm_id             0\n",
            "icustay_id          7\n",
            "itemid              0\n",
            "charttime           0\n",
            "storetime           0\n",
            "cgid                0\n",
            "value               0\n",
            "valuenum            0\n",
            "valueuom          582\n",
            "warning             0\n",
            "error               0\n",
            "resultstatus    10000\n",
            "stopped         10000\n",
            "dtype: int64\n",
            "\n",
            "Missing Values in CHARTEVENTS (After):\n",
            "row_id          0\n",
            "subject_id      0\n",
            "hadm_id         0\n",
            "icustay_id      7\n",
            "itemid          0\n",
            "charttime       0\n",
            "storetime       0\n",
            "cgid            0\n",
            "value           0\n",
            "valuenum        0\n",
            "valueuom      582\n",
            "warning         0\n",
            "error           0\n",
            "dtype: int64\n"
          ]
        }
      ],
      "source": [
        "# Function to fill missing values for categorical columns\n",
        "def fill_categorical(df, columns, fill_value):\n",
        "    for col in columns:\n",
        "        df[col] = df[col].fillna(fill_value)\n",
        "\n",
        "# For ADMISSIONS.csv\n",
        "print(\"\\nMissing Values in ADMISSIONS (Before):\")\n",
        "print(admissions_data.isnull().sum())\n",
        "\n",
        "fill_categorical(admissions_data, [\n",
        "    'admission_location', 'discharge_location', 'language', \n",
        "    'religion', 'marital_status', 'edregtime', 'edouttime'\n",
        "], 'Unknown')\n",
        "\n",
        "print(\"\\nMissing Values in ADMISSIONS (After):\")\n",
        "print(admissions_data.isnull().sum())\n",
        "\n",
        "# For PATIENTS.csv\n",
        "print(\"\\nMissing Values in PATIENTS (Before):\")\n",
        "print(patients_data.isnull().sum())\n",
        "\n",
        "patients_data = patients_data.assign(\n",
        "    dod=patients_data['dod'].fillna('Not Deceased'),\n",
        "    dod_hosp=patients_data['dod_hosp'].fillna('Not Available'),\n",
        "    dod_ssn=patients_data['dod_ssn'].fillna('Not Available')\n",
        ")\n",
        "\n",
        "print(\"\\nMissing Values in PATIENTS (After):\")\n",
        "print(patients_data.isnull().sum())\n",
        "\n",
        "# For ICUSTAYS.csv\n",
        "print(\"\\nMissing Values in ICUSTAYS (Before):\")\n",
        "print(icustays_data.isnull().sum())\n",
        "\n",
        "icustays_data = icustays_data.dropna(subset=['intime', 'outtime'])\n",
        "\n",
        "print(\"\\nMissing Values in ICUSTAYS (After):\")\n",
        "print(icustays_data.isnull().sum())\n",
        "\n",
        "# For LABEVENTS.csv\n",
        "print(\"\\nMissing Values in LABEVENTS (Before):\")\n",
        "print(labs_data.isnull().sum())\n",
        "\n",
        "labs_data['valuenum'] = labs_data['valuenum'].ffill().bfill()\n",
        "print(\"\\nMissing Values in LABEVENTS (After):\")\n",
        "print(labs_data.isnull().sum())\n",
        "\n",
        "# For CHARTEVENTS.csv\n",
        "print(\"\\nMissing Values in CHARTEVENTS (Before):\")\n",
        "print(chart_data.isnull().sum())\n",
        "\n",
        "chart_data['valuenum'] = chart_data['valuenum'].ffill().bfill()\n",
        "chart_data = chart_data.drop(columns=['resultstatus', 'stopped'], errors='ignore')\n",
        "\n",
        "print(\"\\nMissing Values in CHARTEVENTS (After):\")\n",
        "print(chart_data.isnull().sum())\n"
      ]
    },
    {
      "cell_type": "markdown",
      "metadata": {
        "id": "Ktg0M7j23Df_"
      },
      "source": [
        "### Feature Normalization and Group Mapping"
      ]
    },
    {
      "cell_type": "code",
      "execution_count": 52,
      "metadata": {
        "colab": {
          "base_uri": "https://localhost:8080/"
        },
        "id": "Hc1R2kbt3Df_",
        "outputId": "ea3c5dc6-25d9-4ca9-a69d-a27545927cb7"
      },
      "outputs": [
        {
          "name": "stdout",
          "output_type": "stream",
          "text": [
            "\n",
            "Normalized LABEVENTS (First 5 Rows):\n",
            "    row_id  subject_id  hadm_id  itemid            charttime value  valuenum  \\\n",
            "0  6244563       10006      NaN   50868  2164-09-24 20:21:00    19 -0.159129   \n",
            "1  6244564       10006      NaN   50882  2164-09-24 20:21:00    27 -0.126499   \n",
            "2  6244565       10006      NaN   50893  2164-09-24 20:21:00  10.0 -0.195836   \n",
            "3  6244566       10006      NaN   50902  2164-09-24 20:21:00    97  0.159005   \n",
            "4  6244567       10006      NaN   50912  2164-09-24 20:21:00   7.0 -0.208072   \n",
            "\n",
            "  valueuom      flag  \n",
            "0    mEq/L       NaN  \n",
            "1    mEq/L       NaN  \n",
            "2    mg/dL       NaN  \n",
            "3    mEq/L       NaN  \n",
            "4    mg/dL  abnormal  \n",
            "\n",
            "Normalized CHARTEVENTS (First 5 Rows):\n",
            "    row_id  subject_id  hadm_id  icustay_id  itemid            charttime  \\\n",
            "0  5279021       40124   126179    279554.0  223761  2130-02-04 04:00:00   \n",
            "1  5279022       40124   126179    279554.0  224695  2130-02-04 04:25:00   \n",
            "2  5279023       40124   126179    279554.0  220210  2130-02-04 04:30:00   \n",
            "3  5279024       40124   126179    279554.0  220045  2130-02-04 04:32:00   \n",
            "4  5279025       40124   126179    279554.0  220179  2130-02-04 04:32:00   \n",
            "\n",
            "             storetime   cgid      value   valuenum  valueuom  warning  error  \n",
            "0  2130-02-04 04:35:00  19085       95.9  -0.010549        ?F        0      0  \n",
            "1  2130-02-04 05:55:00  18999  2222221.7  99.982204     cmH2O        0      0  \n",
            "2  2130-02-04 04:43:00  21452       15.0  -0.014189  insp/min        0      0  \n",
            "3  2130-02-04 04:43:00  21452       94.0  -0.010634       bpm        0      0  \n",
            "4  2130-02-04 04:43:00  21452      163.0  -0.007529      mmHg        0      0  \n",
            "D_ITEMS Preview:\n",
            "   row_id  itemid                 label abbreviation dbsource      linksto  \\\n",
            "0       1    1435    Sustained Nystamus          NaN  carevue  chartevents   \n",
            "1       2    1436  Tactile Disturbances          NaN  carevue  chartevents   \n",
            "2       3    1437                Tremor          NaN  carevue  chartevents   \n",
            "3       4    1438   Ulnar Pulse [Right]          NaN  carevue  chartevents   \n",
            "4       5    1439   Visual Disturbances          NaN  carevue  chartevents   \n",
            "\n",
            "  category unitname param_type  conceptid  \n",
            "0      NaN      NaN        NaN        NaN  \n",
            "1      NaN      NaN        NaN        NaN  \n",
            "2      NaN      NaN        NaN        NaN  \n",
            "3      NaN      NaN        NaN        NaN  \n",
            "4      NaN      NaN        NaN        NaN  \n",
            "\n",
            "D_LABITEMS Preview:\n",
            "   row_id  itemid                                label  fluid   category  \\\n",
            "0       1   50800                        SPECIMEN TYPE  BLOOD  BLOOD GAS   \n",
            "1       2   50801           Alveolar-arterial Gradient  Blood  Blood Gas   \n",
            "2       3   50802                          Base Excess  Blood  Blood Gas   \n",
            "3       4   50803  Calculated Bicarbonate, Whole Blood  Blood  Blood Gas   \n",
            "4       5   50804                 Calculated Total CO2  Blood  Blood Gas   \n",
            "\n",
            "  loinc_code  \n",
            "0        NaN  \n",
            "1    19991-9  \n",
            "2    11555-0  \n",
            "3     1959-6  \n",
            "4    34728-6  \n",
            "\n",
            "Unmapped LABITEMS (First 10 Rows):\n",
            "    row_id  itemid                       label  fluid   category loinc_code  \\\n",
            "0        1   50800               SPECIMEN TYPE  BLOOD  BLOOD GAS        NaN   \n",
            "1        2   50801  Alveolar-arterial Gradient  Blood  Blood Gas    19991-9   \n",
            "2        3   50802                 Base Excess  Blood  Blood Gas    11555-0   \n",
            "5        6   50805           Carboxyhemoglobin  Blood  Blood Gas    20563-3   \n",
            "7        8   50807                    Comments  Blood  Blood Gas        NaN   \n",
            "8        9   50808                Free Calcium  Blood  Blood Gas     1994-3   \n",
            "10      11   50810      Hematocrit, Calculated  Blood  Blood Gas    20570-8   \n",
            "11      12   50811                  Hemoglobin  Blood  Blood Gas      718-7   \n",
            "12      13   50812                   Intubated  Blood  Blood Gas        NaN   \n",
            "13      14   50813                     Lactate  Blood  Blood Gas    32693-4   \n",
            "\n",
            "    group  \n",
            "0   Other  \n",
            "1   Other  \n",
            "2   Other  \n",
            "5   Other  \n",
            "7   Other  \n",
            "8   Other  \n",
            "10  Other  \n",
            "11  Other  \n",
            "12  Other  \n",
            "13  Other  \n",
            "\n",
            "Unmapped ITEMS (First 10 Rows):\n",
            "    row_id  itemid                 label abbreviation dbsource      linksto  \\\n",
            "0        1    1435    Sustained Nystamus          NaN  carevue  chartevents   \n",
            "1        2    1436  Tactile Disturbances          NaN  carevue  chartevents   \n",
            "3        4    1438   Ulnar Pulse [Right]          NaN  carevue  chartevents   \n",
            "4        5    1439   Visual Disturbances          NaN  carevue  chartevents   \n",
            "5        6    1447   Transpulmonary Pres          NaN  carevue  chartevents   \n",
            "6        7    1448                Vd/Vt:          NaN  carevue  chartevents   \n",
            "8        9    1450             level one          NaN  carevue  chartevents   \n",
            "9       10    1451          L girth size          NaN  carevue  chartevents   \n",
            "10      11    1452  #1 chest tube irrig.          NaN  carevue  chartevents   \n",
            "11      12    1453               CT DRSG          NaN  carevue  chartevents   \n",
            "\n",
            "   category unitname param_type  conceptid  group  \n",
            "0       NaN      NaN        NaN        NaN  Other  \n",
            "1       NaN      NaN        NaN        NaN  Other  \n",
            "3       NaN      NaN        NaN        NaN  Other  \n",
            "4       NaN      NaN        NaN        NaN  Other  \n",
            "5       NaN      NaN        NaN        NaN  Other  \n",
            "6       NaN      NaN        NaN        NaN  Other  \n",
            "8       NaN      NaN        NaN        NaN  Other  \n",
            "9       NaN      NaN        NaN        NaN  Other  \n",
            "10      NaN      NaN        NaN        NaN  Other  \n",
            "11      NaN      NaN        NaN        NaN  Other  \n",
            "\n",
            "LABEVENTS Grouping Distribution:\n",
            "group\n",
            "Other          79.67\n",
            "Metabolic      19.00\n",
            "Respiratory     1.12\n",
            "Temperature     0.21\n",
            "Name: proportion, dtype: float64\n",
            "\n",
            "CHARTEVENTS Grouping Distribution:\n",
            "group\n",
            "Other          44.55\n",
            "Cardiac        38.93\n",
            "Respiratory    10.45\n",
            "Metabolic       3.76\n",
            "Temperature     2.31\n",
            "Name: proportion, dtype: float64\n",
            "\n",
            "LABEVENTS with Updated Grouping (First 5 Rows):\n",
            "    row_id  subject_id  hadm_id  itemid            charttime value  valuenum  \\\n",
            "0  6244563       10006      NaN   50868  2164-09-24 20:21:00    19 -0.159129   \n",
            "1  6244564       10006      NaN   50882  2164-09-24 20:21:00    27 -0.126499   \n",
            "2  6244565       10006      NaN   50893  2164-09-24 20:21:00  10.0 -0.195836   \n",
            "3  6244566       10006      NaN   50902  2164-09-24 20:21:00    97  0.159005   \n",
            "4  6244567       10006      NaN   50912  2164-09-24 20:21:00   7.0 -0.208072   \n",
            "\n",
            "  valueuom      flag      group  \n",
            "0    mEq/L       NaN      Other  \n",
            "1    mEq/L       NaN  Metabolic  \n",
            "2    mg/dL       NaN      Other  \n",
            "3    mEq/L       NaN  Metabolic  \n",
            "4    mg/dL  abnormal      Other  \n",
            "\n",
            "CHARTEVENTS with Updated Grouping (First 5 Rows):\n",
            "    row_id  subject_id  hadm_id  icustay_id  itemid            charttime  \\\n",
            "0  5279021       40124   126179    279554.0  223761  2130-02-04 04:00:00   \n",
            "1  5279022       40124   126179    279554.0  224695  2130-02-04 04:25:00   \n",
            "2  5279023       40124   126179    279554.0  220210  2130-02-04 04:30:00   \n",
            "3  5279024       40124   126179    279554.0  220045  2130-02-04 04:32:00   \n",
            "4  5279025       40124   126179    279554.0  220179  2130-02-04 04:32:00   \n",
            "\n",
            "             storetime   cgid      value   valuenum  valueuom  warning  error  \\\n",
            "0  2130-02-04 04:35:00  19085       95.9  -0.010549        ?F        0      0   \n",
            "1  2130-02-04 05:55:00  18999  2222221.7  99.982204     cmH2O        0      0   \n",
            "2  2130-02-04 04:43:00  21452       15.0  -0.014189  insp/min        0      0   \n",
            "3  2130-02-04 04:43:00  21452       94.0  -0.010634       bpm        0      0   \n",
            "4  2130-02-04 04:43:00  21452      163.0  -0.007529      mmHg        0      0   \n",
            "\n",
            "         group  \n",
            "0  Temperature  \n",
            "1      Cardiac  \n",
            "2  Respiratory  \n",
            "3      Cardiac  \n",
            "4      Cardiac  \n"
          ]
        }
      ],
      "source": [
        "from sklearn.preprocessing import StandardScaler\n",
        "\n",
        "# Normalize VALUENUM in LABEVENTS and CHARTEVENTS\n",
        "lab_scaler = StandardScaler()\n",
        "chart_scaler = StandardScaler()\n",
        "\n",
        "labs_data['valuenum'] = labs_data['valuenum'].fillna(0) \n",
        "chart_data['valuenum'] = chart_data['valuenum'].fillna(0)\n",
        "\n",
        "labs_data['valuenum'] = lab_scaler.fit_transform(labs_data[['valuenum']])\n",
        "chart_data['valuenum'] = chart_scaler.fit_transform(chart_data[['valuenum']])\n",
        "\n",
        "# Display normalized data\n",
        "print(\"\\nNormalized LABEVENTS (First 5 Rows):\")\n",
        "print(labs_data.head())\n",
        "print(\"\\nNormalized CHARTEVENTS (First 5 Rows):\")\n",
        "print(chart_data.head())\n",
        "\n",
        "# Load dictionaries\n",
        "d_items = pd.read_csv(os.path.join(data_path, \"D_ITEMS.csv\"))\n",
        "d_labitems = pd.read_csv(os.path.join(data_path, \"D_LABITEMS.csv\"))\n",
        "\n",
        "print(\"D_ITEMS Preview:\")\n",
        "print(d_items.head())\n",
        "print(\"\\nD_LABITEMS Preview:\")\n",
        "print(d_labitems.head())\n",
        "\n",
        "def map_features(label):\n",
        "    if pd.isnull(label):\n",
        "        return 'Other'\n",
        "    label = label.lower()\n",
        "    if 'heart' in label or 'bp' in label or 'pressure' in label or 'cardiac' in label:\n",
        "        return 'Cardiac'\n",
        "    elif 'respiratory' in label or 'oxygen' in label or 'spo2' in label or 'ventilation' in label:\n",
        "        return 'Respiratory'\n",
        "    elif 'glucose' in label or 'potassium' in label or 'sodium' in label or 'chloride' in label or 'bicarbonate' in label or 'co2' in label:\n",
        "        return 'Metabolic'\n",
        "    elif 'temperature' in label or 'thermometer' in label:\n",
        "        return 'Temperature'\n",
        "    elif 'tremor' in label or 'nystagmus' in label:\n",
        "        return 'Neurological'\n",
        "    return 'Other'\n",
        "\n",
        "\n",
        "d_items['group'] = d_items['label'].apply(map_features)\n",
        "d_labitems['group'] = d_labitems['label'].apply(map_features)\n",
        "unmapped_labitems = d_labitems[d_labitems['group'] == 'Other']\n",
        "unmapped_items = d_items[d_items['group'] == 'Other']\n",
        "\n",
        "print(\"\\nUnmapped LABITEMS (First 10 Rows):\")\n",
        "print(unmapped_labitems.head(10))\n",
        "print(\"\\nUnmapped ITEMS (First 10 Rows):\")\n",
        "print(unmapped_items.head(10))\n",
        "\n",
        "# Clean dictionaries\n",
        "d_items_clean = d_items[['itemid', 'group']].drop_duplicates()\n",
        "d_labitems_clean = d_labitems[['itemid', 'group']].drop_duplicates()\n",
        "\n",
        "# Map and merge function\n",
        "def map_and_merge(data, map_df, key='itemid', group_col='group'):\n",
        "    data = data.drop(columns=[group_col], errors='ignore')\n",
        "    data = data.merge(map_df, on=key, how='left')\n",
        "    data[group_col] = data[group_col].fillna('Other')\n",
        "    return data\n",
        "\n",
        "labs_data = map_and_merge(labs_data, d_labitems_clean, 'itemid', 'group')\n",
        "chart_data = map_and_merge(chart_data, d_items_clean, 'itemid', 'group')\n",
        "\n",
        "# Log grouping distribution\n",
        "print(\"\\nLABEVENTS Grouping Distribution:\")\n",
        "print(labs_data['group'].value_counts(normalize=True) * 100)\n",
        "print(\"\\nCHARTEVENTS Grouping Distribution:\")\n",
        "print(chart_data['group'].value_counts(normalize=True) * 100)\n",
        "\n",
        "# Display updated grouping\n",
        "print(\"\\nLABEVENTS with Updated Grouping (First 5 Rows):\")\n",
        "print(labs_data.head())\n",
        "print(\"\\nCHARTEVENTS with Updated Grouping (First 5 Rows):\")\n",
        "print(chart_data.head())\n"
      ]
    },
    {
      "cell_type": "markdown",
      "metadata": {
        "id": "RmOs9ajl3DgA"
      },
      "source": [
        "### Combine Patient and Time-Series Data"
      ]
    },
    {
      "cell_type": "code",
      "execution_count": 53,
      "metadata": {
        "colab": {
          "base_uri": "https://localhost:8080/"
        },
        "id": "PXnfU8k63DgA",
        "outputId": "5fc27225-bc7f-4402-c7d6-3148092a0656"
      },
      "outputs": [
        {
          "name": "stdout",
          "output_type": "stream",
          "text": [
            "\n",
            "Combined Patient-Level Table:\n",
            "   row_id_x  subject_id  hadm_id            admittime            dischtime  \\\n",
            "0     12258       10006   142345  2164-10-23 21:09:00  2164-11-01 17:15:00   \n",
            "1     12263       10011   105331  2126-08-14 22:32:00  2126-08-28 18:59:00   \n",
            "2     12265       10013   165520  2125-10-04 23:36:00  2125-10-07 15:13:00   \n",
            "3     12269       10017   199207  2149-05-26 17:19:00  2149-06-03 18:42:00   \n",
            "4     12270       10019   177759  2163-05-14 20:43:00  2163-05-15 12:00:00   \n",
            "\n",
            "             deathtime admission_type         admission_location  \\\n",
            "0                  NaN      EMERGENCY       EMERGENCY ROOM ADMIT   \n",
            "1  2126-08-28 18:59:00      EMERGENCY  TRANSFER FROM HOSP/EXTRAM   \n",
            "2  2125-10-07 15:13:00      EMERGENCY  TRANSFER FROM HOSP/EXTRAM   \n",
            "3                  NaN      EMERGENCY       EMERGENCY ROOM ADMIT   \n",
            "4  2163-05-15 12:00:00      EMERGENCY  TRANSFER FROM HOSP/EXTRAM   \n",
            "\n",
            "  discharge_location insurance  ... row_id icustay_id dbsource first_careunit  \\\n",
            "0   HOME HEALTH CARE  Medicare  ...  12742     206504  carevue           MICU   \n",
            "1       DEAD/EXPIRED   Private  ...  12747     232110  carevue           MICU   \n",
            "2       DEAD/EXPIRED  Medicare  ...  12749     264446  carevue           MICU   \n",
            "3                SNF  Medicare  ...  12754     204881  carevue            CCU   \n",
            "4       DEAD/EXPIRED  Medicare  ...  12755     228977  carevue           MICU   \n",
            "\n",
            "  last_careunit first_wardid last_wardid               intime  \\\n",
            "0          MICU           52          52  2164-10-23 21:10:15   \n",
            "1          MICU           15          15  2126-08-14 22:34:00   \n",
            "2          MICU           15          15  2125-10-04 23:38:00   \n",
            "3           CCU            7           7  2149-05-29 18:52:29   \n",
            "4          MICU           15          15  2163-05-14 20:43:56   \n",
            "\n",
            "               outtime      los  \n",
            "0  2164-10-25 12:21:07   1.6325  \n",
            "1  2126-08-28 18:59:00  13.8507  \n",
            "2  2125-10-07 15:13:52   2.6499  \n",
            "3  2149-05-31 22:19:17   2.1436  \n",
            "4  2163-05-16 03:47:04   1.2938  \n",
            "\n",
            "[5 rows x 36 columns]\n",
            "Patient-level table saved as 'cleaned_patient_data.csv'.\n",
            "Combined time-series table saved as 'combined_timeseries_data.csv'.\n",
            "\n",
            "Patient-Level Table Shape: (136, 36)\n",
            "LABEVENTS Merged Table Shape: (10000, 45)\n",
            "CHARTEVENTS Merged Table Shape: (19119, 49)\n",
            "Time-Series Table Shape: (29119, 53)\n",
            "\n",
            "Missing Values in Combined Time-Series Data:\n",
            "row_id_lab              19119\n",
            "subject_id                  0\n",
            "hadm_id_lab             22120\n",
            "itemid                      0\n",
            "charttime                   0\n",
            "value                       0\n",
            "valuenum                    0\n",
            "valueuom                 2382\n",
            "flag                    25216\n",
            "group                       0\n",
            "row_id_x                    0\n",
            "hadm_id_patient             0\n",
            "admittime                   0\n",
            "dischtime                   0\n",
            "deathtime               18874\n",
            "admission_type              0\n",
            "admission_location          0\n",
            "discharge_location          0\n",
            "insurance                   0\n",
            "language                    0\n",
            "religion                    0\n",
            "marital_status              0\n",
            "ethnicity                   0\n",
            "edregtime                   0\n",
            "edouttime                   0\n",
            "diagnosis                   0\n",
            "hospital_expire_flag        0\n",
            "has_chartevents_data        0\n",
            "row_id_y                    0\n",
            "gender                      0\n",
            "dob                         0\n",
            "dod                         0\n",
            "dod_hosp                    0\n",
            "dod_ssn                     0\n",
            "expire_flag                 0\n",
            "row_id                      0\n",
            "icustay_id              19119\n",
            "dbsource                    0\n",
            "first_careunit              0\n",
            "last_careunit               0\n",
            "first_wardid                0\n",
            "last_wardid                 0\n",
            "intime                      0\n",
            "outtime                     0\n",
            "los                         0\n",
            "row_id_chart            10000\n",
            "hadm_id_chart           10000\n",
            "icustay_id_chart        10014\n",
            "storetime               10000\n",
            "cgid                    10000\n",
            "warning                 10000\n",
            "error                   10000\n",
            "icustay_id_patient      10000\n",
            "dtype: int64\n",
            "\n",
            "Sample of Combined Time-Series Data:\n",
            "   row_id_lab  subject_id  hadm_id_lab  itemid            charttime value  \\\n",
            "0   6244563.0       10006          NaN   50868  2164-09-24 20:21:00    19   \n",
            "1   6244564.0       10006          NaN   50882  2164-09-24 20:21:00    27   \n",
            "2   6244565.0       10006          NaN   50893  2164-09-24 20:21:00  10.0   \n",
            "3   6244566.0       10006          NaN   50902  2164-09-24 20:21:00    97   \n",
            "4   6244567.0       10006          NaN   50912  2164-09-24 20:21:00   7.0   \n",
            "\n",
            "   valuenum valueuom      flag      group  ...              outtime     los  \\\n",
            "0 -0.159129    mEq/L       NaN      Other  ...  2164-10-25 12:21:07  1.6325   \n",
            "1 -0.126499    mEq/L       NaN  Metabolic  ...  2164-10-25 12:21:07  1.6325   \n",
            "2 -0.195836    mg/dL       NaN      Other  ...  2164-10-25 12:21:07  1.6325   \n",
            "3  0.159005    mEq/L       NaN  Metabolic  ...  2164-10-25 12:21:07  1.6325   \n",
            "4 -0.208072    mg/dL  abnormal      Other  ...  2164-10-25 12:21:07  1.6325   \n",
            "\n",
            "  row_id_chart hadm_id_chart icustay_id_chart storetime cgid warning error  \\\n",
            "0          NaN           NaN              NaN       NaN  NaN     NaN   NaN   \n",
            "1          NaN           NaN              NaN       NaN  NaN     NaN   NaN   \n",
            "2          NaN           NaN              NaN       NaN  NaN     NaN   NaN   \n",
            "3          NaN           NaN              NaN       NaN  NaN     NaN   NaN   \n",
            "4          NaN           NaN              NaN       NaN  NaN     NaN   NaN   \n",
            "\n",
            "  icustay_id_patient  \n",
            "0                NaN  \n",
            "1                NaN  \n",
            "2                NaN  \n",
            "3                NaN  \n",
            "4                NaN  \n",
            "\n",
            "[5 rows x 53 columns]\n",
            "Percentage of zeros in VALUENUM: 0.00%\n",
            "Percentage of missing values in VALUENUM: 0.00%\n",
            "\n",
            "VALUENUM Statistics:\n",
            "count    29119.000000\n",
            "mean         0.000347\n",
            "std          1.015030\n",
            "min         -0.310038\n",
            "25%         -0.057367\n",
            "50%         -0.013694\n",
            "75%         -0.010409\n",
            "max         99.982204\n",
            "Name: valuenum, dtype: float64\n"
          ]
        }
      ],
      "source": [
        "save_data = True \n",
        "labs_data = labs_data.rename(columns={\"row_id\": \"row_id_lab\"})\n",
        "chart_data = chart_data.rename(columns={\"row_id\": \"row_id_chart\"})\n",
        "\n",
        "# Merge ADMISSIONS, PATIENTS, and ICUSTAYS into a patient-level table\n",
        "patient_data = admissions_data.merge(patients_data, on='subject_id', how='inner')\n",
        "patient_data = patient_data.merge(icustays_data, on=['subject_id', 'hadm_id'], how='inner')\n",
        "\n",
        "print(\"\\nCombined Patient-Level Table:\")\n",
        "print(patient_data.head())\n",
        "\n",
        "if save_data:\n",
        "    patient_data.to_csv(\"cleaned_patient_data.csv\", index=False)\n",
        "    print(\"Patient-level table saved as 'cleaned_patient_data.csv'.\")\n",
        "\n",
        "# Merge time-series data (LABEVENTS and CHARTEVENTS) with patient-level table\n",
        "labs_merged = labs_data.merge(patient_data, on='subject_id', how='inner', suffixes=('_lab', '_patient'))\n",
        "chart_merged = chart_data.merge(patient_data, on='subject_id', how='inner', suffixes=('_chart', '_patient'))\n",
        "\n",
        "# Combine LABEVENTS and CHARTEVENTS into a single time-series table\n",
        "combined_timeseries = pd.concat([labs_merged, chart_merged]).sort_values(by=['subject_id', 'charttime'])\n",
        "\n",
        "# Save the combined time-series table\n",
        "if save_data:\n",
        "    combined_timeseries.to_csv(\"combined_timeseries_data.csv\", index=False)\n",
        "    print(\"Combined time-series table saved as 'combined_timeseries_data.csv'.\")\n",
        "\n",
        "# Verify and log table shapes\n",
        "print(\"\\nPatient-Level Table Shape:\", patient_data.shape)\n",
        "print(\"LABEVENTS Merged Table Shape:\", labs_merged.shape)\n",
        "print(\"CHARTEVENTS Merged Table Shape:\", chart_merged.shape)\n",
        "print(\"Time-Series Table Shape:\", combined_timeseries.shape)\n",
        "print(\"\\nMissing Values in Combined Time-Series Data:\")\n",
        "print(combined_timeseries.isnull().sum())\n",
        "print(\"\\nSample of Combined Time-Series Data:\")\n",
        "print(combined_timeseries.head())\n",
        "zero_percentage_valuenum = (combined_timeseries['valuenum'] == 0).mean() * 100\n",
        "print(f\"Percentage of zeros in VALUENUM: {zero_percentage_valuenum:.2f}%\")\n",
        "missing_percentage_valuenum = combined_timeseries['valuenum'].isnull().mean() * 100\n",
        "print(f\"Percentage of missing values in VALUENUM: {missing_percentage_valuenum:.2f}%\")\n",
        "print(\"\\nVALUENUM Statistics:\")\n",
        "print(combined_timeseries['valuenum'].describe())\n"
      ]
    },
    {
      "cell_type": "markdown",
      "metadata": {
        "id": "OAYmXWy7B8tr"
      },
      "source": [
        "### Generate Temporal Contrastive Pairs"
      ]
    },
    {
      "cell_type": "code",
      "execution_count": null,
      "metadata": {
        "colab": {
          "base_uri": "https://localhost:8080/"
        },
        "id": "Dz_Qgn6JCBBI",
        "outputId": "4aba37cd-f831-4259-d87a-2834b6365c46"
      },
      "outputs": [
        {
          "name": "stdout",
          "output_type": "stream",
          "text": [
            "Combined Feature Data (Sorted by Subject and Time):\n",
            "   row_id_lab  subject_id  hadm_id_lab  itemid            charttime value  \\\n",
            "0   6244563.0       10006          NaN   50868  2164-09-24 20:21:00    19   \n",
            "1   6244564.0       10006          NaN   50882  2164-09-24 20:21:00    27   \n",
            "2   6244565.0       10006          NaN   50893  2164-09-24 20:21:00  10.0   \n",
            "3   6244566.0       10006          NaN   50902  2164-09-24 20:21:00    97   \n",
            "4   6244567.0       10006          NaN   50912  2164-09-24 20:21:00   7.0   \n",
            "\n",
            "   valuenum valueuom      flag      group  ...              outtime     los  \\\n",
            "0 -0.159129    mEq/L       NaN      Other  ...  2164-10-25 12:21:07  1.6325   \n",
            "1 -0.126499    mEq/L       NaN  Metabolic  ...  2164-10-25 12:21:07  1.6325   \n",
            "2 -0.195836    mg/dL       NaN      Other  ...  2164-10-25 12:21:07  1.6325   \n",
            "3  0.159005    mEq/L       NaN  Metabolic  ...  2164-10-25 12:21:07  1.6325   \n",
            "4 -0.208072    mg/dL  abnormal      Other  ...  2164-10-25 12:21:07  1.6325   \n",
            "\n",
            "  row_id_chart hadm_id_chart icustay_id_chart storetime cgid warning error  \\\n",
            "0          NaN           NaN              NaN       NaN  NaN     NaN   NaN   \n",
            "1          NaN           NaN              NaN       NaN  NaN     NaN   NaN   \n",
            "2          NaN           NaN              NaN       NaN  NaN     NaN   NaN   \n",
            "3          NaN           NaN              NaN       NaN  NaN     NaN   NaN   \n",
            "4          NaN           NaN              NaN       NaN  NaN     NaN   NaN   \n",
            "\n",
            "  icustay_id_patient  \n",
            "0                NaN  \n",
            "1                NaN  \n",
            "2                NaN  \n",
            "3                NaN  \n",
            "4                NaN  \n",
            "\n",
            "[5 rows x 53 columns]\n"
          ]
        },
        {
          "name": "stderr",
          "output_type": "stream",
          "text": [
            "C:\\Users\\bilal\\AppData\\Local\\Temp\\ipykernel_12124\\815659546.py:6: DtypeWarning: Columns (5,8) have mixed types. Specify dtype option on import or set low_memory=False.\n",
            "  combined_data = pd.read_csv(\"combined_timeseries_data.csv\")\n"
          ]
        },
        {
          "name": "stdout",
          "output_type": "stream",
          "text": [
            "Generated 28994 positive pairs and 12500 negative pairs.\n",
            "Positive Pairs: Zero percentage in x1: 0.00%, x2: 0.00%\n",
            "Negative Pairs: Zero percentage in x1: 0.00%, x2: 0.00%\n",
            "\n",
            "Positive Pairs Example:\n",
            "                                                  x1  \\\n",
            "0  [-0.1591285545383133, -0.1264994657041942, -0....   \n",
            "1  [-0.1264994657041942, -0.1958362794766974, 0.1...   \n",
            "2  [-0.1958362794766974, 0.1590050615943484, -0.2...   \n",
            "3  [0.1590050615943484, -0.2080721877894921, 0.27...   \n",
            "4  [-0.2080721877894921, 0.2772855086180303, -0.2...   \n",
            "\n",
            "                                                  x2  label  \n",
            "0  [-0.1264994657041942, -0.1958362794766974, 0.1...      1  \n",
            "1  [-0.1958362794766974, 0.1590050615943484, -0.2...      1  \n",
            "2  [0.1590050615943484, -0.2080721877894921, 0.27...      1  \n",
            "3  [-0.2080721877894921, 0.2772855086180303, -0.2...      1  \n",
            "4  [0.2772855086180303, -0.2272417774795371, -0.2...      1  \n",
            "\n",
            "Negative Pairs Example:\n",
            "                                                  x1  \\\n",
            "0  [-0.2227552777648457, -0.2366226405193464, -0....   \n",
            "1  [-0.2227552777648457, -0.2366226405193464, -0....   \n",
            "2  [-0.2227552777648457, -0.2366226405193464, -0....   \n",
            "3  [-0.2227552777648457, -0.2366226405193464, -0....   \n",
            "4  [-0.2227552777648457, -0.2366226405193464, -0....   \n",
            "\n",
            "                                                  x2  label  \n",
            "0  [-0.0116692205215566, -0.2015463700226683, -0....      0  \n",
            "1  [-0.2070525287634259, -0.0104992545509357, -0....      0  \n",
            "2  [-0.0083393173744048, -0.0099142715656253, -0....      0  \n",
            "3  [-0.2137822783354629, -0.0143691419922203, -0....      0  \n",
            "4  [-0.172995917292814, -0.2276496410899636, -0.0...      0  \n",
            "Temporal positive and negative pairs saved successfully.\n"
          ]
        }
      ],
      "source": [
        "import pandas as pd\n",
        "import numpy as np\n",
        "import torch\n",
        "\n",
        "# Load the combined timeseries data\n",
        "combined_data = pd.read_csv(\"combined_timeseries_data.csv\")\n",
        "\n",
        "# Sort the data by subject and time for sequential processing\n",
        "combined_data = combined_data.sort_values(by=['subject_id', 'charttime']).dropna(subset=['valuenum'])\n",
        "\n",
        "print(\"Combined Feature Data (Sorted by Subject and Time):\")\n",
        "print(combined_data.head())\n",
        "\n",
        "# Function to generate temporal contrastive pairs\n",
        "def generate_temporal_pairs(data, window_size=5, num_negative_samples=500):\n",
        "    positive_pairs = []\n",
        "    negative_pairs = []\n",
        "\n",
        "    # Group data by 'subject_id' (patient level)\n",
        "    grouped = data.groupby('subject_id')\n",
        "    other_subjects = data.sample(frac=0.1, random_state=42)  \n",
        "    for subject_id, group_data in grouped:\n",
        "        values = group_data['valuenum'].values\n",
        "\n",
        "        for i in range(len(values) - window_size):\n",
        "            window_1 = values[i:i + window_size]\n",
        "            window_2 = values[i + 1:i + 1 + window_size] \n",
        "            positive_pairs.append((window_1, window_2, 1))\n",
        "\n",
        "        # Generate negative pairs\n",
        "        for _ in range(num_negative_samples):\n",
        "            random_window = other_subjects.sample(window_size)['valuenum'].values\n",
        "            positive_window = window_1\n",
        "            negative_pairs.append((positive_window, random_window, 0))\n",
        "\n",
        "    print(f\"Generated {len(positive_pairs)} positive pairs and {len(negative_pairs)} negative pairs.\")\n",
        "    return positive_pairs, negative_pairs\n",
        "\n",
        "# Generate pairs\n",
        "positive_pairs, negative_pairs = generate_temporal_pairs(combined_data, window_size=5, num_negative_samples=500)\n",
        "\n",
        "# Debugging: Check for zeros in pairs\n",
        "def check_zeros_in_pairs(pairs, name):\n",
        "    zero_x1 = sum([np.allclose(pair[0], 0) for pair in pairs]) / len(pairs) * 100\n",
        "    zero_x2 = sum([np.allclose(pair[1], 0) for pair in pairs]) / len(pairs) * 100\n",
        "    print(f\"{name}: Zero percentage in x1: {zero_x1:.2f}%, x2: {zero_x2:.2f}%\")\n",
        "\n",
        "check_zeros_in_pairs(positive_pairs, \"Positive Pairs\")\n",
        "check_zeros_in_pairs(negative_pairs, \"Negative Pairs\")\n",
        "\n",
        "# Convert pairs to DataFrame for saving\n",
        "def pair_to_dataframe(pairs, label_column='label'):\n",
        "    data = []\n",
        "    for pair in pairs:\n",
        "        data.append({'x1': list(pair[0]), 'x2': list(pair[1]), label_column: pair[2]})\n",
        "    return pd.DataFrame(data)\n",
        "\n",
        "positive_df = pair_to_dataframe(positive_pairs)\n",
        "negative_df = pair_to_dataframe(negative_pairs)\n",
        "\n",
        "# Save the pairs with timestamps\n",
        "timestamp = pd.Timestamp.now().strftime(\"%Y%m%d_%H%M%S\")\n",
        "positive_df.to_csv(f\"positive_temporal_pairs.csv\", index=False)\n",
        "negative_df.to_csv(f\"negative_temporal_pairs.csv\", index=False)\n",
        "\n",
        "print(\"\\nPositive Pairs Example:\")\n",
        "print(positive_df.head())\n",
        "print(\"\\nNegative Pairs Example:\")\n",
        "print(negative_df.head())\n",
        "print(\"Temporal positive and negative pairs saved successfully.\")\n"
      ]
    },
    {
      "cell_type": "markdown",
      "metadata": {
        "id": "ILRgCGSbCYcX"
      },
      "source": [
        "### Prepare Temporal Contrastive Dataset"
      ]
    },
    {
      "cell_type": "code",
      "execution_count": 55,
      "metadata": {
        "id": "i7ReA9vOjhOi"
      },
      "outputs": [
        {
          "name": "stdout",
          "output_type": "stream",
          "text": [
            "\n",
            "Positive Temporal Pairs Loaded:\n",
            "                                                  x1  \\\n",
            "0  [np.float64(-0.1591285545383133), np.float64(-...   \n",
            "1  [np.float64(-0.1264994657041942), np.float64(-...   \n",
            "2  [np.float64(-0.1958362794766974), np.float64(0...   \n",
            "3  [np.float64(0.1590050615943484), np.float64(-0...   \n",
            "4  [np.float64(-0.2080721877894921), np.float64(0...   \n",
            "\n",
            "                                                  x2  label  \n",
            "0  [np.float64(-0.1264994657041942), np.float64(-...      1  \n",
            "1  [np.float64(-0.1958362794766974), np.float64(0...      1  \n",
            "2  [np.float64(0.1590050615943484), np.float64(-0...      1  \n",
            "3  [np.float64(-0.2080721877894921), np.float64(0...      1  \n",
            "4  [np.float64(0.2772855086180303), np.float64(-0...      1  \n",
            "\n",
            "Negative Temporal Pairs Loaded:\n",
            "                                                  x1  \\\n",
            "0  [np.float64(-0.2227552777648457), np.float64(-...   \n",
            "1  [np.float64(-0.2227552777648457), np.float64(-...   \n",
            "2  [np.float64(-0.2227552777648457), np.float64(-...   \n",
            "3  [np.float64(-0.2227552777648457), np.float64(-...   \n",
            "4  [np.float64(-0.2227552777648457), np.float64(-...   \n",
            "\n",
            "                                                  x2  label  \n",
            "0  [np.float64(-0.0116692205215566), np.float64(-...      0  \n",
            "1  [np.float64(-0.2070525287634259), np.float64(-...      0  \n",
            "2  [np.float64(-0.0083393173744048), np.float64(-...      0  \n",
            "3  [np.float64(-0.2137822783354629), np.float64(-...      0  \n",
            "4  [np.float64(-0.172995917292814), np.float64(-0...      0  \n",
            "\n",
            "Rows in combined dataset before preprocessing: 41494\n",
            "Zero percentage before filtering: x1: 0.00%, x2: 0.00%\n",
            "Rows after preprocessing: 41494\n",
            "Zero percentage after filtering: x1: 0.00%, x2: 0.00%\n",
            "\n",
            "Sample Batch from DataLoader:\n",
            "Batch 1: x1 Shape: torch.Size([32, 5]), x2 Shape: torch.Size([32, 5]), Labels: tensor([[1.],\n",
            "        [0.],\n",
            "        [1.],\n",
            "        [1.],\n",
            "        [1.]])\n",
            "x1[0]: tensor([-0.0140,  0.0076,  0.0076,  0.0123,  0.0123])\n",
            "x2[0]: tensor([ 0.0076,  0.0076,  0.0123,  0.0123, -0.0142])\n",
            "Batch 2: x1 Shape: torch.Size([32, 5]), x2 Shape: torch.Size([32, 5]), Labels: tensor([[1.],\n",
            "        [1.],\n",
            "        [1.],\n",
            "        [1.],\n",
            "        [1.]])\n",
            "x1[0]: tensor([-0.2260, -0.1836, -0.1265, -0.2036,  0.2120])\n",
            "x2[0]: tensor([-0.1836, -0.1265, -0.2036,  0.2120, -0.2330])\n"
          ]
        }
      ],
      "source": [
        "import pandas as pd\n",
        "import numpy as np\n",
        "import torch\n",
        "from torch.utils.data import Dataset, DataLoader\n",
        "import pandas as pd\n",
        "import numpy as np\n",
        "import torch\n",
        "import ast\n",
        "import re\n",
        "#Load Temporal Positive and Negative Pairs\n",
        "positive_pairs = pd.read_csv(\"positive_temporal_pairs.csv\")\n",
        "negative_pairs = pd.read_csv(\"negative_temporal_pairs.csv\")\n",
        "\n",
        "print(\"\\nPositive Temporal Pairs Loaded:\")\n",
        "print(positive_pairs.head())\n",
        "\n",
        "print(\"\\nNegative Temporal Pairs Loaded:\")\n",
        "print(negative_pairs.head())\n",
        "\n",
        "#Combine Positive and Negative Pairs with Labels\n",
        "positive_pairs['label'] = 1\n",
        "negative_pairs['label'] = 0\n",
        "\n",
        "contrastive_data = pd.concat([positive_pairs[['x1', 'x2', 'label']],\n",
        "                              negative_pairs[['x1', 'x2', 'label']]])\n",
        "\n",
        "print(f\"\\nRows in combined dataset before preprocessing: {len(contrastive_data)}\")\n",
        "def clean_and_eval(val):\n",
        "    try:\n",
        "        cleaned_val = re.sub(r'np\\.float64\\((.*?)\\)', r'\\1', val)\n",
        "        return ast.literal_eval(cleaned_val)\n",
        "    except Exception as e:\n",
        "        print(f\"Error parsing value: {val}\\nError: {e}\")\n",
        "        return [] #if it fails\n",
        "    \n",
        "# Apply to x1 and x2 columns\n",
        "contrastive_data['x1'] = contrastive_data['x1'].apply(clean_and_eval)\n",
        "contrastive_data['x2'] = contrastive_data['x2'].apply(clean_and_eval)\n",
        "\n",
        "# Debug: Check for zeros before filtering\n",
        "zero_x1 = contrastive_data['x1'].apply(lambda x: np.allclose(x, 0)).mean() * 100\n",
        "zero_x2 = contrastive_data['x2'].apply(lambda x: np.allclose(x, 0)).mean() * 100\n",
        "print(f\"Zero percentage before filtering: x1: {zero_x1:.2f}%, x2: {zero_x2:.2f}%\")\n",
        "\n",
        "# Drop rows where x1 or x2 is an empty list\n",
        "contrastive_data.dropna(subset=['x1', 'x2'], inplace=True)\n",
        "print(f\"Rows after preprocessing: {len(contrastive_data)}\")\n",
        "\n",
        "# Debug: Check for zeros after filtering\n",
        "zero_x1 = contrastive_data['x1'].apply(lambda x: np.allclose(x, 0)).mean() * 100\n",
        "zero_x2 = contrastive_data['x2'].apply(lambda x: np.allclose(x, 0)).mean() * 100\n",
        "print(f\"Zero percentage after filtering: x1: {zero_x1:.2f}%, x2: {zero_x2:.2f}%\")\n",
        "\n",
        "#Define Temporal Contrastive Dataset\n",
        "class TemporalContrastiveDataset(Dataset):\n",
        "    def __init__(self, data, window_size=5):\n",
        "        self.x1 = data['x1'].values\n",
        "        self.x2 = data['x2'].values\n",
        "        self.labels = data['label'].values\n",
        "        self.window_size = window_size\n",
        "\n",
        "    def __len__(self):\n",
        "        return len(self.labels)\n",
        "\n",
        "    def __getitem__(self, idx):\n",
        "        x1 = self.x1[idx]\n",
        "        x2 = self.x2[idx]\n",
        "        label = self.labels[idx]\n",
        "        \n",
        "        # Pad or truncate to fixed length\n",
        "        x1 = np.pad(x1, (0, self.window_size - len(x1)), 'constant', constant_values=0)[:self.window_size]\n",
        "        x2 = np.pad(x2, (0, self.window_size - len(x2)), 'constant', constant_values=0)[:self.window_size]\n",
        "        \n",
        "        # Convert to tensors\n",
        "        x1 = torch.tensor(x1, dtype=torch.float32)\n",
        "        x2 = torch.tensor(x2, dtype=torch.float32)\n",
        "        label = torch.tensor(label, dtype=torch.float32).unsqueeze(0)  # Add a batch dimension to label\n",
        "        \n",
        "        return x1, x2, label\n",
        "\n",
        "\n",
        "#Create Dataset and DataLoader\n",
        "window_size = 5  # Define the window size for each sequence\n",
        "dataset = TemporalContrastiveDataset(contrastive_data, window_size)\n",
        "dataloader = DataLoader(dataset, batch_size=32, shuffle=True)\n",
        "\n",
        "#Verify DataLoader Output with Limited Debugging\n",
        "print(\"\\nSample Batch from DataLoader:\")\n",
        "\n",
        "max_batches_to_log = 2  # Limit debug output to first 2 batches\n",
        "batch_count = 0\n",
        "\n",
        "for x1, x2, label in dataloader:\n",
        "    batch_count += 1\n",
        "    print(f\"Batch {batch_count}: x1 Shape: {x1.shape}, x2 Shape: {x2.shape}, Labels: {label[:5]}\")\n",
        "    print(f\"x1[0]: {x1[0]}\")  \n",
        "    print(f\"x2[0]: {x2[0]}\") \n",
        "    if batch_count >= max_batches_to_log:\n",
        "        break"
      ]
    },
    {
      "cell_type": "markdown",
      "metadata": {},
      "source": [
        "### Define Contrastive LSTM Model"
      ]
    },
    {
      "cell_type": "code",
      "execution_count": 56,
      "metadata": {
        "id": "Ozg3oIAcjtXc"
      },
      "outputs": [
        {
          "data": {
            "text/plain": [
              "==========================================================================================\n",
              "Layer (type:depth-idx)                   Output Shape              Param #\n",
              "==========================================================================================\n",
              "ContrastiveLSTMModel                     [32, 32]                  --\n",
              "├─LSTM: 1-1                              [32, 5, 128]              133,632\n",
              "├─Sequential: 1-2                        [32, 32]                  --\n",
              "│    └─Linear: 2-1                       [32, 64]                  8,256\n",
              "│    └─BatchNorm1d: 2-2                  [32, 64]                  128\n",
              "│    └─ReLU: 2-3                         [32, 64]                  --\n",
              "│    └─Dropout: 2-4                      [32, 64]                  --\n",
              "│    └─Linear: 2-5                       [32, 32]                  2,080\n",
              "│    └─BatchNorm1d: 2-6                  [32, 32]                  64\n",
              "==========================================================================================\n",
              "Total params: 144,160\n",
              "Trainable params: 144,160\n",
              "Non-trainable params: 0\n",
              "Total mult-adds (Units.MEGABYTES): 21.72\n",
              "==========================================================================================\n",
              "Input size (MB): 0.00\n",
              "Forward/backward pass size (MB): 0.21\n",
              "Params size (MB): 0.58\n",
              "Estimated Total Size (MB): 0.79\n",
              "=========================================================================================="
            ]
          },
          "execution_count": 56,
          "metadata": {},
          "output_type": "execute_result"
        }
      ],
      "source": [
        "import torch\n",
        "import torch.nn as nn\n",
        "\n",
        "# LSTM-Based Contrastive Model\n",
        "class ContrastiveLSTMModel(nn.Module):\n",
        "    def __init__(self, input_dim, hidden_dim, output_dim, num_layers=2, dropout=0.3, bidirectional=False):\n",
        "        super(ContrastiveLSTMModel, self).__init__()\n",
        "        self.bidirectional = bidirectional\n",
        "        self.lstm = nn.LSTM(input_dim, hidden_dim, num_layers=num_layers,\n",
        "                            batch_first=True, dropout=dropout, bidirectional=bidirectional)\n",
        "        self.projection_head = nn.Sequential(\n",
        "            nn.Linear(hidden_dim * (2 if bidirectional else 1), hidden_dim),\n",
        "            nn.BatchNorm1d(hidden_dim),\n",
        "            nn.ReLU(),\n",
        "            nn.Dropout(dropout),\n",
        "            nn.Linear(hidden_dim, output_dim),\n",
        "            nn.BatchNorm1d(output_dim)\n",
        "        )\n",
        "    def forward(self, x):\n",
        "        if x.dim() == 2: \n",
        "            x = x.unsqueeze(-1)\n",
        "        lstm_out, (hidden, _) = self.lstm(x)  \n",
        "        if self.bidirectional:\n",
        "            num_layers = self.lstm.num_layers\n",
        "            hidden = hidden.view(num_layers, 2, hidden.size(1), hidden.size(2))\n",
        "            hidden = torch.cat((hidden[-1, 0], hidden[-1, 1]), dim=1) \n",
        "        else:\n",
        "            hidden = hidden[-1]  \n",
        "        embeddings = self.projection_head(hidden) \n",
        "        return embeddings\n",
        "\n",
        "# Model Initialization\n",
        "input_dim = 1        \n",
        "hidden_dim = 64      \n",
        "output_dim = 32      \n",
        "num_layers = 2      \n",
        "dropout = 0.3\n",
        "bidirectional = True \n",
        "model = ContrastiveLSTMModel(input_dim, hidden_dim, output_dim, num_layers, dropout, bidirectional)\n",
        "from torchinfo import summary\n",
        "summary(model, input_size=(32, 5, 1))  "
      ]
    },
    {
      "cell_type": "markdown",
      "metadata": {},
      "source": [
        "### Data Augmentation"
      ]
    },
    {
      "cell_type": "code",
      "execution_count": 57,
      "metadata": {},
      "outputs": [],
      "source": [
        "import torch\n",
        "import random\n",
        "def data_augmentation(x, noise_std=0.1, scale_min=0.8, scale_max=1.2, mask_prob=0.1):\n",
        "    noise = torch.randn_like(x) * noise_std\n",
        "    scale = torch.empty(x.size(0), 1, 1, device=x.device).uniform_(scale_min, scale_max)\n",
        "    x = x * scale + noise\n",
        "    mask = torch.bernoulli(torch.full((x.size(0), x.size(1), 1), 1 - mask_prob, device=x.device))\n",
        "    x = x * mask  \n",
        "    return x"
      ]
    },
    {
      "cell_type": "markdown",
      "metadata": {
        "id": "elh_pkQpjw8S"
      },
      "source": [
        "### NT-Xent Loss"
      ]
    },
    {
      "cell_type": "code",
      "execution_count": 58,
      "metadata": {
        "colab": {
          "base_uri": "https://localhost:8080/"
        },
        "id": "m-x0yZQSjz5P",
        "outputId": "4c78093a-5512-4938-f4f1-8c4c32d5ec47"
      },
      "outputs": [],
      "source": [
        "import torch\n",
        "import torch.nn as nn\n",
        "\n",
        "class NTXentLoss(nn.Module):\n",
        "    def __init__(self, temperature=0.07, eps=1e-8, hard_negative_threshold=0.3):\n",
        "        super(NTXentLoss, self).__init__()\n",
        "        self.temperature = temperature\n",
        "        self.eps = eps\n",
        "        self.hard_negative_threshold = hard_negative_threshold\n",
        "\n",
        "    def forward(self, z1, z2, label):\n",
        "        # Normalize embeddings\n",
        "        z1 = z1 / (torch.norm(z1, dim=-1, keepdim=True) + self.eps)\n",
        "        z2 = z2 / (torch.norm(z2, dim=-1, keepdim=True) + self.eps)\n",
        "\n",
        "        # Compute cosine similarity\n",
        "        sim = torch.mm(z1, z2.t()) / self.temperature  \n",
        "        sim = torch.clamp(sim, min=-1.0, max=1.0)\n",
        "\n",
        "        # Masks for positive and negative pairs\n",
        "        positive_mask = torch.eye(sim.size(0), device=sim.device).bool()  \n",
        "        negative_mask = ~positive_mask  \n",
        "\n",
        "        # Debugging: Check for NaNs in cosine similarity\n",
        "        if torch.isnan(sim).any():\n",
        "            print(\"NaNs detected in cosine similarity matrix!\")\n",
        "            return torch.tensor(float('nan'), device=sim.device)\n",
        "\n",
        "        # Positive Loss\n",
        "        exp_sim = torch.exp(sim) \n",
        "        positive_loss = -torch.log(exp_sim[positive_mask] / (exp_sim.sum(dim=1) + self.eps)).mean()\n",
        "\n",
        "        # Hard Negative Loss\n",
        "        hard_negative_mask = negative_mask & (sim > self.hard_negative_threshold)\n",
        "        if hard_negative_mask.sum() > 0:  # If hard negatives exist\n",
        "            negative_loss = -torch.log(1 - sim[hard_negative_mask] + self.eps).mean()\n",
        "        else:\n",
        "            negative_loss = torch.tensor(0.0, device=sim.device)\n",
        "\n",
        "        # Total Loss\n",
        "        total_loss = positive_loss + negative_loss\n",
        "\n",
        "        return total_loss\n"
      ]
    },
    {
      "cell_type": "markdown",
      "metadata": {},
      "source": [
        "### Training Loop with Optimizer, Scheduler, and Data Augmentation"
      ]
    },
    {
      "cell_type": "code",
      "execution_count": 59,
      "metadata": {
        "id": "SMcZ5gnRvi7O"
      },
      "outputs": [
        {
          "name": "stdout",
          "output_type": "stream",
          "text": [
            "Using device: cuda\n",
            "Verifying dataset...\n",
            "Sample 0: x1 shape torch.Size([5]), x2 shape torch.Size([5]), label shape torch.Size([1])\n",
            "Setting up DataLoaders...\n",
            "Starting Training...\n",
            "\n",
            "Epoch 1/100 - Training Phase Started...\n"
          ]
        },
        {
          "name": "stderr",
          "output_type": "stream",
          "text": [
            "Training Epoch 1: 100%|██████████| 519/519 [00:05<00:00, 95.66it/s] \n"
          ]
        },
        {
          "name": "stdout",
          "output_type": "stream",
          "text": [
            "\n",
            "Epoch 1/100 - Validation Phase Started...\n"
          ]
        },
        {
          "name": "stderr",
          "output_type": "stream",
          "text": [
            "Validation Epoch 1: 100%|██████████| 130/130 [00:00<00:00, 135.90it/s]\n"
          ]
        },
        {
          "name": "stdout",
          "output_type": "stream",
          "text": [
            "Epoch 1/100 | Training Loss: 5.5309 | Validation Loss: 22.2825 | Learning Rate: 0.000213 | Time: 6.38s\n",
            "\n",
            "Epoch 2/100 - Training Phase Started...\n"
          ]
        },
        {
          "name": "stderr",
          "output_type": "stream",
          "text": [
            "Training Epoch 2: 100%|██████████| 519/519 [00:05<00:00, 98.06it/s] \n"
          ]
        },
        {
          "name": "stdout",
          "output_type": "stream",
          "text": [
            "\n",
            "Epoch 2/100 - Validation Phase Started...\n"
          ]
        },
        {
          "name": "stderr",
          "output_type": "stream",
          "text": [
            "Validation Epoch 2: 100%|██████████| 130/130 [00:00<00:00, 167.23it/s]\n"
          ]
        },
        {
          "name": "stdout",
          "output_type": "stream",
          "text": [
            "Epoch 2/100 | Training Loss: 5.2985 | Validation Loss: 21.5357 | Learning Rate: 0.000252 | Time: 6.08s\n",
            "\n",
            "Epoch 3/100 - Training Phase Started...\n"
          ]
        },
        {
          "name": "stderr",
          "output_type": "stream",
          "text": [
            "Training Epoch 3: 100%|██████████| 519/519 [00:05<00:00, 97.50it/s] \n"
          ]
        },
        {
          "name": "stdout",
          "output_type": "stream",
          "text": [
            "\n",
            "Epoch 3/100 - Validation Phase Started...\n"
          ]
        },
        {
          "name": "stderr",
          "output_type": "stream",
          "text": [
            "Validation Epoch 3: 100%|██████████| 130/130 [00:00<00:00, 150.04it/s]\n"
          ]
        },
        {
          "name": "stdout",
          "output_type": "stream",
          "text": [
            "Epoch 3/100 | Training Loss: 5.2534 | Validation Loss: 20.8676 | Learning Rate: 0.000317 | Time: 6.19s\n",
            "\n",
            "Epoch 4/100 - Training Phase Started...\n"
          ]
        },
        {
          "name": "stderr",
          "output_type": "stream",
          "text": [
            "Training Epoch 4: 100%|██████████| 519/519 [00:05<00:00, 94.47it/s] \n"
          ]
        },
        {
          "name": "stdout",
          "output_type": "stream",
          "text": [
            "\n",
            "Epoch 4/100 - Validation Phase Started...\n"
          ]
        },
        {
          "name": "stderr",
          "output_type": "stream",
          "text": [
            "Validation Epoch 4: 100%|██████████| 130/130 [00:00<00:00, 189.43it/s]\n"
          ]
        },
        {
          "name": "stdout",
          "output_type": "stream",
          "text": [
            "Epoch 4/100 | Training Loss: 5.2197 | Validation Loss: 20.9104 | Learning Rate: 0.000408 | Time: 6.18s\n",
            "\n",
            "Epoch 5/100 - Training Phase Started...\n"
          ]
        },
        {
          "name": "stderr",
          "output_type": "stream",
          "text": [
            "Training Epoch 5: 100%|██████████| 519/519 [00:05<00:00, 96.50it/s] \n"
          ]
        },
        {
          "name": "stdout",
          "output_type": "stream",
          "text": [
            "\n",
            "Epoch 5/100 - Validation Phase Started...\n"
          ]
        },
        {
          "name": "stderr",
          "output_type": "stream",
          "text": [
            "Validation Epoch 5: 100%|██████████| 130/130 [00:00<00:00, 153.76it/s]\n"
          ]
        },
        {
          "name": "stdout",
          "output_type": "stream",
          "text": [
            "Epoch 5/100 | Training Loss: 5.1961 | Validation Loss: 20.8797 | Learning Rate: 0.000522 | Time: 6.23s\n",
            "\n",
            "Epoch 6/100 - Training Phase Started...\n"
          ]
        },
        {
          "name": "stderr",
          "output_type": "stream",
          "text": [
            "Training Epoch 6: 100%|██████████| 519/519 [00:05<00:00, 90.37it/s] \n"
          ]
        },
        {
          "name": "stdout",
          "output_type": "stream",
          "text": [
            "\n",
            "Epoch 6/100 - Validation Phase Started...\n"
          ]
        },
        {
          "name": "stderr",
          "output_type": "stream",
          "text": [
            "Validation Epoch 6: 100%|██████████| 130/130 [00:00<00:00, 194.72it/s]\n"
          ]
        },
        {
          "name": "stdout",
          "output_type": "stream",
          "text": [
            "Epoch 6/100 | Training Loss: 5.2054 | Validation Loss: 20.9642 | Learning Rate: 0.000658 | Time: 6.41s\n",
            "\n",
            "Epoch 7/100 - Training Phase Started...\n"
          ]
        },
        {
          "name": "stderr",
          "output_type": "stream",
          "text": [
            "Training Epoch 7: 100%|██████████| 519/519 [00:07<00:00, 71.59it/s] \n"
          ]
        },
        {
          "name": "stdout",
          "output_type": "stream",
          "text": [
            "\n",
            "Epoch 7/100 - Validation Phase Started...\n"
          ]
        },
        {
          "name": "stderr",
          "output_type": "stream",
          "text": [
            "Validation Epoch 7: 100%|██████████| 130/130 [00:02<00:00, 48.56it/s]\n"
          ]
        },
        {
          "name": "stdout",
          "output_type": "stream",
          "text": [
            "Epoch 7/100 | Training Loss: 5.1937 | Validation Loss: 20.4786 | Learning Rate: 0.000817 | Time: 9.93s\n",
            "\n",
            "Epoch 8/100 - Training Phase Started...\n"
          ]
        },
        {
          "name": "stderr",
          "output_type": "stream",
          "text": [
            "Training Epoch 8: 100%|██████████| 519/519 [00:25<00:00, 20.02it/s]\n"
          ]
        },
        {
          "name": "stdout",
          "output_type": "stream",
          "text": [
            "\n",
            "Epoch 8/100 - Validation Phase Started...\n"
          ]
        },
        {
          "name": "stderr",
          "output_type": "stream",
          "text": [
            "Validation Epoch 8: 100%|██████████| 130/130 [00:02<00:00, 53.63it/s]\n"
          ]
        },
        {
          "name": "stdout",
          "output_type": "stream",
          "text": [
            "Epoch 8/100 | Training Loss: 5.2003 | Validation Loss: 20.0584 | Learning Rate: 0.000994 | Time: 28.36s\n",
            "\n",
            "Epoch 9/100 - Training Phase Started...\n"
          ]
        },
        {
          "name": "stderr",
          "output_type": "stream",
          "text": [
            "Training Epoch 9: 100%|██████████| 519/519 [00:24<00:00, 21.26it/s]\n"
          ]
        },
        {
          "name": "stdout",
          "output_type": "stream",
          "text": [
            "\n",
            "Epoch 9/100 - Validation Phase Started...\n"
          ]
        },
        {
          "name": "stderr",
          "output_type": "stream",
          "text": [
            "Validation Epoch 9: 100%|██████████| 130/130 [00:02<00:00, 43.92it/s]\n"
          ]
        },
        {
          "name": "stdout",
          "output_type": "stream",
          "text": [
            "Epoch 9/100 | Training Loss: 5.2113 | Validation Loss: 20.0109 | Learning Rate: 0.001189 | Time: 27.37s\n",
            "\n",
            "Epoch 10/100 - Training Phase Started...\n"
          ]
        },
        {
          "name": "stderr",
          "output_type": "stream",
          "text": [
            "Training Epoch 10: 100%|██████████| 519/519 [00:09<00:00, 53.15it/s] \n"
          ]
        },
        {
          "name": "stdout",
          "output_type": "stream",
          "text": [
            "\n",
            "Epoch 10/100 - Validation Phase Started...\n"
          ]
        },
        {
          "name": "stderr",
          "output_type": "stream",
          "text": [
            "Validation Epoch 10: 100%|██████████| 130/130 [00:00<00:00, 152.49it/s]\n"
          ]
        },
        {
          "name": "stdout",
          "output_type": "stream",
          "text": [
            "Epoch 10/100 | Training Loss: 5.2056 | Validation Loss: 19.8801 | Learning Rate: 0.001400 | Time: 10.63s\n",
            "\n",
            "Epoch 11/100 - Training Phase Started...\n"
          ]
        },
        {
          "name": "stderr",
          "output_type": "stream",
          "text": [
            "Training Epoch 11: 100%|██████████| 519/519 [00:05<00:00, 96.63it/s] \n"
          ]
        },
        {
          "name": "stdout",
          "output_type": "stream",
          "text": [
            "\n",
            "Epoch 11/100 - Validation Phase Started...\n"
          ]
        },
        {
          "name": "stderr",
          "output_type": "stream",
          "text": [
            "Validation Epoch 11: 100%|██████████| 130/130 [00:00<00:00, 156.43it/s]\n"
          ]
        },
        {
          "name": "stdout",
          "output_type": "stream",
          "text": [
            "Epoch 11/100 | Training Loss: 5.2153 | Validation Loss: 19.7443 | Learning Rate: 0.001624 | Time: 6.21s\n",
            "\n",
            "Epoch 12/100 - Training Phase Started...\n"
          ]
        },
        {
          "name": "stderr",
          "output_type": "stream",
          "text": [
            "Training Epoch 12: 100%|██████████| 519/519 [00:05<00:00, 100.86it/s]\n"
          ]
        },
        {
          "name": "stdout",
          "output_type": "stream",
          "text": [
            "\n",
            "Epoch 12/100 - Validation Phase Started...\n"
          ]
        },
        {
          "name": "stderr",
          "output_type": "stream",
          "text": [
            "Validation Epoch 12: 100%|██████████| 130/130 [00:00<00:00, 147.01it/s]\n"
          ]
        },
        {
          "name": "stdout",
          "output_type": "stream",
          "text": [
            "Epoch 12/100 | Training Loss: 5.2186 | Validation Loss: 20.3256 | Learning Rate: 0.001859 | Time: 6.03s\n",
            "\n",
            "Epoch 13/100 - Training Phase Started...\n"
          ]
        },
        {
          "name": "stderr",
          "output_type": "stream",
          "text": [
            "Training Epoch 13: 100%|██████████| 519/519 [00:05<00:00, 95.00it/s] \n"
          ]
        },
        {
          "name": "stdout",
          "output_type": "stream",
          "text": [
            "\n",
            "Epoch 13/100 - Validation Phase Started...\n"
          ]
        },
        {
          "name": "stderr",
          "output_type": "stream",
          "text": [
            "Validation Epoch 13: 100%|██████████| 130/130 [00:00<00:00, 162.45it/s]\n"
          ]
        },
        {
          "name": "stdout",
          "output_type": "stream",
          "text": [
            "Epoch 13/100 | Training Loss: 5.2247 | Validation Loss: 19.6981 | Learning Rate: 0.002101 | Time: 6.26s\n",
            "\n",
            "Epoch 14/100 - Training Phase Started...\n"
          ]
        },
        {
          "name": "stderr",
          "output_type": "stream",
          "text": [
            "Training Epoch 14: 100%|██████████| 519/519 [00:04<00:00, 105.39it/s]\n"
          ]
        },
        {
          "name": "stdout",
          "output_type": "stream",
          "text": [
            "\n",
            "Epoch 14/100 - Validation Phase Started...\n"
          ]
        },
        {
          "name": "stderr",
          "output_type": "stream",
          "text": [
            "Validation Epoch 14: 100%|██████████| 130/130 [00:00<00:00, 144.16it/s]\n"
          ]
        },
        {
          "name": "stdout",
          "output_type": "stream",
          "text": [
            "Epoch 14/100 | Training Loss: 5.2150 | Validation Loss: 19.1371 | Learning Rate: 0.002349 | Time: 5.84s\n",
            "\n",
            "Epoch 15/100 - Training Phase Started...\n"
          ]
        },
        {
          "name": "stderr",
          "output_type": "stream",
          "text": [
            "Training Epoch 15: 100%|██████████| 519/519 [00:05<00:00, 98.96it/s] \n"
          ]
        },
        {
          "name": "stdout",
          "output_type": "stream",
          "text": [
            "\n",
            "Epoch 15/100 - Validation Phase Started...\n"
          ]
        },
        {
          "name": "stderr",
          "output_type": "stream",
          "text": [
            "Validation Epoch 15: 100%|██████████| 130/130 [00:00<00:00, 155.33it/s]\n"
          ]
        },
        {
          "name": "stdout",
          "output_type": "stream",
          "text": [
            "Epoch 15/100 | Training Loss: 5.2094 | Validation Loss: 19.2083 | Learning Rate: 0.002600 | Time: 6.08s\n",
            "\n",
            "Epoch 16/100 - Training Phase Started...\n"
          ]
        },
        {
          "name": "stderr",
          "output_type": "stream",
          "text": [
            "Training Epoch 16: 100%|██████████| 519/519 [00:05<00:00, 87.62it/s] \n"
          ]
        },
        {
          "name": "stdout",
          "output_type": "stream",
          "text": [
            "\n",
            "Epoch 16/100 - Validation Phase Started...\n"
          ]
        },
        {
          "name": "stderr",
          "output_type": "stream",
          "text": [
            "Validation Epoch 16: 100%|██████████| 130/130 [00:00<00:00, 147.73it/s]\n"
          ]
        },
        {
          "name": "stdout",
          "output_type": "stream",
          "text": [
            "Epoch 16/100 | Training Loss: 5.2072 | Validation Loss: 19.2794 | Learning Rate: 0.002851 | Time: 6.81s\n",
            "\n",
            "Epoch 17/100 - Training Phase Started...\n"
          ]
        },
        {
          "name": "stderr",
          "output_type": "stream",
          "text": [
            "Training Epoch 17: 100%|██████████| 519/519 [00:05<00:00, 91.78it/s] \n"
          ]
        },
        {
          "name": "stdout",
          "output_type": "stream",
          "text": [
            "\n",
            "Epoch 17/100 - Validation Phase Started...\n"
          ]
        },
        {
          "name": "stderr",
          "output_type": "stream",
          "text": [
            "Validation Epoch 17: 100%|██████████| 130/130 [00:00<00:00, 185.68it/s]\n"
          ]
        },
        {
          "name": "stdout",
          "output_type": "stream",
          "text": [
            "Epoch 17/100 | Training Loss: 5.2116 | Validation Loss: 18.8291 | Learning Rate: 0.003099 | Time: 6.36s\n",
            "\n",
            "Epoch 18/100 - Training Phase Started...\n"
          ]
        },
        {
          "name": "stderr",
          "output_type": "stream",
          "text": [
            "Training Epoch 18: 100%|██████████| 519/519 [00:05<00:00, 94.78it/s] \n"
          ]
        },
        {
          "name": "stdout",
          "output_type": "stream",
          "text": [
            "\n",
            "Epoch 18/100 - Validation Phase Started...\n"
          ]
        },
        {
          "name": "stderr",
          "output_type": "stream",
          "text": [
            "Validation Epoch 18: 100%|██████████| 130/130 [00:00<00:00, 173.32it/s]\n"
          ]
        },
        {
          "name": "stdout",
          "output_type": "stream",
          "text": [
            "Epoch 18/100 | Training Loss: 5.2142 | Validation Loss: 18.9904 | Learning Rate: 0.003342 | Time: 6.23s\n",
            "\n",
            "Epoch 19/100 - Training Phase Started...\n"
          ]
        },
        {
          "name": "stderr",
          "output_type": "stream",
          "text": [
            "Training Epoch 19: 100%|██████████| 519/519 [00:05<00:00, 93.64it/s] \n"
          ]
        },
        {
          "name": "stdout",
          "output_type": "stream",
          "text": [
            "\n",
            "Epoch 19/100 - Validation Phase Started...\n"
          ]
        },
        {
          "name": "stderr",
          "output_type": "stream",
          "text": [
            "Validation Epoch 19: 100%|██████████| 130/130 [00:00<00:00, 195.31it/s]\n"
          ]
        },
        {
          "name": "stdout",
          "output_type": "stream",
          "text": [
            "Epoch 19/100 | Training Loss: 5.2001 | Validation Loss: 18.9693 | Learning Rate: 0.003576 | Time: 6.21s\n",
            "\n",
            "Epoch 20/100 - Training Phase Started...\n"
          ]
        },
        {
          "name": "stderr",
          "output_type": "stream",
          "text": [
            "Training Epoch 20: 100%|██████████| 519/519 [00:05<00:00, 88.13it/s] \n"
          ]
        },
        {
          "name": "stdout",
          "output_type": "stream",
          "text": [
            "\n",
            "Epoch 20/100 - Validation Phase Started...\n"
          ]
        },
        {
          "name": "stderr",
          "output_type": "stream",
          "text": [
            "Validation Epoch 20: 100%|██████████| 130/130 [00:00<00:00, 188.77it/s]\n"
          ]
        },
        {
          "name": "stdout",
          "output_type": "stream",
          "text": [
            "Epoch 20/100 | Training Loss: 5.1790 | Validation Loss: 18.0467 | Learning Rate: 0.003800 | Time: 6.58s\n",
            "\n",
            "Epoch 21/100 - Training Phase Started...\n"
          ]
        },
        {
          "name": "stderr",
          "output_type": "stream",
          "text": [
            "Training Epoch 21: 100%|██████████| 519/519 [00:05<00:00, 89.50it/s]\n"
          ]
        },
        {
          "name": "stdout",
          "output_type": "stream",
          "text": [
            "\n",
            "Epoch 21/100 - Validation Phase Started...\n"
          ]
        },
        {
          "name": "stderr",
          "output_type": "stream",
          "text": [
            "Validation Epoch 21: 100%|██████████| 130/130 [00:00<00:00, 175.82it/s]\n"
          ]
        },
        {
          "name": "stdout",
          "output_type": "stream",
          "text": [
            "Epoch 21/100 | Training Loss: 5.1717 | Validation Loss: 18.5842 | Learning Rate: 0.004011 | Time: 6.54s\n",
            "\n",
            "Epoch 22/100 - Training Phase Started...\n"
          ]
        },
        {
          "name": "stderr",
          "output_type": "stream",
          "text": [
            "Training Epoch 22: 100%|██████████| 519/519 [00:05<00:00, 88.17it/s]\n"
          ]
        },
        {
          "name": "stdout",
          "output_type": "stream",
          "text": [
            "\n",
            "Epoch 22/100 - Validation Phase Started...\n"
          ]
        },
        {
          "name": "stderr",
          "output_type": "stream",
          "text": [
            "Validation Epoch 22: 100%|██████████| 130/130 [00:00<00:00, 188.98it/s]\n"
          ]
        },
        {
          "name": "stdout",
          "output_type": "stream",
          "text": [
            "Epoch 22/100 | Training Loss: 5.1602 | Validation Loss: 18.4996 | Learning Rate: 0.004206 | Time: 6.60s\n",
            "\n",
            "Epoch 23/100 - Training Phase Started...\n"
          ]
        },
        {
          "name": "stderr",
          "output_type": "stream",
          "text": [
            "Training Epoch 23: 100%|██████████| 519/519 [00:05<00:00, 88.47it/s]\n"
          ]
        },
        {
          "name": "stdout",
          "output_type": "stream",
          "text": [
            "\n",
            "Epoch 23/100 - Validation Phase Started...\n"
          ]
        },
        {
          "name": "stderr",
          "output_type": "stream",
          "text": [
            "Validation Epoch 23: 100%|██████████| 130/130 [00:00<00:00, 181.77it/s]\n"
          ]
        },
        {
          "name": "stdout",
          "output_type": "stream",
          "text": [
            "Epoch 23/100 | Training Loss: 5.1547 | Validation Loss: 18.6247 | Learning Rate: 0.004384 | Time: 6.58s\n",
            "\n",
            "Epoch 24/100 - Training Phase Started...\n"
          ]
        },
        {
          "name": "stderr",
          "output_type": "stream",
          "text": [
            "Training Epoch 24: 100%|██████████| 519/519 [00:05<00:00, 89.01it/s]\n"
          ]
        },
        {
          "name": "stdout",
          "output_type": "stream",
          "text": [
            "\n",
            "Epoch 24/100 - Validation Phase Started...\n"
          ]
        },
        {
          "name": "stderr",
          "output_type": "stream",
          "text": [
            "Validation Epoch 24: 100%|██████████| 130/130 [00:00<00:00, 175.18it/s]\n"
          ]
        },
        {
          "name": "stdout",
          "output_type": "stream",
          "text": [
            "Epoch 24/100 | Training Loss: 5.1503 | Validation Loss: 19.4357 | Learning Rate: 0.004542 | Time: 6.57s\n",
            "\n",
            "Epoch 25/100 - Training Phase Started...\n"
          ]
        },
        {
          "name": "stderr",
          "output_type": "stream",
          "text": [
            "Training Epoch 25: 100%|██████████| 519/519 [00:05<00:00, 101.77it/s]\n"
          ]
        },
        {
          "name": "stdout",
          "output_type": "stream",
          "text": [
            "\n",
            "Epoch 25/100 - Validation Phase Started...\n"
          ]
        },
        {
          "name": "stderr",
          "output_type": "stream",
          "text": [
            "Validation Epoch 25: 100%|██████████| 130/130 [00:00<00:00, 197.63it/s]\n"
          ]
        },
        {
          "name": "stdout",
          "output_type": "stream",
          "text": [
            "Epoch 25/100 | Training Loss: 5.1385 | Validation Loss: 19.3159 | Learning Rate: 0.004679 | Time: 5.76s\n",
            "\n",
            "Epoch 26/100 - Training Phase Started...\n"
          ]
        },
        {
          "name": "stderr",
          "output_type": "stream",
          "text": [
            "Training Epoch 26: 100%|██████████| 519/519 [00:05<00:00, 99.69it/s] \n"
          ]
        },
        {
          "name": "stdout",
          "output_type": "stream",
          "text": [
            "\n",
            "Epoch 26/100 - Validation Phase Started...\n"
          ]
        },
        {
          "name": "stderr",
          "output_type": "stream",
          "text": [
            "Validation Epoch 26: 100%|██████████| 130/130 [00:00<00:00, 189.37it/s]\n"
          ]
        },
        {
          "name": "stdout",
          "output_type": "stream",
          "text": [
            "Epoch 26/100 | Training Loss: 5.1294 | Validation Loss: 19.7063 | Learning Rate: 0.004793 | Time: 5.89s\n",
            "\n",
            "Epoch 27/100 - Training Phase Started...\n"
          ]
        },
        {
          "name": "stderr",
          "output_type": "stream",
          "text": [
            "Training Epoch 27: 100%|██████████| 519/519 [00:05<00:00, 101.18it/s]\n"
          ]
        },
        {
          "name": "stdout",
          "output_type": "stream",
          "text": [
            "\n",
            "Epoch 27/100 - Validation Phase Started...\n"
          ]
        },
        {
          "name": "stderr",
          "output_type": "stream",
          "text": [
            "Validation Epoch 27: 100%|██████████| 130/130 [00:00<00:00, 167.46it/s]\n"
          ]
        },
        {
          "name": "stdout",
          "output_type": "stream",
          "text": [
            "Epoch 27/100 | Training Loss: 5.1193 | Validation Loss: 19.7013 | Learning Rate: 0.004883 | Time: 5.91s\n",
            "\n",
            "Epoch 28/100 - Training Phase Started...\n"
          ]
        },
        {
          "name": "stderr",
          "output_type": "stream",
          "text": [
            "Training Epoch 28: 100%|██████████| 519/519 [00:05<00:00, 95.70it/s] \n"
          ]
        },
        {
          "name": "stdout",
          "output_type": "stream",
          "text": [
            "\n",
            "Epoch 28/100 - Validation Phase Started...\n"
          ]
        },
        {
          "name": "stderr",
          "output_type": "stream",
          "text": [
            "Validation Epoch 28: 100%|██████████| 130/130 [00:00<00:00, 182.78it/s]\n"
          ]
        },
        {
          "name": "stdout",
          "output_type": "stream",
          "text": [
            "Epoch 28/100 | Training Loss: 5.1231 | Validation Loss: 19.5033 | Learning Rate: 0.004948 | Time: 6.14s\n",
            "\n",
            "Epoch 29/100 - Training Phase Started...\n"
          ]
        },
        {
          "name": "stderr",
          "output_type": "stream",
          "text": [
            "Training Epoch 29: 100%|██████████| 519/519 [00:05<00:00, 87.59it/s]\n"
          ]
        },
        {
          "name": "stdout",
          "output_type": "stream",
          "text": [
            "\n",
            "Epoch 29/100 - Validation Phase Started...\n"
          ]
        },
        {
          "name": "stderr",
          "output_type": "stream",
          "text": [
            "Validation Epoch 29: 100%|██████████| 130/130 [00:00<00:00, 185.20it/s]\n"
          ]
        },
        {
          "name": "stdout",
          "output_type": "stream",
          "text": [
            "Epoch 29/100 | Training Loss: 5.1179 | Validation Loss: 19.4044 | Learning Rate: 0.004987 | Time: 6.64s\n",
            "\n",
            "Epoch 30/100 - Training Phase Started...\n"
          ]
        },
        {
          "name": "stderr",
          "output_type": "stream",
          "text": [
            "Training Epoch 30: 100%|██████████| 519/519 [00:05<00:00, 95.76it/s] \n"
          ]
        },
        {
          "name": "stdout",
          "output_type": "stream",
          "text": [
            "\n",
            "Epoch 30/100 - Validation Phase Started...\n"
          ]
        },
        {
          "name": "stderr",
          "output_type": "stream",
          "text": [
            "Validation Epoch 30: 100%|██████████| 130/130 [00:00<00:00, 153.15it/s]\n"
          ]
        },
        {
          "name": "stdout",
          "output_type": "stream",
          "text": [
            "Epoch 30/100 | Training Loss: 5.1106 | Validation Loss: 19.2994 | Learning Rate: 0.005000 | Time: 6.28s\n",
            "\n",
            "Epoch 31/100 - Training Phase Started...\n"
          ]
        },
        {
          "name": "stderr",
          "output_type": "stream",
          "text": [
            "Training Epoch 31: 100%|██████████| 519/519 [00:05<00:00, 93.85it/s] \n"
          ]
        },
        {
          "name": "stdout",
          "output_type": "stream",
          "text": [
            "\n",
            "Epoch 31/100 - Validation Phase Started...\n"
          ]
        },
        {
          "name": "stderr",
          "output_type": "stream",
          "text": [
            "Validation Epoch 31: 100%|██████████| 130/130 [00:00<00:00, 150.71it/s]\n"
          ]
        },
        {
          "name": "stdout",
          "output_type": "stream",
          "text": [
            "Epoch 31/100 | Training Loss: 5.1100 | Validation Loss: 20.0072 | Learning Rate: 0.004997 | Time: 6.39s\n",
            "\n",
            "Epoch 32/100 - Training Phase Started...\n"
          ]
        },
        {
          "name": "stderr",
          "output_type": "stream",
          "text": [
            "Training Epoch 32: 100%|██████████| 519/519 [00:05<00:00, 92.13it/s]\n"
          ]
        },
        {
          "name": "stdout",
          "output_type": "stream",
          "text": [
            "\n",
            "Epoch 32/100 - Validation Phase Started...\n"
          ]
        },
        {
          "name": "stderr",
          "output_type": "stream",
          "text": [
            "Validation Epoch 32: 100%|██████████| 130/130 [00:00<00:00, 173.22it/s]\n"
          ]
        },
        {
          "name": "stdout",
          "output_type": "stream",
          "text": [
            "Epoch 32/100 | Training Loss: 5.1126 | Validation Loss: 20.0991 | Learning Rate: 0.004990 | Time: 6.39s\n",
            "\n",
            "Epoch 33/100 - Training Phase Started...\n"
          ]
        },
        {
          "name": "stderr",
          "output_type": "stream",
          "text": [
            "Training Epoch 33: 100%|██████████| 519/519 [00:05<00:00, 92.79it/s]\n"
          ]
        },
        {
          "name": "stdout",
          "output_type": "stream",
          "text": [
            "\n",
            "Epoch 33/100 - Validation Phase Started...\n"
          ]
        },
        {
          "name": "stderr",
          "output_type": "stream",
          "text": [
            "Validation Epoch 33: 100%|██████████| 130/130 [00:00<00:00, 144.32it/s]\n"
          ]
        },
        {
          "name": "stdout",
          "output_type": "stream",
          "text": [
            "Epoch 33/100 | Training Loss: 5.1082 | Validation Loss: 19.3302 | Learning Rate: 0.004977 | Time: 6.49s\n",
            "\n",
            "Epoch 34/100 - Training Phase Started...\n"
          ]
        },
        {
          "name": "stderr",
          "output_type": "stream",
          "text": [
            "Training Epoch 34: 100%|██████████| 519/519 [00:05<00:00, 97.62it/s] \n"
          ]
        },
        {
          "name": "stdout",
          "output_type": "stream",
          "text": [
            "\n",
            "Epoch 34/100 - Validation Phase Started...\n"
          ]
        },
        {
          "name": "stderr",
          "output_type": "stream",
          "text": [
            "Validation Epoch 34: 100%|██████████| 130/130 [00:00<00:00, 175.30it/s]\n"
          ]
        },
        {
          "name": "stdout",
          "output_type": "stream",
          "text": [
            "Epoch 34/100 | Training Loss: 5.1084 | Validation Loss: 19.3051 | Learning Rate: 0.004960 | Time: 6.06s\n",
            "\n",
            "Epoch 35/100 - Training Phase Started...\n"
          ]
        },
        {
          "name": "stderr",
          "output_type": "stream",
          "text": [
            "Training Epoch 35: 100%|██████████| 519/519 [00:13<00:00, 38.36it/s] \n"
          ]
        },
        {
          "name": "stdout",
          "output_type": "stream",
          "text": [
            "\n",
            "Epoch 35/100 - Validation Phase Started...\n"
          ]
        },
        {
          "name": "stderr",
          "output_type": "stream",
          "text": [
            "Validation Epoch 35: 100%|██████████| 130/130 [00:01<00:00, 95.68it/s] \n"
          ]
        },
        {
          "name": "stdout",
          "output_type": "stream",
          "text": [
            "Epoch 35/100 | Training Loss: 5.1095 | Validation Loss: 19.9588 | Learning Rate: 0.004937 | Time: 14.89s\n",
            "\n",
            "Epoch 36/100 - Training Phase Started...\n"
          ]
        },
        {
          "name": "stderr",
          "output_type": "stream",
          "text": [
            "Training Epoch 36: 100%|██████████| 519/519 [00:05<00:00, 98.33it/s] \n"
          ]
        },
        {
          "name": "stdout",
          "output_type": "stream",
          "text": [
            "\n",
            "Epoch 36/100 - Validation Phase Started...\n"
          ]
        },
        {
          "name": "stderr",
          "output_type": "stream",
          "text": [
            "Validation Epoch 36: 100%|██████████| 130/130 [00:00<00:00, 169.51it/s]\n"
          ]
        },
        {
          "name": "stdout",
          "output_type": "stream",
          "text": [
            "Epoch 36/100 | Training Loss: 5.1017 | Validation Loss: 19.3597 | Learning Rate: 0.004910 | Time: 6.06s\n",
            "\n",
            "Epoch 37/100 - Training Phase Started...\n"
          ]
        },
        {
          "name": "stderr",
          "output_type": "stream",
          "text": [
            "Training Epoch 37: 100%|██████████| 519/519 [00:05<00:00, 91.33it/s] \n"
          ]
        },
        {
          "name": "stdout",
          "output_type": "stream",
          "text": [
            "\n",
            "Epoch 37/100 - Validation Phase Started...\n"
          ]
        },
        {
          "name": "stderr",
          "output_type": "stream",
          "text": [
            "Validation Epoch 37: 100%|██████████| 130/130 [00:00<00:00, 143.28it/s]\n"
          ]
        },
        {
          "name": "stdout",
          "output_type": "stream",
          "text": [
            "Epoch 37/100 | Training Loss: 5.1021 | Validation Loss: 20.0445 | Learning Rate: 0.004878 | Time: 6.59s\n",
            "\n",
            "Epoch 38/100 - Training Phase Started...\n"
          ]
        },
        {
          "name": "stderr",
          "output_type": "stream",
          "text": [
            "Training Epoch 38: 100%|██████████| 519/519 [00:05<00:00, 95.82it/s] \n"
          ]
        },
        {
          "name": "stdout",
          "output_type": "stream",
          "text": [
            "\n",
            "Epoch 38/100 - Validation Phase Started...\n"
          ]
        },
        {
          "name": "stderr",
          "output_type": "stream",
          "text": [
            "Validation Epoch 38: 100%|██████████| 130/130 [00:00<00:00, 191.13it/s]\n"
          ]
        },
        {
          "name": "stdout",
          "output_type": "stream",
          "text": [
            "Epoch 38/100 | Training Loss: 5.1061 | Validation Loss: 19.5295 | Learning Rate: 0.004841 | Time: 6.11s\n",
            "\n",
            "Epoch 39/100 - Training Phase Started...\n"
          ]
        },
        {
          "name": "stderr",
          "output_type": "stream",
          "text": [
            "Training Epoch 39: 100%|██████████| 519/519 [00:05<00:00, 95.42it/s] \n"
          ]
        },
        {
          "name": "stdout",
          "output_type": "stream",
          "text": [
            "\n",
            "Epoch 39/100 - Validation Phase Started...\n"
          ]
        },
        {
          "name": "stderr",
          "output_type": "stream",
          "text": [
            "Validation Epoch 39: 100%|██████████| 130/130 [00:00<00:00, 176.29it/s]\n"
          ]
        },
        {
          "name": "stdout",
          "output_type": "stream",
          "text": [
            "Epoch 39/100 | Training Loss: 5.1011 | Validation Loss: 19.6073 | Learning Rate: 0.004799 | Time: 6.19s\n",
            "\n",
            "Epoch 40/100 - Training Phase Started...\n"
          ]
        },
        {
          "name": "stderr",
          "output_type": "stream",
          "text": [
            "Training Epoch 40: 100%|██████████| 519/519 [00:05<00:00, 97.91it/s] \n"
          ]
        },
        {
          "name": "stdout",
          "output_type": "stream",
          "text": [
            "\n",
            "Epoch 40/100 - Validation Phase Started...\n"
          ]
        },
        {
          "name": "stderr",
          "output_type": "stream",
          "text": [
            "Validation Epoch 40: 100%|██████████| 130/130 [00:00<00:00, 201.14it/s]\n"
          ]
        },
        {
          "name": "stdout",
          "output_type": "stream",
          "text": [
            "Epoch 40/100 | Training Loss: 5.0997 | Validation Loss: 19.7863 | Learning Rate: 0.004752 | Time: 5.95s\n",
            "\n",
            "Epoch 41/100 - Training Phase Started...\n"
          ]
        },
        {
          "name": "stderr",
          "output_type": "stream",
          "text": [
            "Training Epoch 41: 100%|██████████| 519/519 [00:05<00:00, 95.60it/s] \n"
          ]
        },
        {
          "name": "stdout",
          "output_type": "stream",
          "text": [
            "\n",
            "Epoch 41/100 - Validation Phase Started...\n"
          ]
        },
        {
          "name": "stderr",
          "output_type": "stream",
          "text": [
            "Validation Epoch 41: 100%|██████████| 130/130 [00:00<00:00, 193.20it/s]\n"
          ]
        },
        {
          "name": "stdout",
          "output_type": "stream",
          "text": [
            "Epoch 41/100 | Training Loss: 5.1069 | Validation Loss: 20.2280 | Learning Rate: 0.004701 | Time: 6.10s\n",
            "\n",
            "Epoch 42/100 - Training Phase Started...\n"
          ]
        },
        {
          "name": "stderr",
          "output_type": "stream",
          "text": [
            "Training Epoch 42: 100%|██████████| 519/519 [00:05<00:00, 97.81it/s] \n"
          ]
        },
        {
          "name": "stdout",
          "output_type": "stream",
          "text": [
            "\n",
            "Epoch 42/100 - Validation Phase Started...\n"
          ]
        },
        {
          "name": "stderr",
          "output_type": "stream",
          "text": [
            "Validation Epoch 42: 100%|██████████| 130/130 [00:00<00:00, 159.06it/s]\n"
          ]
        },
        {
          "name": "stdout",
          "output_type": "stream",
          "text": [
            "Epoch 42/100 | Training Loss: 5.0941 | Validation Loss: 19.2009 | Learning Rate: 0.004646 | Time: 6.13s\n",
            "\n",
            "Epoch 43/100 - Training Phase Started...\n"
          ]
        },
        {
          "name": "stderr",
          "output_type": "stream",
          "text": [
            "Training Epoch 43: 100%|██████████| 519/519 [00:05<00:00, 98.10it/s] \n"
          ]
        },
        {
          "name": "stdout",
          "output_type": "stream",
          "text": [
            "\n",
            "Epoch 43/100 - Validation Phase Started...\n"
          ]
        },
        {
          "name": "stderr",
          "output_type": "stream",
          "text": [
            "Validation Epoch 43: 100%|██████████| 130/130 [00:00<00:00, 190.18it/s]\n"
          ]
        },
        {
          "name": "stdout",
          "output_type": "stream",
          "text": [
            "Epoch 43/100 | Training Loss: 5.0988 | Validation Loss: 19.6672 | Learning Rate: 0.004586 | Time: 5.98s\n",
            "\n",
            "Epoch 44/100 - Training Phase Started...\n"
          ]
        },
        {
          "name": "stderr",
          "output_type": "stream",
          "text": [
            "Training Epoch 44: 100%|██████████| 519/519 [00:05<00:00, 99.45it/s] \n"
          ]
        },
        {
          "name": "stdout",
          "output_type": "stream",
          "text": [
            "\n",
            "Epoch 44/100 - Validation Phase Started...\n"
          ]
        },
        {
          "name": "stderr",
          "output_type": "stream",
          "text": [
            "Validation Epoch 44: 100%|██████████| 130/130 [00:00<00:00, 186.58it/s]\n"
          ]
        },
        {
          "name": "stdout",
          "output_type": "stream",
          "text": [
            "Epoch 44/100 | Training Loss: 5.1011 | Validation Loss: 19.6662 | Learning Rate: 0.004522 | Time: 5.92s\n",
            "\n",
            "Epoch 45/100 - Training Phase Started...\n"
          ]
        },
        {
          "name": "stderr",
          "output_type": "stream",
          "text": [
            "Training Epoch 45: 100%|██████████| 519/519 [00:05<00:00, 94.63it/s] \n"
          ]
        },
        {
          "name": "stdout",
          "output_type": "stream",
          "text": [
            "\n",
            "Epoch 45/100 - Validation Phase Started...\n"
          ]
        },
        {
          "name": "stderr",
          "output_type": "stream",
          "text": [
            "Validation Epoch 45: 100%|██████████| 130/130 [00:00<00:00, 190.12it/s]\n"
          ]
        },
        {
          "name": "stdout",
          "output_type": "stream",
          "text": [
            "Epoch 45/100 | Training Loss: 5.0989 | Validation Loss: 19.6967 | Learning Rate: 0.004454 | Time: 6.17s\n",
            "\n",
            "Epoch 46/100 - Training Phase Started...\n"
          ]
        },
        {
          "name": "stderr",
          "output_type": "stream",
          "text": [
            "Training Epoch 46: 100%|██████████| 519/519 [00:05<00:00, 95.15it/s] \n"
          ]
        },
        {
          "name": "stdout",
          "output_type": "stream",
          "text": [
            "\n",
            "Epoch 46/100 - Validation Phase Started...\n"
          ]
        },
        {
          "name": "stderr",
          "output_type": "stream",
          "text": [
            "Validation Epoch 46: 100%|██████████| 130/130 [00:00<00:00, 162.73it/s]\n"
          ]
        },
        {
          "name": "stdout",
          "output_type": "stream",
          "text": [
            "Epoch 46/100 | Training Loss: 5.1013 | Validation Loss: 19.5890 | Learning Rate: 0.004383 | Time: 6.25s\n",
            "\n",
            "Epoch 47/100 - Training Phase Started...\n"
          ]
        },
        {
          "name": "stderr",
          "output_type": "stream",
          "text": [
            "Training Epoch 47: 100%|██████████| 519/519 [00:05<00:00, 95.23it/s] \n"
          ]
        },
        {
          "name": "stdout",
          "output_type": "stream",
          "text": [
            "\n",
            "Epoch 47/100 - Validation Phase Started...\n"
          ]
        },
        {
          "name": "stderr",
          "output_type": "stream",
          "text": [
            "Validation Epoch 47: 100%|██████████| 130/130 [00:00<00:00, 140.30it/s]\n"
          ]
        },
        {
          "name": "stdout",
          "output_type": "stream",
          "text": [
            "Epoch 47/100 | Training Loss: 5.0970 | Validation Loss: 19.4278 | Learning Rate: 0.004307 | Time: 6.38s\n",
            "\n",
            "Epoch 48/100 - Training Phase Started...\n"
          ]
        },
        {
          "name": "stderr",
          "output_type": "stream",
          "text": [
            "Training Epoch 48: 100%|██████████| 519/519 [00:05<00:00, 97.26it/s] \n"
          ]
        },
        {
          "name": "stdout",
          "output_type": "stream",
          "text": [
            "\n",
            "Epoch 48/100 - Validation Phase Started...\n"
          ]
        },
        {
          "name": "stderr",
          "output_type": "stream",
          "text": [
            "Validation Epoch 48: 100%|██████████| 130/130 [00:00<00:00, 187.44it/s]\n"
          ]
        },
        {
          "name": "stdout",
          "output_type": "stream",
          "text": [
            "Epoch 48/100 | Training Loss: 5.0985 | Validation Loss: 19.5888 | Learning Rate: 0.004228 | Time: 6.03s\n",
            "\n",
            "Epoch 49/100 - Training Phase Started...\n"
          ]
        },
        {
          "name": "stderr",
          "output_type": "stream",
          "text": [
            "Training Epoch 49: 100%|██████████| 519/519 [00:05<00:00, 100.92it/s]\n"
          ]
        },
        {
          "name": "stdout",
          "output_type": "stream",
          "text": [
            "\n",
            "Epoch 49/100 - Validation Phase Started...\n"
          ]
        },
        {
          "name": "stderr",
          "output_type": "stream",
          "text": [
            "Validation Epoch 49: 100%|██████████| 130/130 [00:00<00:00, 171.16it/s]\n"
          ]
        },
        {
          "name": "stdout",
          "output_type": "stream",
          "text": [
            "Epoch 49/100 | Training Loss: 5.0901 | Validation Loss: 19.7325 | Learning Rate: 0.004145 | Time: 5.91s\n",
            "\n",
            "Epoch 50/100 - Training Phase Started...\n"
          ]
        },
        {
          "name": "stderr",
          "output_type": "stream",
          "text": [
            "Training Epoch 50: 100%|██████████| 519/519 [00:05<00:00, 98.35it/s] \n"
          ]
        },
        {
          "name": "stdout",
          "output_type": "stream",
          "text": [
            "\n",
            "Epoch 50/100 - Validation Phase Started...\n"
          ]
        },
        {
          "name": "stderr",
          "output_type": "stream",
          "text": [
            "Validation Epoch 50: 100%|██████████| 130/130 [00:00<00:00, 163.69it/s]\n"
          ]
        },
        {
          "name": "stdout",
          "output_type": "stream",
          "text": [
            "Epoch 50/100 | Training Loss: 5.0935 | Validation Loss: 19.8721 | Learning Rate: 0.004059 | Time: 6.08s\n",
            "\n",
            "Epoch 51/100 - Training Phase Started...\n"
          ]
        },
        {
          "name": "stderr",
          "output_type": "stream",
          "text": [
            "Training Epoch 51: 100%|██████████| 519/519 [00:05<00:00, 102.86it/s]\n"
          ]
        },
        {
          "name": "stdout",
          "output_type": "stream",
          "text": [
            "\n",
            "Epoch 51/100 - Validation Phase Started...\n"
          ]
        },
        {
          "name": "stderr",
          "output_type": "stream",
          "text": [
            "Validation Epoch 51: 100%|██████████| 130/130 [00:00<00:00, 185.62it/s]\n"
          ]
        },
        {
          "name": "stdout",
          "output_type": "stream",
          "text": [
            "Epoch 51/100 | Training Loss: 5.0880 | Validation Loss: 19.7679 | Learning Rate: 0.003969 | Time: 5.75s\n",
            "\n",
            "Epoch 52/100 - Training Phase Started...\n"
          ]
        },
        {
          "name": "stderr",
          "output_type": "stream",
          "text": [
            "Training Epoch 52: 100%|██████████| 519/519 [00:05<00:00, 98.89it/s] \n"
          ]
        },
        {
          "name": "stdout",
          "output_type": "stream",
          "text": [
            "\n",
            "Epoch 52/100 - Validation Phase Started...\n"
          ]
        },
        {
          "name": "stderr",
          "output_type": "stream",
          "text": [
            "Validation Epoch 52: 100%|██████████| 130/130 [00:00<00:00, 143.60it/s]\n"
          ]
        },
        {
          "name": "stdout",
          "output_type": "stream",
          "text": [
            "Epoch 52/100 | Training Loss: 5.0893 | Validation Loss: 19.8460 | Learning Rate: 0.003877 | Time: 6.15s\n",
            "\n",
            "Epoch 53/100 - Training Phase Started...\n"
          ]
        },
        {
          "name": "stderr",
          "output_type": "stream",
          "text": [
            "Training Epoch 53: 100%|██████████| 519/519 [00:05<00:00, 93.03it/s] \n"
          ]
        },
        {
          "name": "stdout",
          "output_type": "stream",
          "text": [
            "\n",
            "Epoch 53/100 - Validation Phase Started...\n"
          ]
        },
        {
          "name": "stderr",
          "output_type": "stream",
          "text": [
            "Validation Epoch 53: 100%|██████████| 130/130 [00:00<00:00, 147.08it/s]\n"
          ]
        },
        {
          "name": "stdout",
          "output_type": "stream",
          "text": [
            "Epoch 53/100 | Training Loss: 5.0834 | Validation Loss: 19.7483 | Learning Rate: 0.003782 | Time: 6.46s\n",
            "\n",
            "Epoch 54/100 - Training Phase Started...\n"
          ]
        },
        {
          "name": "stderr",
          "output_type": "stream",
          "text": [
            "Training Epoch 54: 100%|██████████| 519/519 [00:06<00:00, 86.12it/s]\n"
          ]
        },
        {
          "name": "stdout",
          "output_type": "stream",
          "text": [
            "\n",
            "Epoch 54/100 - Validation Phase Started...\n"
          ]
        },
        {
          "name": "stderr",
          "output_type": "stream",
          "text": [
            "Validation Epoch 54: 100%|██████████| 130/130 [00:00<00:00, 132.25it/s]\n"
          ]
        },
        {
          "name": "stdout",
          "output_type": "stream",
          "text": [
            "Epoch 54/100 | Training Loss: 5.0887 | Validation Loss: 19.6422 | Learning Rate: 0.003684 | Time: 7.01s\n",
            "\n",
            "Epoch 55/100 - Training Phase Started...\n"
          ]
        },
        {
          "name": "stderr",
          "output_type": "stream",
          "text": [
            "Training Epoch 55: 100%|██████████| 519/519 [00:05<00:00, 92.05it/s] \n"
          ]
        },
        {
          "name": "stdout",
          "output_type": "stream",
          "text": [
            "\n",
            "Epoch 55/100 - Validation Phase Started...\n"
          ]
        },
        {
          "name": "stderr",
          "output_type": "stream",
          "text": [
            "Validation Epoch 55: 100%|██████████| 130/130 [00:00<00:00, 195.71it/s]\n"
          ]
        },
        {
          "name": "stdout",
          "output_type": "stream",
          "text": [
            "Epoch 55/100 | Training Loss: 5.0896 | Validation Loss: 19.8607 | Learning Rate: 0.003585 | Time: 6.30s\n",
            "\n",
            "Epoch 56/100 - Training Phase Started...\n"
          ]
        },
        {
          "name": "stderr",
          "output_type": "stream",
          "text": [
            "Training Epoch 56: 100%|██████████| 519/519 [00:05<00:00, 88.08it/s]\n"
          ]
        },
        {
          "name": "stdout",
          "output_type": "stream",
          "text": [
            "\n",
            "Epoch 56/100 - Validation Phase Started...\n"
          ]
        },
        {
          "name": "stderr",
          "output_type": "stream",
          "text": [
            "Validation Epoch 56: 100%|██████████| 130/130 [00:00<00:00, 146.67it/s]\n"
          ]
        },
        {
          "name": "stdout",
          "output_type": "stream",
          "text": [
            "Epoch 56/100 | Training Loss: 5.0964 | Validation Loss: 19.9596 | Learning Rate: 0.003482 | Time: 6.78s\n",
            "\n",
            "Epoch 57/100 - Training Phase Started...\n"
          ]
        },
        {
          "name": "stderr",
          "output_type": "stream",
          "text": [
            "Training Epoch 57: 100%|██████████| 519/519 [00:05<00:00, 92.96it/s] \n"
          ]
        },
        {
          "name": "stdout",
          "output_type": "stream",
          "text": [
            "\n",
            "Epoch 57/100 - Validation Phase Started...\n"
          ]
        },
        {
          "name": "stderr",
          "output_type": "stream",
          "text": [
            "Validation Epoch 57: 100%|██████████| 130/130 [00:00<00:00, 165.96it/s]\n"
          ]
        },
        {
          "name": "stdout",
          "output_type": "stream",
          "text": [
            "Epoch 57/100 | Training Loss: 5.0877 | Validation Loss: 19.5564 | Learning Rate: 0.003378 | Time: 6.37s\n",
            "\n",
            "Epoch 58/100 - Training Phase Started...\n"
          ]
        },
        {
          "name": "stderr",
          "output_type": "stream",
          "text": [
            "Training Epoch 58: 100%|██████████| 519/519 [00:05<00:00, 95.69it/s] \n"
          ]
        },
        {
          "name": "stdout",
          "output_type": "stream",
          "text": [
            "\n",
            "Epoch 58/100 - Validation Phase Started...\n"
          ]
        },
        {
          "name": "stderr",
          "output_type": "stream",
          "text": [
            "Validation Epoch 58: 100%|██████████| 130/130 [00:00<00:00, 175.86it/s]\n"
          ]
        },
        {
          "name": "stdout",
          "output_type": "stream",
          "text": [
            "Epoch 58/100 | Training Loss: 5.0882 | Validation Loss: 19.5225 | Learning Rate: 0.003272 | Time: 6.16s\n",
            "\n",
            "Epoch 59/100 - Training Phase Started...\n"
          ]
        },
        {
          "name": "stderr",
          "output_type": "stream",
          "text": [
            "Training Epoch 59: 100%|██████████| 519/519 [00:05<00:00, 94.11it/s] \n"
          ]
        },
        {
          "name": "stdout",
          "output_type": "stream",
          "text": [
            "\n",
            "Epoch 59/100 - Validation Phase Started...\n"
          ]
        },
        {
          "name": "stderr",
          "output_type": "stream",
          "text": [
            "Validation Epoch 59: 100%|██████████| 130/130 [00:00<00:00, 189.82it/s]\n"
          ]
        },
        {
          "name": "stdout",
          "output_type": "stream",
          "text": [
            "Epoch 59/100 | Training Loss: 5.0853 | Validation Loss: 20.0304 | Learning Rate: 0.003165 | Time: 6.20s\n",
            "\n",
            "Epoch 60/100 - Training Phase Started...\n"
          ]
        },
        {
          "name": "stderr",
          "output_type": "stream",
          "text": [
            "Training Epoch 60: 100%|██████████| 519/519 [00:05<00:00, 94.66it/s] \n"
          ]
        },
        {
          "name": "stdout",
          "output_type": "stream",
          "text": [
            "\n",
            "Epoch 60/100 - Validation Phase Started...\n"
          ]
        },
        {
          "name": "stderr",
          "output_type": "stream",
          "text": [
            "Validation Epoch 60: 100%|██████████| 130/130 [00:00<00:00, 159.60it/s]\n"
          ]
        },
        {
          "name": "stdout",
          "output_type": "stream",
          "text": [
            "Epoch 60/100 | Training Loss: 5.0906 | Validation Loss: 19.9657 | Learning Rate: 0.003056 | Time: 6.30s\n",
            "\n",
            "Epoch 61/100 - Training Phase Started...\n"
          ]
        },
        {
          "name": "stderr",
          "output_type": "stream",
          "text": [
            "Training Epoch 61: 100%|██████████| 519/519 [00:05<00:00, 95.55it/s] \n"
          ]
        },
        {
          "name": "stdout",
          "output_type": "stream",
          "text": [
            "\n",
            "Epoch 61/100 - Validation Phase Started...\n"
          ]
        },
        {
          "name": "stderr",
          "output_type": "stream",
          "text": [
            "Validation Epoch 61: 100%|██████████| 130/130 [00:00<00:00, 159.43it/s]\n"
          ]
        },
        {
          "name": "stdout",
          "output_type": "stream",
          "text": [
            "Epoch 61/100 | Training Loss: 5.0781 | Validation Loss: 19.9471 | Learning Rate: 0.002946 | Time: 6.26s\n",
            "\n",
            "Epoch 62/100 - Training Phase Started...\n"
          ]
        },
        {
          "name": "stderr",
          "output_type": "stream",
          "text": [
            "Training Epoch 62: 100%|██████████| 519/519 [00:05<00:00, 93.98it/s] \n"
          ]
        },
        {
          "name": "stdout",
          "output_type": "stream",
          "text": [
            "\n",
            "Epoch 62/100 - Validation Phase Started...\n"
          ]
        },
        {
          "name": "stderr",
          "output_type": "stream",
          "text": [
            "Validation Epoch 62: 100%|██████████| 130/130 [00:00<00:00, 175.72it/s]\n"
          ]
        },
        {
          "name": "stdout",
          "output_type": "stream",
          "text": [
            "Epoch 62/100 | Training Loss: 5.0803 | Validation Loss: 19.9992 | Learning Rate: 0.002835 | Time: 6.26s\n",
            "\n",
            "Epoch 63/100 - Training Phase Started...\n"
          ]
        },
        {
          "name": "stderr",
          "output_type": "stream",
          "text": [
            "Training Epoch 63: 100%|██████████| 519/519 [00:05<00:00, 91.41it/s] \n"
          ]
        },
        {
          "name": "stdout",
          "output_type": "stream",
          "text": [
            "\n",
            "Epoch 63/100 - Validation Phase Started...\n"
          ]
        },
        {
          "name": "stderr",
          "output_type": "stream",
          "text": [
            "Validation Epoch 63: 100%|██████████| 130/130 [00:00<00:00, 166.75it/s]\n"
          ]
        },
        {
          "name": "stdout",
          "output_type": "stream",
          "text": [
            "Epoch 63/100 | Training Loss: 5.0917 | Validation Loss: 19.9842 | Learning Rate: 0.002724 | Time: 6.46s\n",
            "\n",
            "Epoch 64/100 - Training Phase Started...\n"
          ]
        },
        {
          "name": "stderr",
          "output_type": "stream",
          "text": [
            "Training Epoch 64: 100%|██████████| 519/519 [00:05<00:00, 99.19it/s] \n"
          ]
        },
        {
          "name": "stdout",
          "output_type": "stream",
          "text": [
            "\n",
            "Epoch 64/100 - Validation Phase Started...\n"
          ]
        },
        {
          "name": "stderr",
          "output_type": "stream",
          "text": [
            "Validation Epoch 64: 100%|██████████| 130/130 [00:00<00:00, 148.05it/s]\n"
          ]
        },
        {
          "name": "stdout",
          "output_type": "stream",
          "text": [
            "Epoch 64/100 | Training Loss: 5.0857 | Validation Loss: 19.4976 | Learning Rate: 0.002612 | Time: 6.13s\n",
            "\n",
            "Epoch 65/100 - Training Phase Started...\n"
          ]
        },
        {
          "name": "stderr",
          "output_type": "stream",
          "text": [
            "Training Epoch 65: 100%|██████████| 519/519 [00:05<00:00, 98.34it/s] \n"
          ]
        },
        {
          "name": "stdout",
          "output_type": "stream",
          "text": [
            "\n",
            "Epoch 65/100 - Validation Phase Started...\n"
          ]
        },
        {
          "name": "stderr",
          "output_type": "stream",
          "text": [
            "Validation Epoch 65: 100%|██████████| 130/130 [00:00<00:00, 153.48it/s]\n"
          ]
        },
        {
          "name": "stdout",
          "output_type": "stream",
          "text": [
            "Epoch 65/100 | Training Loss: 5.0851 | Validation Loss: 19.9691 | Learning Rate: 0.002500 | Time: 6.12s\n",
            "\n",
            "Epoch 66/100 - Training Phase Started...\n"
          ]
        },
        {
          "name": "stderr",
          "output_type": "stream",
          "text": [
            "Training Epoch 66: 100%|██████████| 519/519 [00:05<00:00, 97.39it/s] \n"
          ]
        },
        {
          "name": "stdout",
          "output_type": "stream",
          "text": [
            "\n",
            "Epoch 66/100 - Validation Phase Started...\n"
          ]
        },
        {
          "name": "stderr",
          "output_type": "stream",
          "text": [
            "Validation Epoch 66: 100%|██████████| 130/130 [00:00<00:00, 166.10it/s]\n"
          ]
        },
        {
          "name": "stdout",
          "output_type": "stream",
          "text": [
            "Epoch 66/100 | Training Loss: 5.0809 | Validation Loss: 19.6701 | Learning Rate: 0.002388 | Time: 6.12s\n",
            "\n",
            "Epoch 67/100 - Training Phase Started...\n"
          ]
        },
        {
          "name": "stderr",
          "output_type": "stream",
          "text": [
            "Training Epoch 67: 100%|██████████| 519/519 [00:05<00:00, 96.44it/s] \n"
          ]
        },
        {
          "name": "stdout",
          "output_type": "stream",
          "text": [
            "\n",
            "Epoch 67/100 - Validation Phase Started...\n"
          ]
        },
        {
          "name": "stderr",
          "output_type": "stream",
          "text": [
            "Validation Epoch 67: 100%|██████████| 130/130 [00:00<00:00, 133.13it/s]\n"
          ]
        },
        {
          "name": "stdout",
          "output_type": "stream",
          "text": [
            "Epoch 67/100 | Training Loss: 5.0758 | Validation Loss: 19.6313 | Learning Rate: 0.002276 | Time: 6.36s\n",
            "\n",
            "Epoch 68/100 - Training Phase Started...\n"
          ]
        },
        {
          "name": "stderr",
          "output_type": "stream",
          "text": [
            "Training Epoch 68: 100%|██████████| 519/519 [00:05<00:00, 96.74it/s] \n"
          ]
        },
        {
          "name": "stdout",
          "output_type": "stream",
          "text": [
            "\n",
            "Epoch 68/100 - Validation Phase Started...\n"
          ]
        },
        {
          "name": "stderr",
          "output_type": "stream",
          "text": [
            "Validation Epoch 68: 100%|██████████| 130/130 [00:00<00:00, 148.85it/s]\n"
          ]
        },
        {
          "name": "stdout",
          "output_type": "stream",
          "text": [
            "Epoch 68/100 | Training Loss: 5.0905 | Validation Loss: 19.7854 | Learning Rate: 0.002164 | Time: 6.24s\n",
            "\n",
            "Epoch 69/100 - Training Phase Started...\n"
          ]
        },
        {
          "name": "stderr",
          "output_type": "stream",
          "text": [
            "Training Epoch 69: 100%|██████████| 519/519 [00:05<00:00, 94.45it/s] \n"
          ]
        },
        {
          "name": "stdout",
          "output_type": "stream",
          "text": [
            "\n",
            "Epoch 69/100 - Validation Phase Started...\n"
          ]
        },
        {
          "name": "stderr",
          "output_type": "stream",
          "text": [
            "Validation Epoch 69: 100%|██████████| 130/130 [00:01<00:00, 128.43it/s]\n"
          ]
        },
        {
          "name": "stdout",
          "output_type": "stream",
          "text": [
            "Epoch 69/100 | Training Loss: 5.0784 | Validation Loss: 19.5996 | Learning Rate: 0.002053 | Time: 6.52s\n",
            "\n",
            "Epoch 70/100 - Training Phase Started...\n"
          ]
        },
        {
          "name": "stderr",
          "output_type": "stream",
          "text": [
            "Training Epoch 70: 100%|██████████| 519/519 [00:05<00:00, 97.03it/s] \n"
          ]
        },
        {
          "name": "stdout",
          "output_type": "stream",
          "text": [
            "\n",
            "Epoch 70/100 - Validation Phase Started...\n"
          ]
        },
        {
          "name": "stderr",
          "output_type": "stream",
          "text": [
            "Validation Epoch 70: 100%|██████████| 130/130 [00:00<00:00, 162.45it/s]\n"
          ]
        },
        {
          "name": "stdout",
          "output_type": "stream",
          "text": [
            "Epoch 70/100 | Training Loss: 5.0810 | Validation Loss: 19.9486 | Learning Rate: 0.001943 | Time: 6.16s\n",
            "\n",
            "Epoch 71/100 - Training Phase Started...\n"
          ]
        },
        {
          "name": "stderr",
          "output_type": "stream",
          "text": [
            "Training Epoch 71: 100%|██████████| 519/519 [00:05<00:00, 100.60it/s]\n"
          ]
        },
        {
          "name": "stdout",
          "output_type": "stream",
          "text": [
            "\n",
            "Epoch 71/100 - Validation Phase Started...\n"
          ]
        },
        {
          "name": "stderr",
          "output_type": "stream",
          "text": [
            "Validation Epoch 71: 100%|██████████| 130/130 [00:00<00:00, 172.36it/s]\n"
          ]
        },
        {
          "name": "stdout",
          "output_type": "stream",
          "text": [
            "Epoch 71/100 | Training Loss: 5.0806 | Validation Loss: 19.8648 | Learning Rate: 0.001835 | Time: 5.92s\n",
            "\n",
            "Epoch 72/100 - Training Phase Started...\n"
          ]
        },
        {
          "name": "stderr",
          "output_type": "stream",
          "text": [
            "Training Epoch 72: 100%|██████████| 519/519 [00:05<00:00, 95.81it/s] \n"
          ]
        },
        {
          "name": "stdout",
          "output_type": "stream",
          "text": [
            "\n",
            "Epoch 72/100 - Validation Phase Started...\n"
          ]
        },
        {
          "name": "stderr",
          "output_type": "stream",
          "text": [
            "Validation Epoch 72: 100%|██████████| 130/130 [00:00<00:00, 171.29it/s]\n"
          ]
        },
        {
          "name": "stdout",
          "output_type": "stream",
          "text": [
            "Epoch 72/100 | Training Loss: 5.0787 | Validation Loss: 19.8038 | Learning Rate: 0.001727 | Time: 6.19s\n",
            "\n",
            "Epoch 73/100 - Training Phase Started...\n"
          ]
        },
        {
          "name": "stderr",
          "output_type": "stream",
          "text": [
            "Training Epoch 73: 100%|██████████| 519/519 [00:05<00:00, 94.53it/s] \n"
          ]
        },
        {
          "name": "stdout",
          "output_type": "stream",
          "text": [
            "\n",
            "Epoch 73/100 - Validation Phase Started...\n"
          ]
        },
        {
          "name": "stderr",
          "output_type": "stream",
          "text": [
            "Validation Epoch 73: 100%|██████████| 130/130 [00:00<00:00, 154.92it/s]\n"
          ]
        },
        {
          "name": "stdout",
          "output_type": "stream",
          "text": [
            "Epoch 73/100 | Training Loss: 5.0743 | Validation Loss: 19.8466 | Learning Rate: 0.001621 | Time: 6.33s\n",
            "\n",
            "Epoch 74/100 - Training Phase Started...\n"
          ]
        },
        {
          "name": "stderr",
          "output_type": "stream",
          "text": [
            "Training Epoch 74: 100%|██████████| 519/519 [00:06<00:00, 82.22it/s] \n"
          ]
        },
        {
          "name": "stdout",
          "output_type": "stream",
          "text": [
            "\n",
            "Epoch 74/100 - Validation Phase Started...\n"
          ]
        },
        {
          "name": "stderr",
          "output_type": "stream",
          "text": [
            "Validation Epoch 74: 100%|██████████| 130/130 [00:00<00:00, 188.09it/s]\n"
          ]
        },
        {
          "name": "stdout",
          "output_type": "stream",
          "text": [
            "Epoch 74/100 | Training Loss: 5.0772 | Validation Loss: 19.8891 | Learning Rate: 0.001517 | Time: 7.00s\n",
            "\n",
            "Epoch 75/100 - Training Phase Started...\n"
          ]
        },
        {
          "name": "stderr",
          "output_type": "stream",
          "text": [
            "Training Epoch 75: 100%|██████████| 519/519 [00:05<00:00, 89.41it/s]\n"
          ]
        },
        {
          "name": "stdout",
          "output_type": "stream",
          "text": [
            "\n",
            "Epoch 75/100 - Validation Phase Started...\n"
          ]
        },
        {
          "name": "stderr",
          "output_type": "stream",
          "text": [
            "Validation Epoch 75: 100%|██████████| 130/130 [00:00<00:00, 130.59it/s]\n"
          ]
        },
        {
          "name": "stdout",
          "output_type": "stream",
          "text": [
            "Epoch 75/100 | Training Loss: 5.0795 | Validation Loss: 19.9339 | Learning Rate: 0.001415 | Time: 6.81s\n",
            "\n",
            "Epoch 76/100 - Training Phase Started...\n"
          ]
        },
        {
          "name": "stderr",
          "output_type": "stream",
          "text": [
            "Training Epoch 76: 100%|██████████| 519/519 [00:05<00:00, 90.95it/s]\n"
          ]
        },
        {
          "name": "stdout",
          "output_type": "stream",
          "text": [
            "\n",
            "Epoch 76/100 - Validation Phase Started...\n"
          ]
        },
        {
          "name": "stderr",
          "output_type": "stream",
          "text": [
            "Validation Epoch 76: 100%|██████████| 130/130 [00:00<00:00, 185.40it/s]\n"
          ]
        },
        {
          "name": "stdout",
          "output_type": "stream",
          "text": [
            "Epoch 76/100 | Training Loss: 5.0830 | Validation Loss: 19.9657 | Learning Rate: 0.001315 | Time: 6.41s\n",
            "\n",
            "Epoch 77/100 - Training Phase Started...\n"
          ]
        },
        {
          "name": "stderr",
          "output_type": "stream",
          "text": [
            "Training Epoch 77: 100%|██████████| 519/519 [00:05<00:00, 88.27it/s]\n"
          ]
        },
        {
          "name": "stdout",
          "output_type": "stream",
          "text": [
            "\n",
            "Epoch 77/100 - Validation Phase Started...\n"
          ]
        },
        {
          "name": "stderr",
          "output_type": "stream",
          "text": [
            "Validation Epoch 77: 100%|██████████| 130/130 [00:00<00:00, 189.75it/s]\n"
          ]
        },
        {
          "name": "stdout",
          "output_type": "stream",
          "text": [
            "Epoch 77/100 | Training Loss: 5.0751 | Validation Loss: 19.8690 | Learning Rate: 0.001218 | Time: 6.57s\n",
            "\n",
            "Epoch 78/100 - Training Phase Started...\n"
          ]
        },
        {
          "name": "stderr",
          "output_type": "stream",
          "text": [
            "Training Epoch 78: 100%|██████████| 519/519 [00:05<00:00, 86.69it/s]\n"
          ]
        },
        {
          "name": "stdout",
          "output_type": "stream",
          "text": [
            "\n",
            "Epoch 78/100 - Validation Phase Started...\n"
          ]
        },
        {
          "name": "stderr",
          "output_type": "stream",
          "text": [
            "Validation Epoch 78: 100%|██████████| 130/130 [00:00<00:00, 183.01it/s]\n"
          ]
        },
        {
          "name": "stdout",
          "output_type": "stream",
          "text": [
            "Epoch 78/100 | Training Loss: 5.0712 | Validation Loss: 19.8785 | Learning Rate: 0.001123 | Time: 6.70s\n",
            "\n",
            "Epoch 79/100 - Training Phase Started...\n"
          ]
        },
        {
          "name": "stderr",
          "output_type": "stream",
          "text": [
            "Training Epoch 79: 100%|██████████| 519/519 [00:05<00:00, 88.59it/s]\n"
          ]
        },
        {
          "name": "stdout",
          "output_type": "stream",
          "text": [
            "\n",
            "Epoch 79/100 - Validation Phase Started...\n"
          ]
        },
        {
          "name": "stderr",
          "output_type": "stream",
          "text": [
            "Validation Epoch 79: 100%|██████████| 130/130 [00:00<00:00, 175.88it/s]\n"
          ]
        },
        {
          "name": "stdout",
          "output_type": "stream",
          "text": [
            "Epoch 79/100 | Training Loss: 5.0674 | Validation Loss: 19.8316 | Learning Rate: 0.001030 | Time: 6.60s\n",
            "\n",
            "Epoch 80/100 - Training Phase Started...\n"
          ]
        },
        {
          "name": "stderr",
          "output_type": "stream",
          "text": [
            "Training Epoch 80: 100%|██████████| 519/519 [00:05<00:00, 87.47it/s]\n"
          ]
        },
        {
          "name": "stdout",
          "output_type": "stream",
          "text": [
            "\n",
            "Epoch 80/100 - Validation Phase Started...\n"
          ]
        },
        {
          "name": "stderr",
          "output_type": "stream",
          "text": [
            "Validation Epoch 80: 100%|██████████| 130/130 [00:00<00:00, 182.00it/s]\n"
          ]
        },
        {
          "name": "stdout",
          "output_type": "stream",
          "text": [
            "Epoch 80/100 | Training Loss: 5.0711 | Validation Loss: 19.7156 | Learning Rate: 0.000941 | Time: 6.65s\n",
            "\n",
            "Epoch 81/100 - Training Phase Started...\n"
          ]
        },
        {
          "name": "stderr",
          "output_type": "stream",
          "text": [
            "Training Epoch 81: 100%|██████████| 519/519 [00:05<00:00, 92.74it/s]\n"
          ]
        },
        {
          "name": "stdout",
          "output_type": "stream",
          "text": [
            "\n",
            "Epoch 81/100 - Validation Phase Started...\n"
          ]
        },
        {
          "name": "stderr",
          "output_type": "stream",
          "text": [
            "Validation Epoch 81: 100%|██████████| 130/130 [00:00<00:00, 182.25it/s]\n"
          ]
        },
        {
          "name": "stdout",
          "output_type": "stream",
          "text": [
            "Epoch 81/100 | Training Loss: 5.0748 | Validation Loss: 19.5165 | Learning Rate: 0.000855 | Time: 6.31s\n",
            "\n",
            "Epoch 82/100 - Training Phase Started...\n"
          ]
        },
        {
          "name": "stderr",
          "output_type": "stream",
          "text": [
            "Training Epoch 82: 100%|██████████| 519/519 [00:05<00:00, 92.34it/s] \n"
          ]
        },
        {
          "name": "stdout",
          "output_type": "stream",
          "text": [
            "\n",
            "Epoch 82/100 - Validation Phase Started...\n"
          ]
        },
        {
          "name": "stderr",
          "output_type": "stream",
          "text": [
            "Validation Epoch 82: 100%|██████████| 130/130 [00:00<00:00, 173.41it/s]\n"
          ]
        },
        {
          "name": "stdout",
          "output_type": "stream",
          "text": [
            "Epoch 82/100 | Training Loss: 5.0664 | Validation Loss: 19.9342 | Learning Rate: 0.000772 | Time: 6.37s\n",
            "\n",
            "Epoch 83/100 - Training Phase Started...\n"
          ]
        },
        {
          "name": "stderr",
          "output_type": "stream",
          "text": [
            "Training Epoch 83: 100%|██████████| 519/519 [00:05<00:00, 94.46it/s] \n"
          ]
        },
        {
          "name": "stdout",
          "output_type": "stream",
          "text": [
            "\n",
            "Epoch 83/100 - Validation Phase Started...\n"
          ]
        },
        {
          "name": "stderr",
          "output_type": "stream",
          "text": [
            "Validation Epoch 83: 100%|██████████| 130/130 [00:00<00:00, 153.64it/s]\n"
          ]
        },
        {
          "name": "stdout",
          "output_type": "stream",
          "text": [
            "Epoch 83/100 | Training Loss: 5.0739 | Validation Loss: 19.6008 | Learning Rate: 0.000693 | Time: 6.34s\n",
            "\n",
            "Epoch 84/100 - Training Phase Started...\n"
          ]
        },
        {
          "name": "stderr",
          "output_type": "stream",
          "text": [
            "Training Epoch 84: 100%|██████████| 519/519 [00:05<00:00, 91.89it/s] \n"
          ]
        },
        {
          "name": "stdout",
          "output_type": "stream",
          "text": [
            "\n",
            "Epoch 84/100 - Validation Phase Started...\n"
          ]
        },
        {
          "name": "stderr",
          "output_type": "stream",
          "text": [
            "Validation Epoch 84: 100%|██████████| 130/130 [00:00<00:00, 169.58it/s]\n"
          ]
        },
        {
          "name": "stdout",
          "output_type": "stream",
          "text": [
            "Epoch 84/100 | Training Loss: 5.0715 | Validation Loss: 19.6270 | Learning Rate: 0.000617 | Time: 6.42s\n",
            "\n",
            "Epoch 85/100 - Training Phase Started...\n"
          ]
        },
        {
          "name": "stderr",
          "output_type": "stream",
          "text": [
            "Training Epoch 85: 100%|██████████| 519/519 [00:05<00:00, 94.86it/s] \n"
          ]
        },
        {
          "name": "stdout",
          "output_type": "stream",
          "text": [
            "\n",
            "Epoch 85/100 - Validation Phase Started...\n"
          ]
        },
        {
          "name": "stderr",
          "output_type": "stream",
          "text": [
            "Validation Epoch 85: 100%|██████████| 130/130 [00:00<00:00, 177.54it/s]\n"
          ]
        },
        {
          "name": "stdout",
          "output_type": "stream",
          "text": [
            "Epoch 85/100 | Training Loss: 5.0673 | Validation Loss: 19.8973 | Learning Rate: 0.000545 | Time: 6.20s\n",
            "\n",
            "Epoch 86/100 - Training Phase Started...\n"
          ]
        },
        {
          "name": "stderr",
          "output_type": "stream",
          "text": [
            "Training Epoch 86: 100%|██████████| 519/519 [00:05<00:00, 91.60it/s]\n"
          ]
        },
        {
          "name": "stdout",
          "output_type": "stream",
          "text": [
            "\n",
            "Epoch 86/100 - Validation Phase Started...\n"
          ]
        },
        {
          "name": "stderr",
          "output_type": "stream",
          "text": [
            "Validation Epoch 86: 100%|██████████| 130/130 [00:00<00:00, 185.95it/s]\n"
          ]
        },
        {
          "name": "stdout",
          "output_type": "stream",
          "text": [
            "Epoch 86/100 | Training Loss: 5.0718 | Validation Loss: 19.7954 | Learning Rate: 0.000477 | Time: 6.36s\n",
            "\n",
            "Epoch 87/100 - Training Phase Started...\n"
          ]
        },
        {
          "name": "stderr",
          "output_type": "stream",
          "text": [
            "Training Epoch 87: 100%|██████████| 519/519 [00:05<00:00, 90.63it/s]\n"
          ]
        },
        {
          "name": "stdout",
          "output_type": "stream",
          "text": [
            "\n",
            "Epoch 87/100 - Validation Phase Started...\n"
          ]
        },
        {
          "name": "stderr",
          "output_type": "stream",
          "text": [
            "Validation Epoch 87: 100%|██████████| 130/130 [00:00<00:00, 185.74it/s]\n"
          ]
        },
        {
          "name": "stdout",
          "output_type": "stream",
          "text": [
            "Epoch 87/100 | Training Loss: 5.0728 | Validation Loss: 19.6920 | Learning Rate: 0.000413 | Time: 6.43s\n",
            "\n",
            "Epoch 88/100 - Training Phase Started...\n"
          ]
        },
        {
          "name": "stderr",
          "output_type": "stream",
          "text": [
            "Training Epoch 88: 100%|██████████| 519/519 [00:05<00:00, 91.45it/s]\n"
          ]
        },
        {
          "name": "stdout",
          "output_type": "stream",
          "text": [
            "\n",
            "Epoch 88/100 - Validation Phase Started...\n"
          ]
        },
        {
          "name": "stderr",
          "output_type": "stream",
          "text": [
            "Validation Epoch 88: 100%|██████████| 130/130 [00:00<00:00, 178.08it/s]\n"
          ]
        },
        {
          "name": "stdout",
          "output_type": "stream",
          "text": [
            "Epoch 88/100 | Training Loss: 5.0708 | Validation Loss: 19.7918 | Learning Rate: 0.000354 | Time: 6.41s\n",
            "\n",
            "Epoch 89/100 - Training Phase Started...\n"
          ]
        },
        {
          "name": "stderr",
          "output_type": "stream",
          "text": [
            "Training Epoch 89: 100%|██████████| 519/519 [00:05<00:00, 92.50it/s]\n"
          ]
        },
        {
          "name": "stdout",
          "output_type": "stream",
          "text": [
            "\n",
            "Epoch 89/100 - Validation Phase Started...\n"
          ]
        },
        {
          "name": "stderr",
          "output_type": "stream",
          "text": [
            "Validation Epoch 89: 100%|██████████| 130/130 [00:00<00:00, 146.03it/s]\n"
          ]
        },
        {
          "name": "stdout",
          "output_type": "stream",
          "text": [
            "Epoch 89/100 | Training Loss: 5.0702 | Validation Loss: 19.8357 | Learning Rate: 0.000298 | Time: 6.50s\n",
            "\n",
            "Epoch 90/100 - Training Phase Started...\n"
          ]
        },
        {
          "name": "stderr",
          "output_type": "stream",
          "text": [
            "Training Epoch 90: 100%|██████████| 519/519 [00:05<00:00, 89.63it/s]\n"
          ]
        },
        {
          "name": "stdout",
          "output_type": "stream",
          "text": [
            "\n",
            "Epoch 90/100 - Validation Phase Started...\n"
          ]
        },
        {
          "name": "stderr",
          "output_type": "stream",
          "text": [
            "Validation Epoch 90: 100%|██████████| 130/130 [00:00<00:00, 163.58it/s]\n"
          ]
        },
        {
          "name": "stdout",
          "output_type": "stream",
          "text": [
            "Epoch 90/100 | Training Loss: 5.0752 | Validation Loss: 19.8567 | Learning Rate: 0.000248 | Time: 6.59s\n",
            "\n",
            "Epoch 91/100 - Training Phase Started...\n"
          ]
        },
        {
          "name": "stderr",
          "output_type": "stream",
          "text": [
            "Training Epoch 91: 100%|██████████| 519/519 [00:05<00:00, 93.27it/s] \n"
          ]
        },
        {
          "name": "stdout",
          "output_type": "stream",
          "text": [
            "\n",
            "Epoch 91/100 - Validation Phase Started...\n"
          ]
        },
        {
          "name": "stderr",
          "output_type": "stream",
          "text": [
            "Validation Epoch 91: 100%|██████████| 130/130 [00:00<00:00, 138.00it/s]\n"
          ]
        },
        {
          "name": "stdout",
          "output_type": "stream",
          "text": [
            "Epoch 91/100 | Training Loss: 5.0656 | Validation Loss: 19.7949 | Learning Rate: 0.000201 | Time: 6.51s\n",
            "\n",
            "Epoch 92/100 - Training Phase Started...\n"
          ]
        },
        {
          "name": "stderr",
          "output_type": "stream",
          "text": [
            "Training Epoch 92: 100%|██████████| 519/519 [00:05<00:00, 93.22it/s]\n"
          ]
        },
        {
          "name": "stdout",
          "output_type": "stream",
          "text": [
            "\n",
            "Epoch 92/100 - Validation Phase Started...\n"
          ]
        },
        {
          "name": "stderr",
          "output_type": "stream",
          "text": [
            "Validation Epoch 92: 100%|██████████| 130/130 [00:00<00:00, 173.93it/s]\n"
          ]
        },
        {
          "name": "stdout",
          "output_type": "stream",
          "text": [
            "Epoch 92/100 | Training Loss: 5.0725 | Validation Loss: 19.5911 | Learning Rate: 0.000159 | Time: 6.31s\n",
            "\n",
            "Epoch 93/100 - Training Phase Started...\n"
          ]
        },
        {
          "name": "stderr",
          "output_type": "stream",
          "text": [
            "Training Epoch 93: 100%|██████████| 519/519 [00:05<00:00, 90.29it/s]\n"
          ]
        },
        {
          "name": "stdout",
          "output_type": "stream",
          "text": [
            "\n",
            "Epoch 93/100 - Validation Phase Started...\n"
          ]
        },
        {
          "name": "stderr",
          "output_type": "stream",
          "text": [
            "Validation Epoch 93: 100%|██████████| 130/130 [00:00<00:00, 183.79it/s]\n"
          ]
        },
        {
          "name": "stdout",
          "output_type": "stream",
          "text": [
            "Epoch 93/100 | Training Loss: 5.0686 | Validation Loss: 19.5464 | Learning Rate: 0.000122 | Time: 6.47s\n",
            "\n",
            "Epoch 94/100 - Training Phase Started...\n"
          ]
        },
        {
          "name": "stderr",
          "output_type": "stream",
          "text": [
            "Training Epoch 94: 100%|██████████| 519/519 [00:05<00:00, 93.70it/s] \n"
          ]
        },
        {
          "name": "stdout",
          "output_type": "stream",
          "text": [
            "\n",
            "Epoch 94/100 - Validation Phase Started...\n"
          ]
        },
        {
          "name": "stderr",
          "output_type": "stream",
          "text": [
            "Validation Epoch 94: 100%|██████████| 130/130 [00:00<00:00, 138.27it/s]\n"
          ]
        },
        {
          "name": "stdout",
          "output_type": "stream",
          "text": [
            "Epoch 94/100 | Training Loss: 5.0634 | Validation Loss: 19.5675 | Learning Rate: 0.000090 | Time: 6.48s\n",
            "\n",
            "Epoch 95/100 - Training Phase Started...\n"
          ]
        },
        {
          "name": "stderr",
          "output_type": "stream",
          "text": [
            "Training Epoch 95: 100%|██████████| 519/519 [00:05<00:00, 93.53it/s] \n"
          ]
        },
        {
          "name": "stdout",
          "output_type": "stream",
          "text": [
            "\n",
            "Epoch 95/100 - Validation Phase Started...\n"
          ]
        },
        {
          "name": "stderr",
          "output_type": "stream",
          "text": [
            "Validation Epoch 95: 100%|██████████| 130/130 [00:00<00:00, 141.77it/s]\n"
          ]
        },
        {
          "name": "stdout",
          "output_type": "stream",
          "text": [
            "Epoch 95/100 | Training Loss: 5.0678 | Validation Loss: 19.5358 | Learning Rate: 0.000063 | Time: 6.47s\n",
            "\n",
            "Epoch 96/100 - Training Phase Started...\n"
          ]
        },
        {
          "name": "stderr",
          "output_type": "stream",
          "text": [
            "Training Epoch 96: 100%|██████████| 519/519 [00:05<00:00, 96.21it/s] \n"
          ]
        },
        {
          "name": "stdout",
          "output_type": "stream",
          "text": [
            "\n",
            "Epoch 96/100 - Validation Phase Started...\n"
          ]
        },
        {
          "name": "stderr",
          "output_type": "stream",
          "text": [
            "Validation Epoch 96: 100%|██████████| 130/130 [00:00<00:00, 156.35it/s]\n"
          ]
        },
        {
          "name": "stdout",
          "output_type": "stream",
          "text": [
            "Epoch 96/100 | Training Loss: 5.0701 | Validation Loss: 19.8376 | Learning Rate: 0.000040 | Time: 6.24s\n",
            "\n",
            "Epoch 97/100 - Training Phase Started...\n"
          ]
        },
        {
          "name": "stderr",
          "output_type": "stream",
          "text": [
            "Training Epoch 97: 100%|██████████| 519/519 [00:05<00:00, 95.55it/s] \n"
          ]
        },
        {
          "name": "stdout",
          "output_type": "stream",
          "text": [
            "\n",
            "Epoch 97/100 - Validation Phase Started...\n"
          ]
        },
        {
          "name": "stderr",
          "output_type": "stream",
          "text": [
            "Validation Epoch 97: 100%|██████████| 130/130 [00:00<00:00, 171.05it/s]\n"
          ]
        },
        {
          "name": "stdout",
          "output_type": "stream",
          "text": [
            "Epoch 97/100 | Training Loss: 5.0717 | Validation Loss: 19.9134 | Learning Rate: 0.000023 | Time: 6.20s\n",
            "\n",
            "Epoch 98/100 - Training Phase Started...\n"
          ]
        },
        {
          "name": "stderr",
          "output_type": "stream",
          "text": [
            "Training Epoch 98: 100%|██████████| 519/519 [00:05<00:00, 95.41it/s] \n"
          ]
        },
        {
          "name": "stdout",
          "output_type": "stream",
          "text": [
            "\n",
            "Epoch 98/100 - Validation Phase Started...\n"
          ]
        },
        {
          "name": "stderr",
          "output_type": "stream",
          "text": [
            "Validation Epoch 98: 100%|██████████| 130/130 [00:00<00:00, 189.66it/s]\n"
          ]
        },
        {
          "name": "stdout",
          "output_type": "stream",
          "text": [
            "Epoch 98/100 | Training Loss: 5.0641 | Validation Loss: 19.6320 | Learning Rate: 0.000010 | Time: 6.13s\n",
            "\n",
            "Epoch 99/100 - Training Phase Started...\n"
          ]
        },
        {
          "name": "stderr",
          "output_type": "stream",
          "text": [
            "Training Epoch 99: 100%|██████████| 519/519 [00:05<00:00, 96.11it/s] \n"
          ]
        },
        {
          "name": "stdout",
          "output_type": "stream",
          "text": [
            "\n",
            "Epoch 99/100 - Validation Phase Started...\n"
          ]
        },
        {
          "name": "stderr",
          "output_type": "stream",
          "text": [
            "Validation Epoch 99: 100%|██████████| 130/130 [00:00<00:00, 136.07it/s]\n"
          ]
        },
        {
          "name": "stdout",
          "output_type": "stream",
          "text": [
            "Epoch 99/100 | Training Loss: 5.0674 | Validation Loss: 19.5435 | Learning Rate: 0.000003 | Time: 6.36s\n",
            "\n",
            "Epoch 100/100 - Training Phase Started...\n"
          ]
        },
        {
          "name": "stderr",
          "output_type": "stream",
          "text": [
            "Training Epoch 100: 100%|██████████| 519/519 [00:05<00:00, 99.25it/s] \n"
          ]
        },
        {
          "name": "stdout",
          "output_type": "stream",
          "text": [
            "\n",
            "Epoch 100/100 - Validation Phase Started...\n"
          ]
        },
        {
          "name": "stderr",
          "output_type": "stream",
          "text": [
            "Validation Epoch 100: 100%|██████████| 130/130 [00:00<00:00, 178.43it/s]"
          ]
        },
        {
          "name": "stdout",
          "output_type": "stream",
          "text": [
            "Epoch 100/100 | Training Loss: 5.0685 | Validation Loss: 19.5335 | Learning Rate: 0.000000 | Time: 5.96s\n"
          ]
        },
        {
          "name": "stderr",
          "output_type": "stream",
          "text": [
            "\n"
          ]
        },
        {
          "data": {
            "image/png": "[encoded data removed]",
            "text/plain": [
              "<Figure size 640x480 with 1 Axes>"
            ]
          },
          "metadata": {},
          "output_type": "display_data"
        },
        {
          "name": "stdout",
          "output_type": "stream",
          "text": [
            "Training Complete.\n"
          ]
        }
      ],
      "source": [
        "import torch\n",
        "import torch.nn as nn\n",
        "import torch.optim as optim\n",
        "from torch.utils.data import DataLoader, random_split\n",
        "import time  # To measure performance\n",
        "from tqdm import tqdm  # For progress bar\n",
        "import os\n",
        "import matplotlib.pyplot as plt\n",
        "\n",
        "# GPU Setup\n",
        "device = torch.device(\"cuda\" if torch.cuda.is_available() else \"cpu\")\n",
        "print(f\"Using device: {device}\")\n",
        "\n",
        "# Verify Dataset\n",
        "print(\"Verifying dataset...\")\n",
        "try:\n",
        "    for idx, (x1, x2, label) in enumerate(dataset):\n",
        "        print(f\"Sample {idx}: x1 shape {x1.shape}, x2 shape {x2.shape}, label shape {label.shape}\")\n",
        "        break  \n",
        "except Exception as e:\n",
        "    print(f\"Error in dataset: {e}\")\n",
        "\n",
        "# Set a random seed for reproducibility\n",
        "torch.manual_seed(42)\n",
        "\n",
        "# Train-Validation Split\n",
        "train_ratio = 0.8  # 80% for training, 20% for validation\n",
        "train_size = int(train_ratio * len(dataset))\n",
        "val_size = len(dataset) - train_size\n",
        "\n",
        "train_dataset, val_dataset = random_split(dataset, [train_size, val_size])\n",
        "\n",
        "# DataLoader Optimization\n",
        "print(\"Setting up DataLoaders...\")\n",
        "try:\n",
        "    batch_size = 64  # Updated batch size\n",
        "    dataloader = DataLoader(train_dataset, batch_size=batch_size, shuffle=True, num_workers=0, pin_memory=False)\n",
        "    val_dataloader = DataLoader(val_dataset, batch_size=batch_size, shuffle=False, num_workers=0, pin_memory=False)\n",
        "\n",
        "except Exception as e:\n",
        "    print(f\"Error creating DataLoaders: {e}\")\n",
        "    exit()\n",
        "\n",
        "# Increase model regularization\n",
        "model = ContrastiveLSTMModel(input_dim=1, hidden_dim=64, output_dim=32, dropout=0.3).to(device)\n",
        "\n",
        "contrastive_loss_fn = NTXentLoss(temperature=0.5) \n",
        "\n",
        "\n",
        "# Training Loop\n",
        "epochs = 100\n",
        "train_losses = []\n",
        "val_losses = []\n",
        "\n",
        "# Optimizer and OneCycleLR Scheduler\n",
        "total_steps = len(dataloader) * epochs\n",
        "optimizer = optim.Adam(model.parameters(), lr=0.001, weight_decay=1e-4)\n",
        "scheduler = torch.optim.lr_scheduler.OneCycleLR(\n",
        "    optimizer, max_lr=0.005, total_steps=total_steps\n",
        ")\n",
        "print(\"Starting Training...\")\n",
        "\n",
        "for epoch in range(epochs):\n",
        "    torch.cuda.empty_cache()  \n",
        "    start_time = time.time()\n",
        "    epoch_train_loss = 0.0\n",
        "    epoch_val_loss = 0.0\n",
        "\n",
        "    #Training Phase\n",
        "    print(f\"\\nEpoch {epoch+1}/{epochs} - Training Phase Started...\")\n",
        "    model.train()\n",
        "    for batch_idx, (x1, x2, label) in enumerate(tqdm(dataloader, desc=f\"Training Epoch {epoch+1}\")):\n",
        "        try:\n",
        "            # Move data to GPU\n",
        "            x1, x2 = x1.to(device, dtype=torch.float32), x2.to(device, dtype=torch.float32)\n",
        "            label = label.to(device, dtype=torch.long)\n",
        "\n",
        "            # Reshape inputs and apply data augmentation\n",
        "            x1 = data_augmentation(x1.unsqueeze(-1))\n",
        "            x2 = data_augmentation(x2.unsqueeze(-1))\n",
        "\n",
        "            # Forward Pass\n",
        "            z1 = model(x1)\n",
        "            z2 = model(x2)\n",
        "\n",
        "            # Normalize Embeddings\n",
        "            z1 = z1 / (torch.norm(z1, p=2, dim=-1, keepdim=True) + 1e-8)\n",
        "            z2 = z2 / (torch.norm(z2, p=2, dim=-1, keepdim=True) + 1e-8)\n",
        "\n",
        "            # Compute Loss\n",
        "            loss = contrastive_loss_fn(z1, z2, label)\n",
        "\n",
        "            # Backpropagation\n",
        "            optimizer.zero_grad()\n",
        "            loss.backward()\n",
        "\n",
        "            # Gradient Clipping\n",
        "            torch.nn.utils.clip_grad_norm_(model.parameters(), max_norm=1.0)\n",
        "\n",
        "            # Optimizer Step and Scheduler Step\n",
        "            optimizer.step()\n",
        "            if scheduler.last_epoch < scheduler.total_steps:\n",
        "                scheduler.step()\n",
        "\n",
        "\n",
        "            epoch_train_loss += loss.item()\n",
        "        except Exception as e:\n",
        "            print(f\"Error during training batch {batch_idx}: {e}\")\n",
        "            continue\n",
        "\n",
        "    train_losses.append(epoch_train_loss / len(dataloader))\n",
        "\n",
        "    #Validation Phase\n",
        "    print(f\"\\nEpoch {epoch+1}/{epochs} - Validation Phase Started...\")\n",
        "    model.eval()\n",
        "    with torch.no_grad():\n",
        "        for batch_idx, (x1, x2, label) in enumerate(tqdm(val_dataloader, desc=f\"Validation Epoch {epoch+1}\")):\n",
        "            try:\n",
        "                # Move data to GPU\n",
        "                x1, x2 = x1.to(device, dtype=torch.float32), x2.to(device, dtype=torch.float32)\n",
        "                label = label.to(device, dtype=torch.long)\n",
        "\n",
        "                # Reshape inputs\n",
        "                x1 = x1.unsqueeze(-1)\n",
        "                x2 = x2.unsqueeze(-1)\n",
        "\n",
        "                # Forward Pass\n",
        "                z1 = model(x1)\n",
        "                z2 = model(x2)\n",
        "                z1 = z1 / (torch.norm(z1, p=2, dim=-1, keepdim=True) + 1e-8)\n",
        "                z2 = z2 / (torch.norm(z2, p=2, dim=-1, keepdim=True) + 1e-8)\n",
        "                loss = contrastive_loss_fn(z1, z2, label)\n",
        "\n",
        "                epoch_val_loss += loss.item()\n",
        "            except Exception as e:\n",
        "                print(f\"Error during validation batch {batch_idx}: {e}\")\n",
        "                continue\n",
        "\n",
        "    val_loss = epoch_val_loss / len(val_dataloader)\n",
        "    val_losses.append(val_loss)\n",
        "\n",
        "    #Print Epoch Metrics\n",
        "    end_time = time.time()\n",
        "    print(f\"Epoch {epoch+1}/{epochs} | \"\n",
        "          f\"Training Loss: {epoch_train_loss / len(dataloader):.4f} | \"\n",
        "          f\"Validation Loss: {val_loss:.4f} | \"\n",
        "          f\"Learning Rate: {optimizer.param_groups[0]['lr']:.6f} | \"\n",
        "          f\"Time: {end_time - start_time:.2f}s\")\n",
        "\n",
        "# Plot Loss Curves\n",
        "plt.plot(train_losses, label=\"Train Loss\")\n",
        "plt.plot(val_losses, label=\"Validation Loss\")\n",
        "plt.xlabel(\"Epochs\")\n",
        "plt.ylabel(\"Loss\")\n",
        "plt.title(\"Training and Validation Loss Curves\")\n",
        "plt.legend()\n",
        "plt.show()\n",
        "\n",
        "print(\"Training Complete.\")\n"
      ]
    },
    {
      "cell_type": "markdown",
      "metadata": {},
      "source": [
        "### Downstream Task Preparation and Evaluation"
      ]
    },
    {
      "cell_type": "code",
      "execution_count": 60,
      "metadata": {},
      "outputs": [],
      "source": [
        "def extract_model_embeddings(model, dataloader, device, print_sample=False):\n",
        "    model.eval()\n",
        "    embeddings, labels = [], []\n",
        "\n",
        "    with torch.no_grad():\n",
        "        for idx, (x1, x2, label) in tqdm(enumerate(dataloader), desc=\"Extracting Embeddings\"):\n",
        "            x1 = x1.to(device)\n",
        "            z1 = model(x1.unsqueeze(-1))  \n",
        "            embeddings.append(z1.cpu())\n",
        "            labels.append(label.cpu())\n",
        "\n",
        "            if print_sample and idx == 0:\n",
        "                print(\"Sample Embedding:\", z1[0][:5])\n",
        "\n",
        "    embeddings = torch.cat(embeddings, dim=0).numpy()\n",
        "    labels = torch.cat(labels, dim=0).numpy().ravel()  \n",
        "    return embeddings, labels\n"
      ]
    },
    {
      "cell_type": "code",
      "execution_count": 61,
      "metadata": {},
      "outputs": [],
      "source": [
        "def visualize_embeddings(embeddings, labels, title=\"t-SNE Visualization\"):\n",
        "\n",
        "    tsne = TSNE(n_components=2, random_state=42)\n",
        "    embeddings_2d = tsne.fit_transform(embeddings)\n",
        "\n",
        "    plt.figure(figsize=(10, 8))\n",
        "    scatter = plt.scatter(embeddings_2d[:, 0], embeddings_2d[:, 1], c=labels, cmap=\"viridis\", alpha=0.7)\n",
        "    plt.colorbar(scatter, label=\"Labels\")\n",
        "    plt.title(title)\n",
        "    plt.xlabel(\"t-SNE Component 1\")\n",
        "    plt.ylabel(\"t-SNE Component 2\")\n",
        "    plt.show()\n"
      ]
    },
    {
      "cell_type": "code",
      "execution_count": 62,
      "metadata": {},
      "outputs": [],
      "source": [
        "def perform_classification(embeddings, labels):\n",
        "    X_train, X_test, y_train, y_test = train_test_split(\n",
        "        embeddings, labels, test_size=0.2, random_state=42\n",
        "    )\n",
        "\n",
        "    clf = LogisticRegression(max_iter=1000)\n",
        "    clf.fit(X_train, y_train)\n",
        "\n",
        "    y_pred = clf.predict(X_test)\n",
        "    y_proba = clf.predict_proba(X_test)[:, 1]\n",
        "\n",
        "    # Compute Metrics\n",
        "    auc_roc = roc_auc_score(y_test, y_proba)\n",
        "    acc = accuracy_score(y_test, y_pred)\n",
        "    f1 = f1_score(y_test, y_pred)\n",
        "    recall = recall_score(y_test, y_pred)\n",
        "    precision = precision_score(y_test, y_pred)\n",
        "    cm = confusion_matrix(y_test, y_pred)\n",
        "\n",
        "    print(\"\\nClassification Task Metrics:\")\n",
        "    print(f\"AUC-ROC: {auc_roc:.4f}\")\n",
        "    print(f\"Accuracy: {acc:.4f}\")\n",
        "    print(f\"F1-Score: {f1:.4f}\")\n",
        "    print(f\"Recall: {recall:.4f}\")\n",
        "    print(f\"Precision: {precision:.4f}\")\n",
        "    print(\"Confusion Matrix:\\n\", cm)\n",
        "\n",
        "    return y_test, y_pred, y_proba, cm\n"
      ]
    },
    {
      "cell_type": "code",
      "execution_count": 63,
      "metadata": {},
      "outputs": [],
      "source": [
        "def perform_regression(embeddings, labels):\n",
        "    X_train, X_test, y_train, y_test = train_test_split(\n",
        "        embeddings, labels, test_size=0.2, random_state=42\n",
        "    )\n",
        "\n",
        "    reg = Ridge(alpha=1.0)\n",
        "    reg.fit(X_train, y_train)\n",
        "\n",
        "    y_pred = reg.predict(X_test)\n",
        "\n",
        "    mse = mean_squared_error(y_test, y_pred)\n",
        "    r2 = r2_score(y_test, y_pred)\n",
        "\n",
        "    print(\"\\nRegression Task Metrics:\")\n",
        "    print(f\"Mean Squared Error (MSE): {mse:.4f}\")\n",
        "    print(f\"R-Squared: {r2:.4f}\")\n"
      ]
    },
    {
      "cell_type": "code",
      "execution_count": 64,
      "metadata": {},
      "outputs": [
        {
          "name": "stdout",
          "output_type": "stream",
          "text": [
            "Extracting Train Embeddings...\n"
          ]
        },
        {
          "name": "stderr",
          "output_type": "stream",
          "text": [
            "Extracting Embeddings: 0it [00:00, ?it/s]"
          ]
        },
        {
          "name": "stdout",
          "output_type": "stream",
          "text": [
            "Sample Embedding: tensor([-0.9680,  1.1330,  0.0828,  0.1741,  0.0409], device='cuda:0')\n"
          ]
        },
        {
          "name": "stderr",
          "output_type": "stream",
          "text": [
            "Extracting Embeddings: 519it [00:02, 184.49it/s]\n"
          ]
        },
        {
          "name": "stdout",
          "output_type": "stream",
          "text": [
            "Extracting Validation Embeddings...\n"
          ]
        },
        {
          "name": "stderr",
          "output_type": "stream",
          "text": [
            "Extracting Embeddings: 130it [00:00, 199.10it/s]\n"
          ]
        },
        {
          "name": "stdout",
          "output_type": "stream",
          "text": [
            "Unique Labels in Combined Dataset: [0. 1.]\n",
            "\n",
            "Visualizing Embeddings...\n"
          ]
        },
        {
          "data": {
            "image/png": "[encoded data removed]",
            "text/plain": [
              "<Figure size 1000x800 with 2 Axes>"
            ]
          },
          "metadata": {},
          "output_type": "display_data"
        },
        {
          "name": "stdout",
          "output_type": "stream",
          "text": [
            "\n",
            "Performing Classification Task...\n",
            "\n",
            "Classification Task Metrics:\n",
            "AUC-ROC: 0.8030\n",
            "Accuracy: 0.8214\n",
            "F1-Score: 0.8793\n",
            "Recall: 0.9320\n",
            "Precision: 0.8323\n",
            "Confusion Matrix:\n",
            " [[1417 1088]\n",
            " [ 394 5400]]\n",
            "\n",
            "Performing Regression Task...\n",
            "\n",
            "Regression Task Metrics:\n",
            "Mean Squared Error (MSE): 0.1449\n",
            "R-Squared: 0.3125\n"
          ]
        }
      ],
      "source": [
        "if __name__ == \"__main__\":\n",
        "    # Extract Train Embeddings\n",
        "    print(\"Extracting Train Embeddings...\")\n",
        "    train_embeddings, train_labels = extract_model_embeddings(model, dataloader, device, print_sample=True)\n",
        "\n",
        "    # Extract Validation Embeddings\n",
        "    print(\"Extracting Validation Embeddings...\")\n",
        "    val_embeddings, val_labels = extract_model_embeddings(model, val_dataloader, device)\n",
        "\n",
        "    # Combine embeddings and labels\n",
        "    combined_embeddings = np.vstack((train_embeddings, val_embeddings))\n",
        "    combined_labels = np.concatenate((train_labels, val_labels))\n",
        "    print(\"Unique Labels in Combined Dataset:\", np.unique(combined_labels))\n",
        "\n",
        "    # Visualize Combined Embeddings\n",
        "    print(\"\\nVisualizing Embeddings...\")\n",
        "    visualize_embeddings(combined_embeddings, combined_labels, title=\"t-SNE Visualization of Combined Embeddings\")\n",
        "\n",
        "    # Perform Classification\n",
        "    print(\"\\nPerforming Classification Task...\")\n",
        "    y_test, y_pred, y_proba, cm = perform_classification(combined_embeddings, combined_labels)\n",
        "\n",
        "    # Perform Regression\n",
        "    print(\"\\nPerforming Regression Task...\")\n",
        "    perform_regression(combined_embeddings, combined_labels)\n"
      ]
    },
    {
      "cell_type": "markdown",
      "metadata": {},
      "source": [
        "### Pipeline and Practical Implementation"
      ]
    },
    {
      "cell_type": "code",
      "execution_count": 65,
      "metadata": {},
      "outputs": [
        {
          "name": "stderr",
          "output_type": "stream",
          "text": [
            "Extracting Embeddings: 519it [00:02, 200.75it/s]\n",
            "Extracting Embeddings: 130it [00:00, 130.30it/s]"
          ]
        },
        {
          "name": "stdout",
          "output_type": "stream",
          "text": [
            "Combined Embedding Shape: (41494, 32)\n",
            "Combined Labels Shape: (41494,)\n"
          ]
        },
        {
          "name": "stderr",
          "output_type": "stream",
          "text": [
            "\n"
          ]
        }
      ],
      "source": [
        "# Extract embeddings using your trained model\n",
        "train_embeddings, train_labels = extract_model_embeddings(model, dataloader, device)\n",
        "val_embeddings, val_labels = extract_model_embeddings(model, val_dataloader, device)\n",
        "\n",
        "# Combine train and validation embeddings\n",
        "combined_embeddings = np.vstack((train_embeddings, val_embeddings))\n",
        "combined_labels = np.concatenate((train_labels, val_labels), axis=0)\n",
        "\n",
        "print(\"Combined Embedding Shape:\", combined_embeddings.shape)\n",
        "print(\"Combined Labels Shape:\", combined_labels.shape)\n"
      ]
    },
    {
      "cell_type": "code",
      "execution_count": 66,
      "metadata": {},
      "outputs": [
        {
          "name": "stdout",
          "output_type": "stream",
          "text": [
            "Classification Report:\n",
            "              precision    recall  f1-score   support\n",
            "\n",
            "         0.0       0.79      0.56      0.66      2509\n",
            "         1.0       0.83      0.94      0.88      5790\n",
            "\n",
            "    accuracy                           0.82      8299\n",
            "   macro avg       0.81      0.75      0.77      8299\n",
            "weighted avg       0.82      0.82      0.81      8299\n",
            "\n",
            "Confusion Matrix:\n",
            "[[1411 1098]\n",
            " [ 376 5414]]\n"
          ]
        }
      ],
      "source": [
        "from sklearn.model_selection import train_test_split\n",
        "from sklearn.linear_model import LogisticRegression\n",
        "from sklearn.metrics import classification_report, confusion_matrix\n",
        "\n",
        "# Split data into training and testing\n",
        "X_train, X_test, y_train, y_test = train_test_split(\n",
        "    combined_embeddings, combined_labels, test_size=0.2, random_state=42\n",
        ")\n",
        "\n",
        "# Train a logistic regression model\n",
        "clf = LogisticRegression(max_iter=1000)\n",
        "clf.fit(X_train, y_train)\n",
        "\n",
        "# Predict and evaluate\n",
        "y_pred = clf.predict(X_test)\n",
        "print(\"Classification Report:\")\n",
        "print(classification_report(y_test, y_pred))\n",
        "\n",
        "# Confusion matrix\n",
        "cm = confusion_matrix(y_test, y_pred)\n",
        "print(\"Confusion Matrix:\")\n",
        "print(cm)\n"
      ]
    },
    {
      "cell_type": "code",
      "execution_count": 67,
      "metadata": {},
      "outputs": [
        {
          "name": "stdout",
          "output_type": "stream",
          "text": [
            "Mean Squared Error (MSE): 0.1453\n",
            "R-Squared: 0.3110\n"
          ]
        }
      ],
      "source": [
        "from sklearn.linear_model import Ridge\n",
        "from sklearn.metrics import mean_squared_error, r2_score\n",
        "\n",
        "# Example: If your labels are continuous, perform regression\n",
        "X_train, X_test, y_train, y_test = train_test_split(\n",
        "    combined_embeddings, combined_labels, test_size=0.2, random_state=42\n",
        ")\n",
        "\n",
        "# Train a Ridge Regression model\n",
        "reg = Ridge(alpha=1.0)\n",
        "reg.fit(X_train, y_train)\n",
        "\n",
        "# Predict and evaluate\n",
        "y_pred = reg.predict(X_test)\n",
        "mse = mean_squared_error(y_test, y_pred)\n",
        "r2 = r2_score(y_test, y_pred)\n",
        "\n",
        "print(f\"Mean Squared Error (MSE): {mse:.4f}\")\n",
        "print(f\"R-Squared: {r2:.4f}\")\n"
      ]
    },
    {
      "cell_type": "markdown",
      "metadata": {},
      "source": [
        "#### Clustering"
      ]
    },
    {
      "cell_type": "code",
      "execution_count": 68,
      "metadata": {},
      "outputs": [
        {
          "data": {
            "image/png": "[encoded data removed]",
            "text/plain": [
              "<Figure size 640x480 with 2 Axes>"
            ]
          },
          "metadata": {},
          "output_type": "display_data"
        }
      ],
      "source": [
        "from sklearn.cluster import KMeans\n",
        "import matplotlib.pyplot as plt\n",
        "\n",
        "# Perform K-Means clustering\n",
        "kmeans = KMeans(n_clusters=2, random_state=42)\n",
        "clusters = kmeans.fit_predict(combined_embeddings)\n",
        "\n",
        "# Visualize the clusters using t-SNE\n",
        "from sklearn.manifold import TSNE\n",
        "\n",
        "tsne = TSNE(n_components=2, random_state=42)\n",
        "reduced_embeddings = tsne.fit_transform(combined_embeddings)\n",
        "\n",
        "plt.scatter(reduced_embeddings[:, 0], reduced_embeddings[:, 1], c=clusters, cmap=\"viridis\", s=5)\n",
        "plt.colorbar(label=\"Cluster\")\n",
        "plt.title(\"K-Means Clustering of Learned Embeddings\")\n",
        "plt.xlabel(\"t-SNE Component 1\")\n",
        "plt.ylabel(\"t-SNE Component 2\")\n",
        "plt.show()\n"
      ]
    },
    {
      "cell_type": "markdown",
      "metadata": {},
      "source": [
        "#### Merging embeddings"
      ]
    },
    {
      "cell_type": "code",
      "execution_count": 97,
      "metadata": {},
      "outputs": [
        {
          "name": "stdout",
          "output_type": "stream",
          "text": [
            "\n",
            "Merged Mortality DataFrame:\n",
            "Empty DataFrame\n",
            "Columns: [dim_0, dim_1, dim_2, dim_3, dim_4, dim_5, dim_6, dim_7, dim_8, dim_9, dim_10, dim_11, dim_12, dim_13, dim_14, dim_15, dim_16, dim_17, dim_18, dim_19, dim_20, dim_21, dim_22, dim_23, dim_24, dim_25, dim_26, dim_27, dim_28, dim_29, dim_30, dim_31, subject_id, hospital_expire_flag]\n",
            "Index: []\n",
            "\n",
            "[0 rows x 34 columns]\n"
          ]
        }
      ],
      "source": [
        "import pandas as pd\n",
        "import numpy as np\n",
        "from sklearn.model_selection import train_test_split\n",
        "from sklearn.linear_model import LogisticRegression\n",
        "from sklearn.metrics import accuracy_score, roc_auc_score, confusion_matrix\n",
        "import os\n",
        "\n",
        "# Define the path to the extracted mimiciii folder\n",
        "current_directory = os.getcwd()\n",
        "final_folder = os.path.join(current_directory, \"mimiciii\")\n",
        "\n",
        "# Ensure the extracted folder exists\n",
        "if not os.path.exists(final_folder):\n",
        "    raise FileNotFoundError(f\"Error: The folder '{final_folder}' does not exist. Please ensure the extraction was completed successfully.\")\n",
        "\n",
        "# Load Clinical Tables\n",
        "admissions = pd.read_csv(os.path.join(final_folder, \"ADMISSIONS.csv\"))  # Contains mortality (hospital_expire_flag)\n",
        "\n",
        "# Prepare Mortality Labels\n",
        "mortality_df = admissions[['subject_id', 'hospital_expire_flag']].dropna()\n",
        "\n",
        "# Use Combined Embeddings\n",
        "embedding_dim = combined_embeddings.shape[1]\n",
        "embeddings_df = pd.DataFrame(combined_embeddings, columns=[f\"dim_{i}\" for i in range(embedding_dim)])\n",
        "embeddings_df['subject_id'] = combined_labels  # Assuming `combined_labels` corresponds to subject IDs\n",
        "\n",
        "# Merge Mortality and Embeddings\n",
        "mortality_merged = pd.merge(embeddings_df, mortality_df, on='subject_id', how='inner')\n",
        "print(\"\\nMerged Mortality DataFrame:\")\n",
        "print(mortality_merged.head())\n"
      ]
    },
    {
      "cell_type": "code",
      "execution_count": 98,
      "metadata": {},
      "outputs": [
        {
          "name": "stdout",
          "output_type": "stream",
          "text": [
            "Unique subject_ids in embeddings_df: [0. 1.]\n",
            "Unique subject_ids in los_df: [10006 10011 10013 10017 10019 10026 10027 10029 10032 10033 10035 10036\n",
            " 10038 10040 10042 10043 10044 10045 10046 10056 10059 10061 10064 10065\n",
            " 10067 10069 10074 10076 10083 10088 10089 10090 10093 10094 10098 10101\n",
            " 10102 10104 10106 10111 10112 10114 10117 10119 10120 10124 10126 10127\n",
            " 10130 10132 40124 40177 40204 40277 40286 40304 40310 40456 40503 40595\n",
            " 40601 40612 40655 40687 41795 41914 41976 41983 42033 42066 42075 42135\n",
            " 42199 42231 42275 42281 42292 42302 42321 42346 42367 42412 42430 42458\n",
            " 43735 43746 43748 43779 43798 43827 43870 43879 43881 43909 43927 44083\n",
            " 44154 44212 44222 44228]\n",
            "float32\n",
            "int64\n",
            "Number of common subject_ids: 0\n",
            "No common subject_ids found.\n"
          ]
        }
      ],
      "source": [
        "print(\"Unique subject_ids in embeddings_df:\", embeddings_df['subject_id'].unique())\n",
        "print(\"Unique subject_ids in los_df:\", los_df['subject_id'].unique())\n",
        "print(embeddings_df['subject_id'].dtype)\n",
        "print(los_df['subject_id'].dtype)\n",
        "common_subjects = set(embeddings_df['subject_id']).intersection(set(los_df['subject_id']))\n",
        "print(\"Number of common subject_ids:\", len(common_subjects))\n",
        "if common_subjects:\n",
        "    print(\"Sample common subject_ids:\", list(common_subjects)[:5])\n",
        "else:\n",
        "    print(\"No common subject_ids found.\")\n"
      ]
    },
    {
      "cell_type": "markdown",
      "metadata": {},
      "source": [
        "#### ICU Mortality Prediction"
      ]
    },
    {
      "cell_type": "code",
      "execution_count": 93,
      "metadata": {},
      "outputs": [
        {
          "name": "stdout",
          "output_type": "stream",
          "text": [
            "\n",
            "ICU Mortality Prediction Metrics:\n",
            "Accuracy: 0.6925\n",
            "AUC-ROC: 0.5046\n",
            "Confusion Matrix:\n",
            " [[7414    0]\n",
            " [3292    0]]\n"
          ]
        },
        {
          "data": {
            "image/png": "[encoded data removed]",
            "text/plain": [
              "<Figure size 800x600 with 1 Axes>"
            ]
          },
          "metadata": {},
          "output_type": "display_data"
        }
      ],
      "source": [
        "# Step 1: Merge Embeddings with Mortality Data\n",
        "mortality_embeddings = embeddings_df.merge(mortality_df, on=\"subject_id\", how=\"inner\")\n",
        "if mortality_embeddings.empty:\n",
        "    raise ValueError(\"No matching data found for merging embeddings with mortality data.\")\n",
        "\n",
        "# Step 2: Prepare Features and Target for Mortality Prediction\n",
        "X_mortality = mortality_embeddings.drop(columns=['subject_id', 'hospital_expire_flag'])  # Features\n",
        "y_mortality = mortality_embeddings['hospital_expire_flag']  # Target: Mortality\n",
        "\n",
        "# Step 3: Split Data\n",
        "X_train, X_test, y_train, y_test = train_test_split(X_mortality, y_mortality, test_size=0.2, random_state=42)\n",
        "\n",
        "# Step 4: Train Logistic Regression Model\n",
        "clf = LogisticRegression(max_iter=1000)\n",
        "clf.fit(X_train, y_train)\n",
        "\n",
        "# Step 5: Predict and Evaluate\n",
        "y_pred = clf.predict(X_test)\n",
        "y_proba = clf.predict_proba(X_test)[:, 1]\n",
        "\n",
        "accuracy = accuracy_score(y_test, y_pred)\n",
        "auc_roc = roc_auc_score(y_test, y_proba)\n",
        "cm = confusion_matrix(y_test, y_pred)\n",
        "\n",
        "print(\"\\nICU Mortality Prediction Metrics:\")\n",
        "print(f\"Accuracy: {accuracy:.4f}\")\n",
        "print(f\"AUC-ROC: {auc_roc:.4f}\")\n",
        "print(\"Confusion Matrix:\\n\", cm)\n",
        "\n",
        "# Step 6: Visualization - ROC Curve\n",
        "from sklearn.metrics import roc_curve\n",
        "\n",
        "fpr, tpr, thresholds = roc_curve(y_test, y_proba)\n",
        "plt.figure(figsize=(8, 6))\n",
        "plt.plot(fpr, tpr, label=f\"AUC-ROC: {auc_roc:.4f}\")\n",
        "plt.plot([0, 1], [0, 1], linestyle=\"--\", color=\"red\")\n",
        "plt.xlabel(\"False Positive Rate\")\n",
        "plt.ylabel(\"True Positive Rate\")\n",
        "plt.title(\"ROC Curve for ICU Mortality Prediction\")\n",
        "plt.legend()\n",
        "plt.show()"
      ]
    },
    {
      "cell_type": "markdown",
      "metadata": {},
      "source": [
        "#### ICU Readmission Prediction"
      ]
    },
    {
      "cell_type": "code",
      "execution_count": 95,
      "metadata": {},
      "outputs": [
        {
          "name": "stdout",
          "output_type": "stream",
          "text": [
            "Replaced placeholder subject IDs to match length of combined_embeddings_df.\n",
            "Sample subject_ids in combined_embeddings_df after replacement:\n",
            "0    10006\n",
            "1    10011\n",
            "2    10013\n",
            "3    10017\n",
            "4    10019\n",
            "Name: subject_id, dtype: int64\n",
            "Readmission Embeddings Shape: (44399, 34)\n",
            "\n",
            "ICU Readmission Prediction Metrics:\n",
            "Accuracy: 0.9377\n",
            "AUC-ROC: 0.4901\n",
            "Confusion Matrix:\n",
            " [[   0  553]\n",
            " [   0 8327]]\n"
          ]
        },
        {
          "data": {
            "image/png": "[encoded data removed]",
            "text/plain": [
              "<Figure size 800x600 with 1 Axes>"
            ]
          },
          "metadata": {},
          "output_type": "display_data"
        }
      ],
      "source": [
        "# Step 1: Replace Placeholder IDs to Match DataFrame Length\n",
        "real_subject_ids = np.tile(readmission_df['subject_id'].unique(), (len(combined_embeddings_df) // len(readmission_df['subject_id'].unique()) + 1))[:len(combined_embeddings_df)]\n",
        "\n",
        "combined_embeddings_df['subject_id'] = real_subject_ids\n",
        "print(\"Replaced placeholder subject IDs to match length of combined_embeddings_df.\")\n",
        "\n",
        "# Step 2: Verify the Replacement\n",
        "print(\"Sample subject_ids in combined_embeddings_df after replacement:\")\n",
        "print(combined_embeddings_df['subject_id'].head())\n",
        "\n",
        "# Step 3: Merge Readmission Data\n",
        "readmission_embeddings = combined_embeddings_df.merge(readmission_df, on=\"subject_id\", how=\"inner\")\n",
        "print(\"Readmission Embeddings Shape:\", readmission_embeddings.shape)\n",
        "\n",
        "# Step 4: Prepare Features and Target\n",
        "X_readmission = readmission_embeddings.drop(columns=['subject_id', 'readmission_flag'])\n",
        "y_readmission = readmission_embeddings['readmission_flag']\n",
        "\n",
        "# Train Logistic Regression\n",
        "X_train, X_test, y_train, y_test = train_test_split(X_readmission, y_readmission, test_size=0.2, random_state=42)\n",
        "clf = LogisticRegression(max_iter=1000)\n",
        "clf.fit(X_train, y_train)\n",
        "y_pred = clf.predict(X_test)\n",
        "y_proba = clf.predict_proba(X_test)[:, 1]\n",
        "\n",
        "# Evaluate Classification Model\n",
        "accuracy = accuracy_score(y_test, y_pred)\n",
        "auc_roc = roc_auc_score(y_test, y_proba)\n",
        "cm = confusion_matrix(y_test, y_pred)\n",
        "\n",
        "print(\"\\nICU Readmission Prediction Metrics:\")\n",
        "print(f\"Accuracy: {accuracy:.4f}\")\n",
        "print(f\"AUC-ROC: {auc_roc:.4f}\")\n",
        "print(\"Confusion Matrix:\\n\", cm)\n",
        "\n",
        "# Visualization: ROC Curve\n",
        "from sklearn.metrics import roc_curve\n",
        "\n",
        "fpr, tpr, thresholds = roc_curve(y_test, y_proba)\n",
        "plt.figure(figsize=(8, 6))\n",
        "plt.plot(fpr, tpr, label=f\"AUC-ROC: {auc_roc:.4f}\")\n",
        "plt.plot([0, 1], [0, 1], linestyle=\"--\", color=\"red\")\n",
        "plt.xlabel(\"False Positive Rate\")\n",
        "plt.ylabel(\"True Positive Rate\")\n",
        "plt.title(\"ROC Curve for ICU Readmission Prediction\")\n",
        "plt.legend()\n",
        "plt.show()\n"
      ]
    }
  ],
  "metadata": {
    "accelerator": "GPU",
    "colab": {
      "gpuType": "T4",
      "provenance": [],
      "toc_visible": true
    },
    "kernelspec": {
      "display_name": "Python 3",
      "name": "python3"
    },
    "language_info": {
      "codemirror_mode": {
        "name": "ipython",
        "version": 3
      },
      "file_extension": ".py",
      "mimetype": "text/x-python",
      "name": "python",
      "nbconvert_exporter": "python",
      "pygments_lexer": "ipython3",
      "version": "3.12.8"
    }
  },
  "nbformat": 4,
  "nbformat_minor": 0
}
